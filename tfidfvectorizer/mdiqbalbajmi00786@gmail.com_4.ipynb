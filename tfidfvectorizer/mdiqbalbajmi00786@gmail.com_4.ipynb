{
 "cells": [
  {
   "cell_type": "markdown",
   "metadata": {
    "colab_type": "text",
    "id": "h9464I-uxLiw"
   },
   "source": [
    "# Assignment"
   ]
  },
  {
   "cell_type": "markdown",
   "metadata": {
    "colab_type": "text",
    "id": "IvLvmewlxLix"
   },
   "source": [
    "<font face='Segoe UI'>\n",
    "    \n",
    "   <h4><strong>What does tf-idf mean?</strong></h4>\n",
    "\n",
    "   <p>    \n",
    "Tf-idf stands for <em>term frequency-inverse document frequency</em>, and the tf-idf weight is a weight often used in information retrieval and text mining. This weight is a statistical measure used to evaluate how important a word is to a document in a collection or corpus. The importance increases proportionally to the number of times a word appears in the document but is offset by the frequency of the word in the corpus. Variations of the tf-idf weighting scheme are often used by search engines as a central tool in scoring and ranking a document's relevance given a user query.\n",
    "</p>\n",
    "    \n",
    "   <p>\n",
    "One of the simplest ranking functions is computed by summing the tf-idf for each query term; many more sophisticated ranking functions are variants of this simple model.\n",
    "</p>\n",
    "    \n",
    "   <p>\n",
    "Tf-idf can be successfully used for stop-words filtering in various subject fields including text summarization and classification.\n",
    "</p>\n",
    "    \n",
    "</font>"
   ]
  },
  {
   "cell_type": "markdown",
   "metadata": {
    "colab_type": "text",
    "id": "4XLaGFUMxLiy"
   },
   "source": [
    "<font face='georgia'>\n",
    "    <h4><strong>How to Compute:</strong></h4>\n",
    "\n",
    "Typically, the tf-idf weight is composed by two terms: the first computes the normalized Term Frequency (TF), aka. the number of times a word appears in a document, divided by the total number of words in that document; the second term is the Inverse Document Frequency (IDF), computed as the logarithm of the number of the documents in the corpus divided by the number of documents where the specific term appears.\n",
    "\n",
    " <ul>\n",
    "    <li>\n",
    "<strong>TF:</strong> Term Frequency, which measures how frequently a term occurs in a document. Since every document is different in length, it is possible that a term would appear much more times in long documents than shorter ones. Thus, the term frequency is often divided by the document length (aka. the total number of terms in the document) as a way of normalization: <br>\n",
    "\n",
    "$TF(t) = \\frac{\\text{Number of times term t appears in a document}}{\\text{Total number of terms in the document}}.$\n",
    "</li>\n",
    "<li>\n",
    "<strong>IDF:</strong> Inverse Document Frequency, which measures how important a term is. While computing TF, all terms are considered equally important. However it is known that certain terms, such as \"is\", \"of\", and \"that\", may appear a lot of times but have little importance. Thus we need to weigh down the frequent terms while scale up the rare ones, by computing the following: <br>\n",
    "\n",
    "$IDF(t) = \\log_{e}\\frac{\\text{Total  number of documents}} {\\text{Number of documents with term t in it}}.$\n",
    "for numerical stabiltiy we will be changing this formula little bit\n",
    "$IDF(t) = \\log_{e}\\frac{\\text{Total  number of documents}} {\\text{Number of documents with term t in it}+1}.$\n",
    "</li>\n",
    "</ul>\n",
    "\n",
    "<br>\n",
    "<h4><strong>Example</strong></h4>\n",
    "<p>\n",
    "\n",
    "Consider a document containing 100 words wherein the word cat appears 3 times. The term frequency (i.e., tf) for cat is then (3 / 100) = 0.03. Now, assume we have 10 million documents and the word cat appears in one thousand of these. Then, the inverse document frequency (i.e., idf) is calculated as log(10,000,000 / 1,000) = 4. Thus, the Tf-idf weight is the product of these quantities: 0.03 * 4 = 0.12.\n",
    "</p>\n",
    "</font>"
   ]
  },
  {
   "cell_type": "markdown",
   "metadata": {
    "colab_type": "text",
    "id": "dg2ooa4DxLiz"
   },
   "source": [
    "## Task-1"
   ]
  },
  {
   "cell_type": "markdown",
   "metadata": {
    "colab_type": "text",
    "id": "TAcTjhO8xLiz"
   },
   "source": [
    "<font face='Segoe UI'>\n",
    "    <h4><strong>1. Build a TFIDF Vectorizer & compare its results with Sklearn:</strong></h4>\n",
    "\n",
    "<ul>\n",
    "    <li> As a part of this task you will be implementing TFIDF vectorizer on a collection of text documents.</li>\n",
    "    <br>\n",
    "    <li> You should compare the results of your own implementation of TFIDF vectorizer with that of sklearns implemenation TFIDF vectorizer.</li>\n",
    "    <br>\n",
    "    <li> Sklearn does few more tweaks in the implementation of its version of TFIDF vectorizer, so to replicate the exact results you would need to add following things to your custom implementation of tfidf vectorizer:\n",
    "       <ol>\n",
    "        <li> Sklearn has its vocabulary generated from idf sroted in alphabetical order</li>\n",
    "        <li> Sklearn formula of idf is different from the standard textbook formula. Here the constant <strong>\"1\"</strong> is added to the numerator and denominator of the idf as if an extra document was seen containing every term in the collection exactly once, which prevents zero divisions.<br>\n",
    "            <br>\n",
    " $IDF(t) = 1+\\log_{e}\\frac{1\\text{ }+\\text{ Total  number of documents in collection}} {1+\\text{Number of documents with term t in it}}.$</br>\n",
    "        </li>\n",
    "        <li> Sklearn applies L2-normalization on its output matrix.</li>\n",
    "        <li> The final output of sklearn tfidf vectorizer is a sparse matrix.</li>\n",
    "    </ol>\n",
    "    <br>\n",
    "    <li>Steps to approach this task:\n",
    "    <ol>\n",
    "        <li> You would have to write both fit and transform methods for your custom implementation of tfidf vectorizer.</li>\n",
    "        <li> Print out the alphabetically sorted voacb after you fit your data and check if its the same as that of the feature names from sklearn tfidf vectorizer. </li>\n",
    "        <li> Print out the idf values from your implementation and check if its the same as that of sklearns tfidf vectorizer idf values. </li>\n",
    "        <li> Once you get your voacb and idf values to be same as that of sklearns implementation of tfidf vectorizer, proceed to the below steps. </li>\n",
    "        <li> Make sure the output of your implementation is a sparse matrix. Before generating the final output, you need to normalize your sparse matrix using L2 normalization. You can refer to this link https://scikit-learn.org/stable/modules/generated/sklearn.preprocessing.normalize.html </li>\n",
    "        <li> After completing the above steps, print the output of your custom implementation and compare it with sklearns implementation of tfidf vectorizer.</li>\n",
    "        <li> To check the output of a single document in your collection of documents,  you can convert the sparse matrix related only to that document into dense matrix and print it.</li>\n",
    "        </ol>\n",
    "    </li>\n",
    "    <br>\n",
    "   </ul>\n",
    "\n",
    "  <p> <font color=\"#e60000\"><strong>Note-1: </strong></font> All the necessary outputs of sklearns tfidf vectorizer have been provided as reference in this notebook, you can compare your outputs as mentioned in the above steps, with these outputs.<br>\n",
    "   <font color=\"#e60000\"><strong>Note-2: </strong></font> The output of your custom implementation and that of sklearns implementation would match only with the collection of document strings provided to you as reference in this notebook. It would not match for strings that contain capital letters or punctuations, etc, because sklearn version of tfidf vectorizer deals with such strings in a different way. To know further details about how sklearn tfidf vectorizer works with such string, you can always refer to its official documentation.<br>\n",
    "   <font color=\"#e60000\"><strong>Note-3: </strong></font> During this task, it would be helpful for you to debug the code you write with print statements wherever necessary. But when you are finally submitting the assignment, make sure your code is readable and try not to print things which are not part of this task.\n",
    "    </p>"
   ]
  },
  {
   "cell_type": "markdown",
   "metadata": {
    "colab_type": "text",
    "id": "OnV82tg1xLi0"
   },
   "source": [
    "### Corpus"
   ]
  },
  {
   "cell_type": "code",
   "execution_count": 214,
   "metadata": {
    "colab": {},
    "colab_type": "code",
    "id": "bUsYm9wjxLi1"
   },
   "outputs": [],
   "source": [
    "## SkLearn# Collection of string documents\n",
    "\n",
    "corpus = [\n",
    "     'this is the first document',\n",
    "     'this document is the second document',\n",
    "     'and this is the third one',\n",
    "     'is this the first document',\n",
    "]"
   ]
  },
  {
   "cell_type": "markdown",
   "metadata": {
    "colab_type": "text",
    "id": "eLwmFZfKxLi4"
   },
   "source": [
    "### SkLearn Implementation"
   ]
  },
  {
   "cell_type": "code",
   "execution_count": 215,
   "metadata": {
    "colab": {},
    "colab_type": "code",
    "id": "Np4dfQOkxLi4"
   },
   "outputs": [],
   "source": [
    "from sklearn.feature_extraction.text import TfidfVectorizer\n",
    "vectorizer = TfidfVectorizer()\n",
    "vectorizer.fit(corpus)\n",
    "skl_output = vectorizer.transform(corpus)"
   ]
  },
  {
   "cell_type": "code",
   "execution_count": 216,
   "metadata": {
    "colab": {},
    "colab_type": "code",
    "id": "-7Om8YpYxLi6",
    "outputId": "0a3bd0f5-4424-4400-944f-4482a80bd799"
   },
   "outputs": [
    {
     "name": "stdout",
     "output_type": "stream",
     "text": [
      "['and', 'document', 'first', 'is', 'one', 'second', 'the', 'third', 'this']\n"
     ]
    }
   ],
   "source": [
    "# sklearn feature names, they are sorted in alphabetic order by default.\n",
    "\n",
    "print(vectorizer.get_feature_names())"
   ]
  },
  {
   "cell_type": "code",
   "execution_count": 217,
   "metadata": {
    "colab": {},
    "colab_type": "code",
    "id": "dTKplK96xLi-",
    "outputId": "53722fa2-6756-4aa0-f179-37b578bb6890"
   },
   "outputs": [
    {
     "name": "stdout",
     "output_type": "stream",
     "text": [
      "[1.91629073 1.22314355 1.51082562 1.         1.91629073 1.91629073\n",
      " 1.         1.91629073 1.        ]\n"
     ]
    }
   ],
   "source": [
    "# Here we will print the sklearn tfidf vectorizer idf values after applying the fit method\n",
    "# After using the fit function on the corpus the vocab has 9 words in it, and each has its idf value.\n",
    "\n",
    "print(vectorizer.idf_)"
   ]
  },
  {
   "cell_type": "code",
   "execution_count": 218,
   "metadata": {
    "colab": {},
    "colab_type": "code",
    "id": "-CTiWHygxLjA",
    "outputId": "8d5a9cde-2c29-4afe-f7b4-1547e88dba4f"
   },
   "outputs": [
    {
     "data": {
      "text/plain": [
       "(4, 9)"
      ]
     },
     "execution_count": 218,
     "metadata": {},
     "output_type": "execute_result"
    }
   ],
   "source": [
    "# shape of sklearn tfidf vectorizer output after applying transform method.\n",
    "\n",
    "skl_output.shape"
   ]
  },
  {
   "cell_type": "code",
   "execution_count": 219,
   "metadata": {
    "colab": {},
    "colab_type": "code",
    "id": "bDKEpbA-xLjD",
    "outputId": "87dafd65-5313-443f-8c6e-1b05cc8c2543"
   },
   "outputs": [
    {
     "name": "stdout",
     "output_type": "stream",
     "text": [
      "  (0, 8)\t0.38408524091481483\n",
      "  (0, 6)\t0.38408524091481483\n",
      "  (0, 3)\t0.38408524091481483\n",
      "  (0, 2)\t0.5802858236844359\n",
      "  (0, 1)\t0.46979138557992045\n"
     ]
    }
   ],
   "source": [
    "# sklearn tfidf values for first line of the above corpus.\n",
    "# Here the output is a sparse matrix\n",
    "\n",
    "print(skl_output[0])"
   ]
  },
  {
   "cell_type": "code",
   "execution_count": 220,
   "metadata": {
    "colab": {},
    "colab_type": "code",
    "id": "3QWo34hexLjF",
    "outputId": "cdc04e08-989f-4bdc-dd7f-f1c82a9f90be",
    "scrolled": true
   },
   "outputs": [
    {
     "name": "stdout",
     "output_type": "stream",
     "text": [
      "[[0.         0.46979139 0.58028582 0.38408524 0.         0.\n",
      "  0.38408524 0.         0.38408524]\n",
      " [0.         0.6876236  0.         0.28108867 0.         0.53864762\n",
      "  0.28108867 0.         0.28108867]\n",
      " [0.51184851 0.         0.         0.26710379 0.51184851 0.\n",
      "  0.26710379 0.51184851 0.26710379]\n",
      " [0.         0.46979139 0.58028582 0.38408524 0.         0.\n",
      "  0.38408524 0.         0.38408524]]\n"
     ]
    }
   ],
   "source": [
    "# sklearn tfidf values for first line of the above corpus.\n",
    "# To understand the output better, here we are converting the sparse output matrix to dense matrix and printing it.\n",
    "# Notice that this output is normalized using L2 normalization. sklearn does this by default.\n",
    "\n",
    "print(skl_output.toarray())"
   ]
  },
  {
   "cell_type": "markdown",
   "metadata": {
    "colab_type": "text",
    "id": "qfIwx5LzxLjI"
   },
   "source": [
    "### Your custom implementation"
   ]
  },
  {
   "cell_type": "code",
   "execution_count": 12,
   "metadata": {
    "colab": {},
    "colab_type": "code",
    "id": "HjuCcJwXxLjJ"
   },
   "outputs": [],
   "source": [
    "# Write your code here.\n",
    "# Make sure its well documented and readble with appropriate comments.\n",
    "# Compare your results with the above sklearn tfidf vectorizer\n",
    "# You are not supposed to use any other library apart from the ones given below\n",
    "\n",
    "from collections import Counter\n",
    "from tqdm import tqdm\n",
    "from scipy.sparse import csr_matrix\n",
    "import math\n",
    "import operator\n",
    "from sklearn.preprocessing import normalize\n",
    "import numpy"
   ]
  },
  {
   "cell_type": "code",
   "execution_count": 13,
   "metadata": {},
   "outputs": [],
   "source": [
    "import math\n",
    "def sort_dictionary_by_value(dictionary, t_reverse=False):\n",
    "    '''\n",
    "    This function reverse the dictionary according to the value in ascending or descending order\n",
    "    this function returns the sorted dictionary \n",
    "    >>> temp_dict = {'a':20,'b':3,'c':5,'d':8}\n",
    "    >>> sorted_dict = sort_dictionary_by_value(temp_dict,True)\n",
    "    >>> sorted_dict\n",
    "    O[1]: {'a':20,'d':8,'c':5,'b':3}\n",
    "    '''\n",
    "    # change the dictionary into list of tuples of dictionary's values and keys\n",
    "    # step1-> access dictionary's values\n",
    "    # step2-> change step1 to list\n",
    "    # step3-> access dictionary's keys\n",
    "    # step4-> change step 3 to list\n",
    "    # step5-> zip step2 and step4(values and keys lists)\n",
    "    # step6-> typecast it to list again\n",
    "    temp_list = list(zip(list(dictionary.values()),list(dictionary.keys())))\n",
    "    \n",
    "    # Now, let's sort the list\n",
    "    temp_list.sort(reverse = t_reverse)\n",
    "    \n",
    "    for i, item in enumerate(temp_list):\n",
    "        temp = list(item)\n",
    "        temp.reverse()\n",
    "        temp = tuple(temp)\n",
    "        # override the temp_list\n",
    "        temp_list[i] = temp\n",
    "        \n",
    "    \n",
    "    again_dict = dict(temp_list)\n",
    "    \n",
    "    return again_dict# returning the dictionary"
   ]
  },
  {
   "cell_type": "code",
   "execution_count": 14,
   "metadata": {},
   "outputs": [],
   "source": [
    "# find how many review contain given word\n",
    "def containing_word(dataset,word):\n",
    "    \n",
    "    count = 0\n",
    "    for review in dataset:\n",
    "        if word in review:\n",
    "            count+=1\n",
    "    return count"
   ]
  },
  {
   "cell_type": "code",
   "execution_count": 221,
   "metadata": {},
   "outputs": [],
   "source": [
    "# let's create tfidf fit function\n",
    "\n",
    "# let's do some change in fit function.\n",
    "# impelement maximum feature functionality\n",
    "def fit(dataset):\n",
    "    '''\n",
    "    It returns the dictionary of feature names and their idf\n",
    "    '''\n",
    "    \n",
    "    # initialize an empty set to store unique words\n",
    "    # in the corpus to find idf of that word\n",
    "    unique_words = set() \n",
    "    # initialize feature_idf dictionary to return the final result\n",
    "    feature_idf = dict() \n",
    "    \n",
    "    # check if its list type or not\n",
    "    if isinstance(dataset,(list,)):\n",
    "        # first find the unique words in the dataset\n",
    "        for row in dataset:\n",
    "            for word in (row.split()):\n",
    "                unique_words.add(word)\n",
    "        \n",
    "        # how many reviews are there in the dataset\n",
    "        # to find the idf value\n",
    "        no_of_reviews = len(dataset)\n",
    "        \n",
    "        \n",
    "        for word in unique_words:# for each unique word in the reivew\n",
    "                if len(word)<2:# It is found that adjective has no less than 2 words\n",
    "                    continue\n",
    "                    \n",
    "                # otherwise\n",
    "                \n",
    "                # find how many reviews containing the given 'word'\n",
    "                no_of_reviews_contain_word = containing_word(dataset,word)\n",
    "                \n",
    "                # calculate the idf value according to the formula in sklearn official documentation\n",
    "                # to overcome the problem of zero division error\n",
    "                idf_value = 1+ math.log((1+no_of_reviews)/(1+no_of_reviews_contain_word))\n",
    "                \n",
    "                # storing the value in the dictionary\n",
    "                # key: 'word'\n",
    "                # value: 'idf' of that word\n",
    "                feature_idf[word]=idf_value\n",
    "\n",
    "        # sort dictionary by_value_return top 50 features\n",
    "        sorted_feature_idf = sort_dictionary_by_value(feature_idf, True)\n",
    "        \n",
    "        #Now, sort according to their keys\n",
    "        new_feature_idf = dict(sorted(sorted_feature_idf.items(),key = lambda kv:(kv[0], kv[1])))\n",
    "        \n",
    "        return new_feature_idf # returning unique words and their idf\n",
    "    else:\n",
    "        # if the dataset is not in the list format\n",
    "        print('you need to pass list of sentence')"
   ]
  },
  {
   "cell_type": "code",
   "execution_count": 222,
   "metadata": {},
   "outputs": [],
   "source": [
    " # fitting the corpus to custom implementation of tfidfvectorizer\n",
    "features = fit(corpus)"
   ]
  },
  {
   "cell_type": "code",
   "execution_count": 225,
   "metadata": {},
   "outputs": [
    {
     "data": {
      "text/plain": [
       "{'and': 1.916290731874155,\n",
       " 'document': 1.2231435513142097,\n",
       " 'first': 1.5108256237659907,\n",
       " 'is': 1.0,\n",
       " 'one': 1.916290731874155,\n",
       " 'second': 1.916290731874155,\n",
       " 'the': 1.0,\n",
       " 'third': 1.916290731874155,\n",
       " 'this': 1.0}"
      ]
     },
     "execution_count": 225,
     "metadata": {},
     "output_type": "execute_result"
    }
   ],
   "source": [
    "features"
   ]
  },
  {
   "cell_type": "code",
   "execution_count": 223,
   "metadata": {},
   "outputs": [
    {
     "name": "stdout",
     "output_type": "stream",
     "text": [
      "custom features\n",
      "['and', 'document', 'first', 'is', 'one', 'second', 'the', 'third', 'this']\n",
      "sklearn features\n",
      "['and', 'document', 'first', 'is', 'one', 'second', 'the', 'third', 'this']\n"
     ]
    }
   ],
   "source": [
    "# print the features after fitting the corpus to the custom tfidfVectorizer\n",
    "print('custom features')\n",
    "print(list(features.keys()))\n",
    "# features are as same as sklearn's .get_feature_names() returns\n",
    "print('sklearn features')\n",
    "print(vectorizer.get_feature_names())"
   ]
  },
  {
   "cell_type": "code",
   "execution_count": 224,
   "metadata": {},
   "outputs": [
    {
     "name": "stdout",
     "output_type": "stream",
     "text": [
      "custom idfs:\n",
      "[1.91629073 1.22314355 1.51082562 1.         1.91629073 1.91629073\n",
      " 1.         1.91629073 1.        ]\n",
      "sklearn idfs:\n",
      "[1.91629073 1.22314355 1.51082562 1.         1.91629073 1.91629073\n",
      " 1.         1.91629073 1.        ]\n"
     ]
    }
   ],
   "source": [
    "# import numpy\n",
    "# because sklearn's idf_ is in numpy.ndarray format\n",
    "import numpy as np\n",
    "\n",
    "# print idf of the gained features from the given corpus\n",
    "print('custom idfs:')\n",
    "print(np.array(list(features.values())))\n",
    "\n",
    "#sklearn idfs\n",
    "print('sklearn idfs:')\n",
    "print(vectorizer.idf_)\n"
   ]
  },
  {
   "cell_type": "code",
   "execution_count": 226,
   "metadata": {},
   "outputs": [],
   "source": [
    "\n",
    "# making transform function\n",
    "def transform(dataset, vocab):\n",
    "    # initializing lists of rows,columns,values to make sparse matrix\n",
    "    rows = []\n",
    "    columns = []\n",
    "    values = []\n",
    "    \n",
    "    \n",
    "    if  isinstance(dataset, (list,)):# if the dataset given is list\n",
    "        \n",
    "        for idx, row in enumerate(tqdm(dataset)):# for each review in the dataset\n",
    "            \n",
    "            word_freq = dict(Counter(row.split()))# find word frequency\n",
    "            \n",
    "            for word in (row.split()): # for each word in the reveiw\n",
    "                if len(word)<2:\n",
    "                    continue\n",
    "                    \n",
    "                \n",
    "                #find the column index from vocab\n",
    "                idf = vocab.get(word)\n",
    "                #find tf\n",
    "                tf = word_freq[word]/len(row)\n",
    "                #calculate tf_idf\n",
    "                tf_idf = tf*idf\n",
    "                         \n",
    "                #find the column index from vocab.features\n",
    "                col_index = list(vocab.keys()).index(word)\n",
    "                #we are storing the index of the document\n",
    "                rows.append(idx)\n",
    "                #we are storing the dimensions of the word\n",
    "                columns.append(col_index)\n",
    "                # we are storing the tf-idf of the word\n",
    "                values.append(tf_idf)\n",
    "        \n",
    "        # let's normalize our matrix\n",
    "        tfidf_matrix = csr_matrix((values,(rows,columns)),shape=(len(dataset),len(vocab)))\n",
    "        normalized_matrix = normalize(tfidf_matrix)\n",
    "        return normalized_matrix\n",
    "    else:    # else print the error message\n",
    "        print(\"you need to pass the dataset in list format\")"
   ]
  },
  {
   "cell_type": "code",
   "execution_count": 227,
   "metadata": {},
   "outputs": [
    {
     "name": "stderr",
     "output_type": "stream",
     "text": [
      "100%|████████████████████████████████████████████████████████████████████████████████████| 4/4 [00:00<00:00, 22.00it/s]\n"
     ]
    },
    {
     "name": "stdout",
     "output_type": "stream",
     "text": [
      "custom output:\n",
      "   (0, 1)\t0.46979138557992045\n",
      "  (0, 2)\t0.5802858236844359\n",
      "  (0, 3)\t0.3840852409148149\n",
      "  (0, 6)\t0.3840852409148149\n",
      "  (0, 8)\t0.3840852409148149\n"
     ]
    }
   ],
   "source": [
    "\n",
    "tfidf = transform(corpus,features)\n",
    "print('custom output:\\n',tfidf[0])\n",
    "# print('shape:',tfidf.toarray().shape)\n",
    "\n"
   ]
  },
  {
   "cell_type": "code",
   "execution_count": 228,
   "metadata": {},
   "outputs": [
    {
     "name": "stdout",
     "output_type": "stream",
     "text": [
      "['and', 'document', 'first', 'is', 'one', 'second', 'the', 'third', 'this'] \n",
      "\n",
      "custom output [[0.         0.46979139 0.58028582 0.38408524 0.         0.\n",
      "  0.38408524 0.         0.38408524]]\n",
      "scikit-learn output: [[0.         0.46979139 0.58028582 0.38408524 0.         0.\n",
      "  0.38408524 0.         0.38408524]]\n"
     ]
    }
   ],
   "source": [
    "print(list(features.keys()),'\\n')\n",
    "print('custom output',tfidf[0].toarray())\n",
    "print('scikit-learn output:',skl_output[0].toarray())#sklern result"
   ]
  },
  {
   "cell_type": "markdown",
   "metadata": {},
   "source": [
    "><font face='Segoe UI'>\n",
    "    <p style=\"font-size:16px\"><b>custom output and sklearn output is same above</b></p>"
   ]
  },
  {
   "cell_type": "code",
   "execution_count": 30,
   "metadata": {},
   "outputs": [
    {
     "name": "stdout",
     "output_type": "stream",
     "text": [
      "shape of idf array\n",
      "(4, 9)\n"
     ]
    }
   ],
   "source": [
    "# shape of idf array\n",
    "print('shape of idf array')\n",
    "print(tfidf.toarray().shape)"
   ]
  },
  {
   "cell_type": "code",
   "execution_count": null,
   "metadata": {},
   "outputs": [],
   "source": []
  },
  {
   "cell_type": "markdown",
   "metadata": {
    "colab_type": "text",
    "id": "MMxBmVZExLjK"
   },
   "source": [
    "## Task-2"
   ]
  },
  {
   "cell_type": "markdown",
   "metadata": {
    "colab_type": "text",
    "id": "51j_OtqAxLjL"
   },
   "source": [
    "<font face='Segoe UI'>\n",
    "    <h4><strong>2. Implement max features functionality:</strong></h4>\n",
    "\n",
    "<ul>\n",
    "    <li> As a part of this task you have to modify your fit and transform functions so that your vocab will contain only 50 terms with top idf scores.</li>\n",
    "    <br>\n",
    "    <li>This task is similar to your previous task, just that here your vocabulary is limited to only top 50 features names based on their idf values. Basically your output will have exactly 50 columns and the number of rows will depend on the number of documents you have in your corpus.</li>\n",
    "    <br>\n",
    "    <li>Here you will be give a pickle file, with file name <strong>cleaned_strings</strong>. You would have to load the corpus from this file and use it as input to your tfidf vectorizer.</li>\n",
    "    <br>\n",
    "    <li>Steps to approach this task:\n",
    "    <ol>\n",
    "        <li> You would have to write both fit and transform methods for your custom implementation of tfidf vectorizer, just like in the previous task. Additionally, here you have to limit the number of features generated to 50 as described above.</li>\n",
    "        <li> Now sort your vocab based in descending order of idf values and print out the words in the sorted voacb after you fit your data. Here you should be getting only 50 terms in your vocab. And make sure to print idf values for each term in your vocab. </li>\n",
    "        <li> Make sure the output of your implementation is a sparse matrix. Before generating the final output, you need to normalize your sparse matrix using L2 normalization. You can refer to this link https://scikit-learn.org/stable/modules/generated/sklearn.preprocessing.normalize.html </li>\n",
    "        <li> Now check the output of a single document in your collection of documents,  you can convert the sparse matrix related only to that document into dense matrix and print it. And this dense matrix should contain 1 row and 50 columns. </li>\n",
    "        </ol>\n",
    "    </li>\n",
    "    <br>\n",
    "   </ul>"
   ]
  },
  {
   "cell_type": "code",
   "execution_count": 41,
   "metadata": {
    "colab": {},
    "colab_type": "code",
    "id": "NHxPLlwNxLjL",
    "outputId": "9abd8e08-0e24-4975-9a13-4d3636d60323"
   },
   "outputs": [
    {
     "name": "stdout",
     "output_type": "stream",
     "text": [
      "Number of documents in corpus =  746\n"
     ]
    }
   ],
   "source": [
    "# Below is the code to load the cleaned_strings pickle file provided\n",
    "# Here corpus is of list type\n",
    "\n",
    "import pickle\n",
    "with open('cleaned_strings', 'rb') as f:\n",
    "    corpus = pickle.load(f)\n",
    "    \n",
    "# printing the length of the corpus loaded\n",
    "print(\"Number of documents in corpus = \",len(corpus))"
   ]
  },
  {
   "cell_type": "code",
   "execution_count": 42,
   "metadata": {
    "colab": {},
    "colab_type": "code",
    "id": "ZULfoOIdxLjQ"
   },
   "outputs": [],
   "source": [
    "# Write your code here.\n",
    "# Try not to hardcode any values.\n",
    "# Make sure its well documented and readble with appropriate comments."
   ]
  },
  {
   "cell_type": "markdown",
   "metadata": {
    "colab": {},
    "colab_type": "code",
    "id": "1_DJnnR3xLjR"
   },
   "source": [
    "## let's make fit and transform method"
   ]
  },
  {
   "cell_type": "code",
   "execution_count": 101,
   "metadata": {},
   "outputs": [],
   "source": [
    "import math\n",
    "def sort_dictionary_by_value(dictionary, t_reverse=False):\n",
    "    '''\n",
    "    This function reverse the dictionary according to the value in ascending or descending order\n",
    "    this function returns the sorted dictionary \n",
    "    >>> temp_dict = {'a':20,'b':3,'c':5,'d':8}\n",
    "    >>> sorted_dict = sort_dictionary_by_value(temp_dict,True)\n",
    "    >>> sorted_dict\n",
    "    O[1]: {'a':20,'d':8,'c':5,'b':3}\n",
    "    '''\n",
    "    # change the dictionary into list of tuples of dictionary's values and keys\n",
    "    # step1-> access dictionary's values\n",
    "    # step2-> change step1 to list\n",
    "    # step3-> access dictionary's keys\n",
    "    # step4-> change step 3 to list\n",
    "    # step5-> zip step2 and step4(values and keys lists)\n",
    "    # step6-> typecast it to list again\n",
    "    temp_list = list(zip(list(dictionary.values()),list(dictionary.keys())))\n",
    "    \n",
    "    # Now, let's sort the list\n",
    "    temp_list.sort(reverse = t_reverse)\n",
    "    \n",
    "    for i, item in enumerate(temp_list):\n",
    "        temp = list(item)\n",
    "        temp.reverse()\n",
    "        temp = tuple(temp)\n",
    "        # override the temp_list\n",
    "        temp_list[i] = temp\n",
    "        \n",
    "    # selecting top 50 features according to their idf values\n",
    "    t_list = temp_list[0:50]\n",
    "    \n",
    "    again_dict = dict(t_list)\n",
    "    \n",
    "    return again_dict# returning the dictionary"
   ]
  },
  {
   "cell_type": "code",
   "execution_count": null,
   "metadata": {},
   "outputs": [],
   "source": []
  },
  {
   "cell_type": "code",
   "execution_count": 102,
   "metadata": {},
   "outputs": [],
   "source": [
    "# let's create tfidf fit function\n",
    "\n",
    "# let's do some change in fit function.\n",
    "# impelement maximum feature functionality\n",
    "def fit(dataset):\n",
    "    '''\n",
    "    It returns the dictionary of feature names and their idf\n",
    "    '''\n",
    "    \n",
    "    # initialize an empty set to store unique words\n",
    "    # in the corpus to find idf of that word\n",
    "    unique_words = set() \n",
    "    # initialize feature_idf dictionary to return the final result\n",
    "    feature_idf = dict() \n",
    "    \n",
    "    # check if its list type or not\n",
    "    if isinstance(dataset,(list,)):\n",
    "        # first find the unique words in the dataset\n",
    "        for row in dataset:\n",
    "            for word in (row.split()):\n",
    "                unique_words.add(word)\n",
    "        \n",
    "        # find how many reviews are there in the dataset. it will help to find the idf value\n",
    "        no_of_reviews = len(dataset)\n",
    "        \n",
    "        \n",
    "        for word in unique_words:# for each unique word in the reivew\n",
    "                if len(word)<2:# It is found that adjective has no less than 2 words\n",
    "                    continue\n",
    "                    \n",
    "                # otherwise\n",
    "                \n",
    "                # find how many reviews containing the given 'word'\n",
    "                reviews_contain_word = containing_word(dataset,word)\n",
    "                \n",
    "                # calculate the idf value according to the formula in sklearn official documentation\n",
    "                # to overcome the problem of zero division error\n",
    "                idf_value = 1+ math.log((1+no_of_reviews)/(1+reviews_contain_word))\n",
    "                \n",
    "                # storing the value in the dictionary\n",
    "                # key: 'word'\n",
    "                # value: 'idf' of that word\n",
    "                feature_idf[word]=idf_value\n",
    "\n",
    "        # sort dictionary by_value_return top 50 features\n",
    "        sorted_feature_idf = sort_dictionary_by_value(feature_idf, True)\n",
    "        \n",
    "        #Now, sort according to their keys\n",
    "        new_feature_idf = dict(sorted(sorted_feature_idf.items(),key = lambda kv:(kv[0], kv[1])))\n",
    "        \n",
    "        return new_feature_idf # returning unique words and their idf\n",
    "    else:\n",
    "        # if the dataset is not in the list format\n",
    "        print('you need to pass list of sentence')\n",
    "    "
   ]
  },
  {
   "cell_type": "code",
   "execution_count": 117,
   "metadata": {},
   "outputs": [],
   "source": [
    "# making transform function\n",
    "def transform(dataset, vocab):\n",
    "    # initializing lists of rows,columns,values to make sparse matrix\n",
    "    rows = []\n",
    "    columns = []\n",
    "    values = []\n",
    "    \n",
    "    \n",
    "    if  isinstance(dataset, (list,)):# if the dataset given is list\n",
    "        \n",
    "        for idx, row in enumerate(tqdm(dataset)):# for each review in the dataset\n",
    "            \n",
    "            word_freq = dict(Counter(row.split()))# find word frequency\n",
    "            \n",
    "            for word in (row.split()): # for each word in the reveiw\n",
    "                if len(word)<2:\n",
    "                    continue\n",
    "                    \n",
    "                # if word is not present in our top features then skip that word\n",
    "                if word not in list(vocab.keys()):\n",
    "                    continue\n",
    "                else:\n",
    "                    \n",
    "                    #find the column index from vocab\n",
    "                    idf = vocab.get(word,0)\n",
    "                    #find tf\n",
    "                    tf = word_freq[word]/len(row)\n",
    "                    #calculate tf_idf\n",
    "                    tf_idf = tf*float(idf)\n",
    "\n",
    "                    #find the column index from vocab.features\n",
    "\n",
    "                    col_index = list(vocab.keys()).index(word)\n",
    "                    #we are storing the index of the document\n",
    "                    rows.append(idx)\n",
    "                    #we are storing the dimensions of the word\n",
    "                    columns.append(col_index)\n",
    "                    # we are storing the tf-idf of the word\n",
    "                    values.append(tf_idf)\n",
    "        \n",
    "        # let's normalize our matrix\n",
    "        tfidf_matrix = csr_matrix((values,(rows,columns)),shape=(len(dataset),len(vocab)))\n",
    "        normalized_matrix = normalize(tfidf_matrix)\n",
    "        return normalized_matrix\n",
    "    else:    # else print the error message\n",
    "        print(\"you need to pass the dataset in list format\")"
   ]
  },
  {
   "cell_type": "code",
   "execution_count": 118,
   "metadata": {},
   "outputs": [],
   "source": [
    "# custom implementation\n",
    "# fit the corpus to custom fit method\n",
    "task2_fit = fit(corpus)"
   ]
  },
  {
   "cell_type": "code",
   "execution_count": 119,
   "metadata": {},
   "outputs": [],
   "source": [
    "# sklearn implementation\n",
    "from sklearn.feature_extraction.text import TfidfVectorizer\n",
    "vectorizer = TfidfVectorizer(max_features=50)\n",
    "vectorizer.fit(corpus)\n",
    "skl_output = vectorizer.transform(corpus)"
   ]
  },
  {
   "cell_type": "code",
   "execution_count": 120,
   "metadata": {},
   "outputs": [
    {
     "name": "stdout",
     "output_type": "stream",
     "text": [
      "custom top 50 features\n",
      "['waster', 'wasting', 'wave', 'waylaid', 'wayne', 'weaker', 'weariness', 'weaving', 'website', 'wedding', 'weight', 'welsh', 'went', 'whenever', 'whine', 'whites', 'whoever', 'wide', 'widmark', 'wife', 'wih', 'wild', 'william', 'willie', 'wily', 'within', 'witticisms', 'woa', 'wondered', 'wong', 'wont', 'worked', 'worry', 'worthless', 'worthwhile', 'wouldnt', 'woven', 'wow', 'wrap', 'writers', 'wrote', 'yardley', 'yawn', 'yelps', 'younger', 'youthful', 'youtube', 'yun', 'zillion', 'zombiez']\n",
      "sklearn top 50 features\n",
      "['acting', 'actors', 'also', 'bad', 'best', 'better', 'cast', 'character', 'characters', 'could', 'even', 'ever', 'every', 'excellent', 'film', 'films', 'funny', 'good', 'great', 'like', 'little', 'look', 'love', 'made', 'make', 'movie', 'movies', 'much', 'never', 'no', 'not', 'one', 'plot', 'real', 'really', 'scenes', 'script', 'see', 'seen', 'show', 'story', 'think', 'time', 'watch', 'watching', 'way', 'well', 'wonderful', 'work', 'would']\n"
     ]
    }
   ],
   "source": [
    "# custom features\n",
    "print('custom top 50 features')\n",
    "print(list(task2_fit.keys()))\n",
    "\n",
    "# sklearn features\n",
    "print('sklearn top 50 features')\n",
    "print(vectorizer.get_feature_names())"
   ]
  },
  {
   "cell_type": "code",
   "execution_count": 121,
   "metadata": {},
   "outputs": [
    {
     "data": {
      "text/plain": [
       "array([3.97847903, 4.67162621, 4.39718936, 3.62708114, 4.57154275,\n",
       "       4.78285184, 4.67162621, 4.57154275, 4.15032928, 4.39718936,\n",
       "       4.03254625, 4.48057097, 4.84347646, 4.97700786, 2.7718781 ,\n",
       "       4.67162621, 4.78285184, 3.78742379, 4.18207798, 4.00514727,\n",
       "       4.72569343, 4.62033291, 4.57154275, 4.48057097, 4.67162621,\n",
       "       2.71822539, 4.48057097, 4.72569343, 4.72569343, 4.35796865,\n",
       "       2.89756631, 3.57301392, 4.35796865, 4.57154275, 4.08970466,\n",
       "       4.78285184, 4.67162621, 4.03254625, 4.48057097, 4.78285184,\n",
       "       4.57154275, 4.67162621, 3.95250354, 4.72569343, 4.67162621,\n",
       "       4.52502273, 4.11955762, 4.67162621, 4.67162621, 4.28386067])"
      ]
     },
     "execution_count": 121,
     "metadata": {},
     "output_type": "execute_result"
    }
   ],
   "source": [
    "vectorizer.idf_"
   ]
  },
  {
   "cell_type": "code",
   "execution_count": 122,
   "metadata": {},
   "outputs": [
    {
     "name": "stdout",
     "output_type": "stream",
     "text": [
      "custom idfs:\n",
      " [6.922918 6.922918 6.922918 6.922918 6.922918 6.922918 6.922918 6.922918\n",
      " 6.922918 6.922918 6.922918 6.922918 6.922918 6.922918 6.922918 6.922918\n",
      " 6.922918 6.922918 6.922918 6.922918 6.922918 6.922918 6.922918 6.922918\n",
      " 6.922918 6.922918 6.922918 6.922918 6.922918 6.922918 6.922918 6.922918\n",
      " 6.922918 6.922918 6.922918 6.922918 6.922918 6.922918 6.922918 6.922918\n",
      " 6.922918 6.922918 6.922918 6.922918 6.922918 6.922918 6.922918 6.922918\n",
      " 6.922918 6.922918]\n"
     ]
    }
   ],
   "source": [
    "print('custom idfs:\\n',np.array(list(task2_fit.values())))"
   ]
  },
  {
   "cell_type": "markdown",
   "metadata": {},
   "source": [
    "**implement transform**"
   ]
  },
  {
   "cell_type": "code",
   "execution_count": 123,
   "metadata": {},
   "outputs": [
    {
     "name": "stderr",
     "output_type": "stream",
     "text": [
      "100%|█████████████████████████████████████████████████████████████████████████████| 746/746 [00:00<00:00, 35062.20it/s]\n"
     ]
    }
   ],
   "source": [
    "custom_result = transform(corpus,task2_fit)"
   ]
  },
  {
   "cell_type": "code",
   "execution_count": 124,
   "metadata": {},
   "outputs": [
    {
     "data": {
      "text/plain": [
       "array([[0., 0., 0., ..., 0., 0., 0.],\n",
       "       [0., 0., 0., ..., 0., 0., 0.],\n",
       "       [0., 0., 0., ..., 0., 0., 0.],\n",
       "       ...,\n",
       "       [0., 0., 0., ..., 0., 0., 0.],\n",
       "       [0., 0., 0., ..., 0., 0., 0.],\n",
       "       [0., 0., 0., ..., 0., 0., 0.]])"
      ]
     },
     "execution_count": 124,
     "metadata": {},
     "output_type": "execute_result"
    }
   ],
   "source": [
    "custom_result.toarray()"
   ]
  },
  {
   "cell_type": "code",
   "execution_count": 126,
   "metadata": {},
   "outputs": [
    {
     "data": {
      "text/plain": [
       "array([[0.        , 0.        , 0.        , ..., 0.        , 0.        ,\n",
       "        0.        ],\n",
       "       [0.        , 0.        , 0.        , ..., 0.        , 0.        ,\n",
       "        0.        ],\n",
       "       [0.52029442, 0.        , 0.        , ..., 0.        , 0.        ,\n",
       "        0.        ],\n",
       "       ...,\n",
       "       [0.        , 0.        , 0.        , ..., 0.        , 0.        ,\n",
       "        0.        ],\n",
       "       [0.        , 0.        , 0.        , ..., 0.        , 0.        ,\n",
       "        0.        ],\n",
       "       [0.        , 0.        , 0.        , ..., 0.        , 0.        ,\n",
       "        0.        ]])"
      ]
     },
     "execution_count": 126,
     "metadata": {},
     "output_type": "execute_result"
    }
   ],
   "source": [
    "skl_output.toarray() "
   ]
  },
  {
   "cell_type": "markdown",
   "metadata": {},
   "source": [
    "<font face='Segoe UI'>\n",
    "    <p style=\"font-size:16px\">I have used idf value to select maximum features(50)."
   ]
  },
  {
   "cell_type": "markdown",
   "metadata": {},
   "source": [
    "<p style=\"font-family:'Segoe UI';font-size:24px;color:red\">Here the result is different because sklearn doesn't use idf to select top features.</p>\n",
    "<font face='Segoe UI'>\n",
    "    <p><strong>sklearn uses tf(term frequency) to select top features</strong></p>"
   ]
  }
 ],
 "metadata": {
  "colab": {
   "collapsed_sections": [],
   "name": "Assignment_3_Instructions.ipynb",
   "provenance": [],
   "version": "0.3.2"
  },
  "kernelspec": {
   "display_name": "Python 3",
   "language": "python",
   "name": "python3"
  },
  "language_info": {
   "codemirror_mode": {
    "name": "ipython",
    "version": 3
   },
   "file_extension": ".py",
   "mimetype": "text/x-python",
   "name": "python",
   "nbconvert_exporter": "python",
   "pygments_lexer": "ipython3",
   "version": "3.7.4"
  }
 },
 "nbformat": 4,
 "nbformat_minor": 1
}
