{
 "cells": [
  {
   "cell_type": "markdown",
   "metadata": {
    "colab_type": "text",
    "id": "s0Ej_bXyQvnV"
   },
   "source": [
    "# Compute performance metrics for the given Y and Y_score without sklearn"
   ]
  },
  {
   "cell_type": "code",
   "execution_count": 248,
   "metadata": {
    "colab": {},
    "colab_type": "code",
    "id": "4CHb6NE7Qvnc"
   },
   "outputs": [],
   "source": [
    "import numpy as np\n",
    "import pandas as pd\n",
    "import matplotlib.pyplot as plt\n",
    "%matplotlib inline\n",
    "# other than these two you should not import any other packages"
   ]
  },
  {
   "cell_type": "markdown",
   "metadata": {
    "colab_type": "text",
    "id": "KbsWXuDaQvnq"
   },
   "source": [
    "<pre>\n",
    "<font color='red'><b>A.</b></font> Compute performance metrics for the given data <strong>5_a.csv</strong>\n",
    "   <b>Note 1:</b> in this data you can see number of positive points >> number of negatives points\n",
    "   <b>Note 2:</b> use pandas or numpy to read the data from <b>5_a.csv</b>\n",
    "   <b>Note 3:</b> you need to derive the class labels from given score</pre> $y^{pred}= \\text{[0 if y_score < 0.5 else 1]}$\n",
    "\n",
    "<pre>\n",
    "<ol>\n",
    "<li> Compute Confusion Matrix </li>\n",
    "<li> Compute F1 Score </li>\n",
    "<li> Compute AUC Score, you need to compute different thresholds and for each threshold compute tpr,fpr and then use               numpy.trapz(tpr_array, fpr_array) <a href='https://stackoverflow.com/q/53603376/4084039'>https://stackoverflow.com/q/53603376/4084039</a>, <a href='https://stackoverflow.com/a/39678975/4084039'>https://stackoverflow.com/a/39678975/4084039</a> Note: it should be numpy.trapz(tpr_array, fpr_array) not numpy.trapz(fpr_array, tpr_array)</li>\n",
    "<li> Compute Accuracy Score </li>\n",
    "</ol>\n",
    "</pre>"
   ]
  },
  {
   "cell_type": "code",
   "execution_count": 249,
   "metadata": {},
   "outputs": [],
   "source": [
    "# let's import the data\n",
    "data = pd.read_csv('5_a.csv')"
   ]
  },
  {
   "cell_type": "code",
   "execution_count": 250,
   "metadata": {},
   "outputs": [
    {
     "data": {
      "text/html": [
       "<div>\n",
       "<style scoped>\n",
       "    .dataframe tbody tr th:only-of-type {\n",
       "        vertical-align: middle;\n",
       "    }\n",
       "\n",
       "    .dataframe tbody tr th {\n",
       "        vertical-align: top;\n",
       "    }\n",
       "\n",
       "    .dataframe thead th {\n",
       "        text-align: right;\n",
       "    }\n",
       "</style>\n",
       "<table border=\"1\" class=\"dataframe\">\n",
       "  <thead>\n",
       "    <tr style=\"text-align: right;\">\n",
       "      <th></th>\n",
       "      <th>y</th>\n",
       "      <th>proba</th>\n",
       "    </tr>\n",
       "  </thead>\n",
       "  <tbody>\n",
       "    <tr>\n",
       "      <td>0</td>\n",
       "      <td>1.0</td>\n",
       "      <td>0.637387</td>\n",
       "    </tr>\n",
       "    <tr>\n",
       "      <td>1</td>\n",
       "      <td>1.0</td>\n",
       "      <td>0.635165</td>\n",
       "    </tr>\n",
       "    <tr>\n",
       "      <td>2</td>\n",
       "      <td>1.0</td>\n",
       "      <td>0.766586</td>\n",
       "    </tr>\n",
       "    <tr>\n",
       "      <td>3</td>\n",
       "      <td>1.0</td>\n",
       "      <td>0.724564</td>\n",
       "    </tr>\n",
       "    <tr>\n",
       "      <td>4</td>\n",
       "      <td>1.0</td>\n",
       "      <td>0.889199</td>\n",
       "    </tr>\n",
       "  </tbody>\n",
       "</table>\n",
       "</div>"
      ],
      "text/plain": [
       "     y     proba\n",
       "0  1.0  0.637387\n",
       "1  1.0  0.635165\n",
       "2  1.0  0.766586\n",
       "3  1.0  0.724564\n",
       "4  1.0  0.889199"
      ]
     },
     "execution_count": 250,
     "metadata": {},
     "output_type": "execute_result"
    }
   ],
   "source": [
    "# let's see the header of the data\n",
    "data.head()"
   ]
  },
  {
   "cell_type": "markdown",
   "metadata": {},
   "source": [
    "**calculate confusion_matrix**"
   ]
  },
  {
   "cell_type": "code",
   "execution_count": 251,
   "metadata": {},
   "outputs": [],
   "source": [
    "def custom_confusion_matrix(data):\n",
    "    y_actual = list(data.iloc[:,0])\n",
    "    y_predicted = list(data.iloc[:,1])\n",
    "    \n",
    "    \n",
    "    # lets binarize y_predicted with threshold 0.5.\n",
    "    # means >=0.5 is 1 otherwise 0\n",
    "    y_actual = list(map(int ,y_actual))\n",
    "    y_predicted = [0 if i<0.5 else 1 for i in y_predicted]\n",
    "    \n",
    "    confusion_matrix = [\n",
    "                        [0,0],\n",
    "                        [0,0]\n",
    "                    ]\n",
    "    #let's calculate every part of confusion matrix\n",
    "    # TrueNegative(TN), FalseNegative(FN), TruePositive(TP),FalsePositive(FP)\n",
    "    tn,fn,tp,fp = 0,0,0,0\n",
    "    for i in range(len(y_actual)):\n",
    "        \n",
    "        \n",
    "        if y_actual[i]==0 and y_predicted[i] ==0:\n",
    "            tn +=1\n",
    "        elif y_actual[i]==0 and y_predicted[i] ==1:\n",
    "            fp +=1\n",
    "        elif y_actual[i]==1 and y_predicted[i] ==1:\n",
    "            tp +=1\n",
    "        elif y_actual[i]==1 and y_predicted[i]==0:\n",
    "            fn +=1\n",
    "    \n",
    "    confusion_matrix[0][0] = tn\n",
    "    confusion_matrix[0][1] = fp\n",
    "    confusion_matrix[1][0] = fn\n",
    "    confusion_matrix[1][1] = tp\n",
    "    \n",
    "    return np.array(confusion_matrix)"
   ]
  },
  {
   "cell_type": "code",
   "execution_count": 252,
   "metadata": {},
   "outputs": [
    {
     "data": {
      "text/plain": [
       "array([[    0,   100],\n",
       "       [    0, 10000]])"
      ]
     },
     "execution_count": 252,
     "metadata": {},
     "output_type": "execute_result"
    }
   ],
   "source": [
    "custom_confusion_matrix(data)"
   ]
  },
  {
   "cell_type": "markdown",
   "metadata": {},
   "source": [
    "**calculate f1-score**"
   ]
  },
  {
   "cell_type": "code",
   "execution_count": 253,
   "metadata": {},
   "outputs": [],
   "source": [
    "def f1_score(data):\n",
    "    y_actual = list(data.iloc[:,0])\n",
    "    y_predicted = list(data.iloc[:,1])\n",
    "    \n",
    "    \n",
    "    # lets binarize y_predicted with threshold 0.5.\n",
    "    # means >=0.5 is 1 otherwise 0\n",
    "    y_actual = list(map(int ,y_actual))\n",
    "    y_predicted = [0 if i<0.5 else 1 for i in y_predicted]\n",
    "    \n",
    "\n",
    "    #let's calculate every part of confusion matrix\n",
    "    # TrueNegative(TN), FalseNegative(FN), TruePositive(TP),FalsePositive(FP)\n",
    "    tn,fn,tp,fp = 0,0,0,0\n",
    "    for i in range(len(y_actual)):\n",
    "        \n",
    "        \n",
    "        if y_actual[i]==0 and y_predicted[i] ==0:\n",
    "            tn +=1\n",
    "        elif y_actual[i]==0 and y_predicted[i] ==1:\n",
    "            fp +=1\n",
    "        elif y_actual[i]==1 and y_predicted[i] ==1:\n",
    "            tp +=1\n",
    "        elif y_actual[i]==1 and y_predicted[i]==0:\n",
    "            fn +=1\n",
    "    \n",
    "    precision = tp/(tp+fp)\n",
    "    recall    = tp/(tp+fn)\n",
    "    \n",
    "    f1_score = 2*((precision * recall)/(precision+recall))\n",
    "    return f1_score"
   ]
  },
  {
   "cell_type": "code",
   "execution_count": 254,
   "metadata": {},
   "outputs": [
    {
     "data": {
      "text/plain": [
       "0.9950248756218906"
      ]
     },
     "execution_count": 254,
     "metadata": {},
     "output_type": "execute_result"
    }
   ],
   "source": [
    "f1_score(data)"
   ]
  },
  {
   "cell_type": "markdown",
   "metadata": {},
   "source": [
    "**calculate accuracy_score**"
   ]
  },
  {
   "cell_type": "code",
   "execution_count": 255,
   "metadata": {},
   "outputs": [],
   "source": [
    "def custom_accuracy_score(data):\n",
    "    y_actual = list(data.iloc[:,0])\n",
    "    y_predicted = list(data.iloc[:,1])\n",
    "    \n",
    "    \n",
    "    # lets binarize y_predicted with threshold 0.5.\n",
    "    # means >=0.5 is 1 otherwise 0\n",
    "    y_actual = list(map(int ,y_actual))\n",
    "    y_predicted = [0 if i<0.5 else 1 for i in y_predicted]\n",
    "    \n",
    "    #let's calculate every part of confusion matrix\n",
    "    # TrueNegative(TN), FalseNegative(FN), TruePositive(TP),FalsePositive(FP)\n",
    "    tn,fn,tp,fp = 0,0,0,0\n",
    "    for i in range(len(y_actual)):\n",
    "        \n",
    "        \n",
    "        if y_actual[i]==0 and y_predicted[i] ==0:\n",
    "            tn +=1\n",
    "        elif y_actual[i]==0 and y_predicted[i] ==1:\n",
    "            fp +=1\n",
    "        elif y_actual[i]==1 and y_predicted[i] ==1:\n",
    "            tp +=1\n",
    "        elif y_actual[i]==1 and y_predicted[i]==0:\n",
    "            fn +=1\n",
    "            \n",
    "    accuracy = (tp+tn)/(tp+tn+fp+fn)\n",
    "    return accuracy"
   ]
  },
  {
   "cell_type": "code",
   "execution_count": 256,
   "metadata": {},
   "outputs": [
    {
     "data": {
      "text/plain": [
       "0.9900990099009901"
      ]
     },
     "execution_count": 256,
     "metadata": {},
     "output_type": "execute_result"
    }
   ],
   "source": [
    "custom_accuracy_score(data)"
   ]
  },
  {
   "cell_type": "code",
   "execution_count": 261,
   "metadata": {},
   "outputs": [],
   "source": [
    "def custom_auc_score(data):\n",
    "    ##### It might take few minutes to compute AUC Score ########\n",
    "\n",
    "    y_actual = list(data.iloc[:,0])\n",
    "    y_predict = list(data.iloc[:,1])\n",
    "\n",
    "\n",
    "    # lets binarize y_predicted with threshold 0.5.\n",
    "    # means >=0.5 is 1 otherwise 0\n",
    "    y_actual = list(map(int ,y_actual))\n",
    "\n",
    "    #let's initialize every part of confusion matrix\n",
    "    # TrueNegative(TN), FalseNegative(FN), TruePositive(TP),FalsePositive(FP)\n",
    "    tn,fn,tp,fp = 0,0,0,0\n",
    "\n",
    "\n",
    "    # let's find n unique probabilities\n",
    "    y_predict = np.array(data.iloc[:,1]) # changing to numpy.array\n",
    "    threshold   = np.unique(y_predict)#finding unique values\n",
    "    threshold.sort()# sort the probabilities in ascending order\n",
    "\n",
    "    #for every probabilities in threshold\n",
    "    fpr_values = []\n",
    "    tpr_values = []\n",
    "    for thresh in threshold:# make every probability as threshold\n",
    "        tn,fn,tp,fp = 0,0,0,0\n",
    "        # for every threshold value change the y_predicted\n",
    "        y_predicted = [0 if i<thresh else 1 for i in y_predict]\n",
    "\n",
    "        #let's calculate every part of confusion matrix\n",
    "        # TrueNegative(TN), FalseNegative(FN), TruePositive(TP),FalsePositive(FP)\n",
    "        for i in range(len(y_actual)):\n",
    "            if y_actual[i]==0 and y_predicted[i] ==0:\n",
    "                tn +=1\n",
    "            elif y_actual[i]==0 and y_predicted[i] ==1:\n",
    "                fp +=1\n",
    "            elif y_actual[i]==1 and y_predicted[i] ==1:\n",
    "                tp +=1\n",
    "            elif y_actual[i]==1 and y_predicted[i]==0:\n",
    "                fn +=1\n",
    "\n",
    "        # find tpr and fpr for every threshold\n",
    "        tpr = tp/(tp+fn)\n",
    "        fpr = fp/(fp+tn)\n",
    "\n",
    "        tpr_values.append(tpr)\n",
    "        fpr_values.append(fpr)\n",
    "\n",
    "    # change tpr_values and fpr_values to numpy array\n",
    "    tpr_array = np.array(tpr_values)\n",
    "    fpr_array = np.array(fpr_values)\n",
    "    \n",
    "    # finding auc score\n",
    "    auc_score = abs(np.trapz(tpr_array, fpr_array))\n",
    "    \n",
    "    # plotting\n",
    "    plt.plot(fpr_array,tpr_array)\n",
    "    plt.xlabel('FPR(False Positive Rate)')\n",
    "    plt.ylabel('TPR(True Positive Rate)')\n",
    "    plt.show()\n",
    "    \n",
    "    return auc_score# returning AUC Score, (tpr and fpr) for testing purpose"
   ]
  },
  {
   "cell_type": "code",
   "execution_count": 262,
   "metadata": {},
   "outputs": [
    {
     "data": {
      "image/png": "[encoded data removed]",
      "text/plain": [
       "<Figure size 432x288 with 1 Axes>"
      ]
     },
     "metadata": {
      "needs_background": "light"
     },
     "output_type": "display_data"
    },
    {
     "data": {
      "text/plain": [
       "0.48829900000000004"
      ]
     },
     "execution_count": 262,
     "metadata": {},
     "output_type": "execute_result"
    }
   ],
   "source": [
    "custom_auc_score(data) # It might take few minutes"
   ]
  },
  {
   "cell_type": "markdown",
   "metadata": {
    "colab_type": "text",
    "id": "V5KZem1BQvn2"
   },
   "source": [
    "<pre>\n",
    "<font color='red'><b>B.</b></font> Compute performance metrics for the given data <strong>5_b.csv</strong>\n",
    "   <b>Note 1:</b> in this data you can see number of positive points << number of negatives points\n",
    "   <b>Note 2:</b> use pandas or numpy to read the data from <b>5_b.csv</b>\n",
    "   <b>Note 3:</b> you need to derive the class labels from given score</pre> $y^{pred}= \\text{[0 if y_score < 0.5 else 1]}$\n",
    "\n",
    "<pre>\n",
    "<ol>\n",
    "<li> Compute Confusion Matrix </li>\n",
    "<li> Compute F1 Score </li>\n",
    "<li> Compute AUC Score, you need to compute different thresholds and for each threshold compute tpr,fpr and then use               numpy.trapz(tpr_array, fpr_array) <a href='https://stackoverflow.com/q/53603376/4084039'>https://stackoverflow.com/q/53603376/4084039</a>, <a href='https://stackoverflow.com/a/39678975/4084039'>https://stackoverflow.com/a/39678975/4084039</a></li>\n",
    "<li> Compute Accuracy Score </li>\n",
    "</ol>\n",
    "</pre>"
   ]
  },
  {
   "cell_type": "code",
   "execution_count": 263,
   "metadata": {},
   "outputs": [],
   "source": [
    "# importing the dataset 5_b.csv\n",
    "data_b = pd.read_csv('5_b.csv')"
   ]
  },
  {
   "cell_type": "code",
   "execution_count": 264,
   "metadata": {},
   "outputs": [
    {
     "data": {
      "text/html": [
       "<div>\n",
       "<style scoped>\n",
       "    .dataframe tbody tr th:only-of-type {\n",
       "        vertical-align: middle;\n",
       "    }\n",
       "\n",
       "    .dataframe tbody tr th {\n",
       "        vertical-align: top;\n",
       "    }\n",
       "\n",
       "    .dataframe thead th {\n",
       "        text-align: right;\n",
       "    }\n",
       "</style>\n",
       "<table border=\"1\" class=\"dataframe\">\n",
       "  <thead>\n",
       "    <tr style=\"text-align: right;\">\n",
       "      <th></th>\n",
       "      <th>y</th>\n",
       "      <th>proba</th>\n",
       "    </tr>\n",
       "  </thead>\n",
       "  <tbody>\n",
       "    <tr>\n",
       "      <td>0</td>\n",
       "      <td>0.0</td>\n",
       "      <td>0.281035</td>\n",
       "    </tr>\n",
       "    <tr>\n",
       "      <td>1</td>\n",
       "      <td>0.0</td>\n",
       "      <td>0.465152</td>\n",
       "    </tr>\n",
       "    <tr>\n",
       "      <td>2</td>\n",
       "      <td>0.0</td>\n",
       "      <td>0.352793</td>\n",
       "    </tr>\n",
       "    <tr>\n",
       "      <td>3</td>\n",
       "      <td>0.0</td>\n",
       "      <td>0.157818</td>\n",
       "    </tr>\n",
       "    <tr>\n",
       "      <td>4</td>\n",
       "      <td>0.0</td>\n",
       "      <td>0.276648</td>\n",
       "    </tr>\n",
       "  </tbody>\n",
       "</table>\n",
       "</div>"
      ],
      "text/plain": [
       "     y     proba\n",
       "0  0.0  0.281035\n",
       "1  0.0  0.465152\n",
       "2  0.0  0.352793\n",
       "3  0.0  0.157818\n",
       "4  0.0  0.276648"
      ]
     },
     "execution_count": 264,
     "metadata": {},
     "output_type": "execute_result"
    }
   ],
   "source": [
    "# see the header of data_b\n",
    "data_b.head()"
   ]
  },
  {
   "cell_type": "markdown",
   "metadata": {},
   "source": [
    "**1.Compute Confusion matrix**"
   ]
  },
  {
   "cell_type": "code",
   "execution_count": 265,
   "metadata": {},
   "outputs": [
    {
     "data": {
      "text/plain": [
       "array([[9761,  239],\n",
       "       [  45,   55]])"
      ]
     },
     "execution_count": 265,
     "metadata": {},
     "output_type": "execute_result"
    }
   ],
   "source": [
    "confusion_matrix = custom_confusion_matrix(data_b)\n",
    "confusion_matrix"
   ]
  },
  {
   "cell_type": "markdown",
   "metadata": {},
   "source": [
    "**2.f1-score**"
   ]
  },
  {
   "cell_type": "code",
   "execution_count": 266,
   "metadata": {},
   "outputs": [
    {
     "data": {
      "text/plain": [
       "0.2791878172588833"
      ]
     },
     "execution_count": 266,
     "metadata": {},
     "output_type": "execute_result"
    }
   ],
   "source": [
    "f1_score(data_b)"
   ]
  },
  {
   "cell_type": "markdown",
   "metadata": {},
   "source": [
    "**3.accuracy_score**"
   ]
  },
  {
   "cell_type": "code",
   "execution_count": 267,
   "metadata": {},
   "outputs": [
    {
     "data": {
      "text/plain": [
       "0.9718811881188119"
      ]
     },
     "execution_count": 267,
     "metadata": {},
     "output_type": "execute_result"
    }
   ],
   "source": [
    "custom_accuracy_score(data_b)"
   ]
  },
  {
   "cell_type": "markdown",
   "metadata": {},
   "source": [
    "**4. auc score**"
   ]
  },
  {
   "cell_type": "code",
   "execution_count": 268,
   "metadata": {},
   "outputs": [
    {
     "data": {
      "image/png": "[encoded data removed]",
      "text/plain": [
       "<Figure size 432x288 with 1 Axes>"
      ]
     },
     "metadata": {
      "needs_background": "light"
     },
     "output_type": "display_data"
    },
    {
     "data": {
      "text/plain": [
       "0.937757"
      ]
     },
     "execution_count": 268,
     "metadata": {},
     "output_type": "execute_result"
    }
   ],
   "source": [
    "custom_auc_score(data_b)"
   ]
  },
  {
   "cell_type": "code",
   "execution_count": null,
   "metadata": {},
   "outputs": [],
   "source": []
  },
  {
   "cell_type": "code",
   "execution_count": 230,
   "metadata": {
    "colab": {},
    "colab_type": "code",
    "id": "U2sKlq0YQvn5"
   },
   "outputs": [],
   "source": [
    "# write your code"
   ]
  },
  {
   "cell_type": "markdown",
   "metadata": {
    "colab_type": "text",
    "id": "GiPGonTzQvoB"
   },
   "source": [
    "<font color='red'><b>C.</b></font> Compute the best threshold (similarly to ROC curve computation) of probability which gives lowest values of metric <b>A</b> for the given data <strong>5_c.csv</strong>\n",
    "<br>\n",
    "\n",
    "you will be predicting label of a data points like this: $y^{pred}= \\text{[0 if y_score < threshold  else 1]}$\n",
    "\n",
    "$ A = 500 \\times \\text{number of false negative} + 100 \\times \\text{numebr of false positive}$\n",
    "\n",
    "<pre>\n",
    "   <b>Note 1:</b> in this data you can see number of negative points > number of positive points\n",
    "   <b>Note 2:</b> use pandas or numpy to read the data from <b>5_c.csv</b>\n",
    "</pre>"
   ]
  },
  {
   "cell_type": "code",
   "execution_count": 231,
   "metadata": {},
   "outputs": [],
   "source": [
    "# import the dataset 5_c.csv\n",
    "data_c = pd.read_csv('5_c.csv')"
   ]
  },
  {
   "cell_type": "code",
   "execution_count": 232,
   "metadata": {},
   "outputs": [
    {
     "data": {
      "text/html": [
       "<div>\n",
       "<style scoped>\n",
       "    .dataframe tbody tr th:only-of-type {\n",
       "        vertical-align: middle;\n",
       "    }\n",
       "\n",
       "    .dataframe tbody tr th {\n",
       "        vertical-align: top;\n",
       "    }\n",
       "\n",
       "    .dataframe thead th {\n",
       "        text-align: right;\n",
       "    }\n",
       "</style>\n",
       "<table border=\"1\" class=\"dataframe\">\n",
       "  <thead>\n",
       "    <tr style=\"text-align: right;\">\n",
       "      <th></th>\n",
       "      <th>y</th>\n",
       "      <th>prob</th>\n",
       "    </tr>\n",
       "  </thead>\n",
       "  <tbody>\n",
       "    <tr>\n",
       "      <td>0</td>\n",
       "      <td>0</td>\n",
       "      <td>0.458521</td>\n",
       "    </tr>\n",
       "    <tr>\n",
       "      <td>1</td>\n",
       "      <td>0</td>\n",
       "      <td>0.505037</td>\n",
       "    </tr>\n",
       "    <tr>\n",
       "      <td>2</td>\n",
       "      <td>0</td>\n",
       "      <td>0.418652</td>\n",
       "    </tr>\n",
       "    <tr>\n",
       "      <td>3</td>\n",
       "      <td>0</td>\n",
       "      <td>0.412057</td>\n",
       "    </tr>\n",
       "    <tr>\n",
       "      <td>4</td>\n",
       "      <td>0</td>\n",
       "      <td>0.375579</td>\n",
       "    </tr>\n",
       "  </tbody>\n",
       "</table>\n",
       "</div>"
      ],
      "text/plain": [
       "   y      prob\n",
       "0  0  0.458521\n",
       "1  0  0.505037\n",
       "2  0  0.418652\n",
       "3  0  0.412057\n",
       "4  0  0.375579"
      ]
     },
     "execution_count": 232,
     "metadata": {},
     "output_type": "execute_result"
    }
   ],
   "source": [
    "# header of the dataset\n",
    "data_c.head()"
   ]
  },
  {
   "cell_type": "code",
   "execution_count": 273,
   "metadata": {},
   "outputs": [],
   "source": [
    "# creating optimal_threshold method to find best threshold value for given equation.\n",
    "def optimal_threshold(data):\n",
    "    y_actual = list(data.iloc[:,0])\n",
    "    y_predict = list(data.iloc[:,1])\n",
    "\n",
    "\n",
    "    y_actual = list(map(int ,y_actual))\n",
    "\n",
    "    #let's initialize \n",
    "    #, FalseNegative(FN),FalsePositive(FP)\n",
    "    fn,fp = 0,0\n",
    "\n",
    "\n",
    "    # let's find n unique probabilities\n",
    "    y_predict = np.array(data.iloc[:,1]) # changing to numpy.array\n",
    "    threshold   = np.unique(y_predict)#finding unique values\n",
    "    threshold.sort()# sort the probabilities(threshold values) in ascending order\n",
    "    \n",
    "    # initializing A to store the result of given equation\n",
    "    A = []\n",
    "    \n",
    "    for thresh in threshold:# make every probability as threshold\n",
    "        fn,fp = 0,0\n",
    "        # for every threshold value change the y_predicted\n",
    "        y_predicted = [0 if i<thresh else 1 for i in y_predict]\n",
    "\n",
    "        #let's calculate\n",
    "        # FalseNegative(FN),FalsePositive(FP)\n",
    "        for i in range(len(y_actual)):\n",
    "            if y_actual[i]==0 and y_predicted[i] ==1:\n",
    "                fp +=1\n",
    "            elif y_actual[i]==1 and y_predicted[i]==0:\n",
    "                fn +=1\n",
    "        \n",
    "        # let's compute A= (500*no.of false negative) + (100*no.of false positive)\n",
    "        A.append((500*fn+100*fp,thresh)) # appending the value of A every threshold\n",
    "\n",
    "\n",
    "#     result = list(zip(list(A),list(threshold)))\n",
    "    A.sort()\n",
    "    return A[0][1] # returning best threshold value"
   ]
  },
  {
   "cell_type": "code",
   "execution_count": 274,
   "metadata": {},
   "outputs": [
    {
     "data": {
      "text/plain": [
       "0.2300390278970873"
      ]
     },
     "execution_count": 274,
     "metadata": {},
     "output_type": "execute_result"
    }
   ],
   "source": [
    "best_value = optimal_threshold(data_c)\n",
    "best_value"
   ]
  },
  {
   "cell_type": "markdown",
   "metadata": {},
   "source": [
    "**I am not getting the threshold that you said in the comments. Please point out where I am doing mistake**"
   ]
  },
  {
   "cell_type": "markdown",
   "metadata": {
    "colab_type": "text",
    "id": "sD4CcgjXQvoL"
   },
   "source": [
    "<pre>\n",
    "<font color='red'><b>D.</b></font> Compute performance metrics(for regression) for the given data <strong>5_d.csv</strong>\n",
    "    <b>Note 2:</b> use pandas or numpy to read the data from <b>5_d.csv</b>\n",
    "    <b>Note 1:</b> <b>5_d.csv</b> will having two columns Y and predicted_Y both are real valued features\n",
    "<ol>\n",
    "<li> Compute Mean Square Error </li>\n",
    "<li> Compute MAPE: https://www.youtube.com/watch?v=ly6ztgIkUxk</li>\n",
    "<li> Compute R^2 error: https://en.wikipedia.org/wiki/Coefficient_of_determination#Definitions </li>\n",
    "</ol>\n",
    "</pre>"
   ]
  },
  {
   "cell_type": "code",
   "execution_count": 237,
   "metadata": {},
   "outputs": [],
   "source": [
    "# loading the dataset\n",
    "data_d = pd.read_csv('5_d.csv')"
   ]
  },
  {
   "cell_type": "code",
   "execution_count": 238,
   "metadata": {},
   "outputs": [
    {
     "data": {
      "text/html": [
       "<div>\n",
       "<style scoped>\n",
       "    .dataframe tbody tr th:only-of-type {\n",
       "        vertical-align: middle;\n",
       "    }\n",
       "\n",
       "    .dataframe tbody tr th {\n",
       "        vertical-align: top;\n",
       "    }\n",
       "\n",
       "    .dataframe thead th {\n",
       "        text-align: right;\n",
       "    }\n",
       "</style>\n",
       "<table border=\"1\" class=\"dataframe\">\n",
       "  <thead>\n",
       "    <tr style=\"text-align: right;\">\n",
       "      <th></th>\n",
       "      <th>y</th>\n",
       "      <th>pred</th>\n",
       "    </tr>\n",
       "  </thead>\n",
       "  <tbody>\n",
       "    <tr>\n",
       "      <td>0</td>\n",
       "      <td>101.0</td>\n",
       "      <td>100.0</td>\n",
       "    </tr>\n",
       "    <tr>\n",
       "      <td>1</td>\n",
       "      <td>120.0</td>\n",
       "      <td>100.0</td>\n",
       "    </tr>\n",
       "    <tr>\n",
       "      <td>2</td>\n",
       "      <td>131.0</td>\n",
       "      <td>113.0</td>\n",
       "    </tr>\n",
       "    <tr>\n",
       "      <td>3</td>\n",
       "      <td>164.0</td>\n",
       "      <td>125.0</td>\n",
       "    </tr>\n",
       "    <tr>\n",
       "      <td>4</td>\n",
       "      <td>154.0</td>\n",
       "      <td>152.0</td>\n",
       "    </tr>\n",
       "  </tbody>\n",
       "</table>\n",
       "</div>"
      ],
      "text/plain": [
       "       y   pred\n",
       "0  101.0  100.0\n",
       "1  120.0  100.0\n",
       "2  131.0  113.0\n",
       "3  164.0  125.0\n",
       "4  154.0  152.0"
      ]
     },
     "execution_count": 238,
     "metadata": {},
     "output_type": "execute_result"
    }
   ],
   "source": [
    "# header of the dataset\n",
    "data_d.head()"
   ]
  },
  {
   "cell_type": "markdown",
   "metadata": {},
   "source": [
    "**1. Mean Squared Error**"
   ]
  },
  {
   "cell_type": "code",
   "execution_count": 239,
   "metadata": {},
   "outputs": [],
   "source": [
    "def mean_squared_error(data):\n",
    "    \n",
    "    y_actual = data.iloc[:,0]\n",
    "    y_predicted = data.iloc[:,1]\n",
    "    \n",
    "    error = 0\n",
    "    \n",
    "    for i in range(len(y_actual)):\n",
    "        error += (y_actual[i]-y_predicted[i])**2\n",
    "        \n",
    "    result= error/len(y_actual)\n",
    "    return result"
   ]
  },
  {
   "cell_type": "code",
   "execution_count": 240,
   "metadata": {},
   "outputs": [
    {
     "data": {
      "text/plain": [
       "177.16569974554707"
      ]
     },
     "execution_count": 240,
     "metadata": {},
     "output_type": "execute_result"
    }
   ],
   "source": [
    "mean_squared_error(data_d)"
   ]
  },
  {
   "cell_type": "markdown",
   "metadata": {},
   "source": [
    "**2. Mean Absolute Percentage Error**"
   ]
  },
  {
   "cell_type": "code",
   "execution_count": 241,
   "metadata": {},
   "outputs": [],
   "source": [
    "import numpy as np\n",
    "np.seterr(divide='ignore', invalid='ignore')\n",
    "def mean_absolute_percentage_error(data):\n",
    "    y_actual = np.array(data_d.iloc[:,0])\n",
    "    y_predicted = np.array(data_d.iloc[:,1])\n",
    "    error_u = 0\n",
    "    error_l = 0 \n",
    "    for i in range(len(y_actual)):\n",
    "        error_u += np.abs((y_actual[i]-y_predicted[i]))# absolute sum of all error \n",
    "        error_l += y_actual[i] # sum of all actual y\n",
    "\n",
    "    result= error_u/error_l\n",
    "    return result*100"
   ]
  },
  {
   "cell_type": "code",
   "execution_count": 242,
   "metadata": {},
   "outputs": [
    {
     "data": {
      "text/plain": [
       "12.91202994009687"
      ]
     },
     "execution_count": 242,
     "metadata": {},
     "output_type": "execute_result"
    }
   ],
   "source": [
    "mean_absolute_percentage_error(data_d)"
   ]
  },
  {
   "cell_type": "markdown",
   "metadata": {},
   "source": [
    "**3. R^2 Error**"
   ]
  },
  {
   "cell_type": "code",
   "execution_count": 243,
   "metadata": {},
   "outputs": [],
   "source": [
    "def mean_squared_error(data):\n",
    "    y_actual = np.array(data_d.iloc[:,0])\n",
    "    y_predicted = np.array(data_d.iloc[:,1])\n",
    "    \n",
    "    y_mean = np.mean(y_actual)\n",
    "    \n",
    "    ss_total = 0\n",
    "    ss_residual = 0\n",
    "    \n",
    "    for i in range(len(y_actual)):\n",
    "        ss_total+= (y_actual[i]-y_mean)**2\n",
    "        ss_residual+= (y_actual[i]-y_predicted[i])**2\n",
    "        \n",
    "    r2 = 1-(ss_residual/ss_total)\n",
    "    return r2"
   ]
  },
  {
   "cell_type": "code",
   "execution_count": 244,
   "metadata": {},
   "outputs": [
    {
     "data": {
      "text/plain": [
       "0.9563582786990964"
      ]
     },
     "execution_count": 244,
     "metadata": {},
     "output_type": "execute_result"
    }
   ],
   "source": [
    "mean_squared_error(data_d)"
   ]
  },
  {
   "cell_type": "markdown",
   "metadata": {},
   "source": [
    "<font face='Segoe UI'>\n",
    "    <h3>Let's compare the result with sklearn.metrics's r2_score"
   ]
  },
  {
   "cell_type": "code",
   "execution_count": 245,
   "metadata": {},
   "outputs": [],
   "source": [
    "y_actual = np.array(data_d.iloc[:,0])\n",
    "y_predicted = np.array(data_d.iloc[:,1])"
   ]
  },
  {
   "cell_type": "code",
   "execution_count": 246,
   "metadata": {},
   "outputs": [],
   "source": [
    "from sklearn.metrics import r2_score"
   ]
  },
  {
   "cell_type": "code",
   "execution_count": 247,
   "metadata": {},
   "outputs": [
    {
     "data": {
      "text/plain": [
       "0.9563582786990937"
      ]
     },
     "execution_count": 247,
     "metadata": {},
     "output_type": "execute_result"
    }
   ],
   "source": [
    "r2_score(y_actual,y_predicted)"
   ]
  }
 ],
 "metadata": {
  "colab": {
   "collapsed_sections": [],
   "name": "5_Performance_metrics_Instructions.ipynb",
   "provenance": [],
   "version": "0.3.2"
  },
  "kernelspec": {
   "display_name": "Python 3",
   "language": "python",
   "name": "python3"
  },
  "language_info": {
   "codemirror_mode": {
    "name": "ipython",
    "version": 3
   },
   "file_extension": ".py",
   "mimetype": "text/x-python",
   "name": "python",
   "nbconvert_exporter": "python",
   "pygments_lexer": "ipython3",
   "version": "3.7.4"
  }
 },
 "nbformat": 4,
 "nbformat_minor": 1
}
