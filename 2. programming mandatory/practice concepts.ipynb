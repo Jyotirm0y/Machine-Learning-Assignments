{
 "cells": [
  {
   "cell_type": "code",
   "execution_count": 2,
   "metadata": {},
   "outputs": [],
   "source": [
    "import math\n",
    "def hmm(A,percent):\n",
    "    Data = A.copy()\n",
    "    # sort the list\n",
    "    Data.sort()\n",
    "    \n",
    "    \n",
    "    # multiply percent by the total number of values n, n is index here of last element\n",
    "    index = (len(Data) -1) *percent\n",
    "    \n",
    "    # check whether index is whole number or not\n",
    "    \n",
    "        #let's find floor and ceil value of given index\n",
    "    index_floor = math.floor()\n",
    "    index_ceil  = math.ceil()\n",
    "    \n",
    "    # if both index_floor and index_cell is equal\n",
    "    # it means index is whole number\n",
    "    if index_floor == index_ceil:\n",
    "        return (Data[index]+Data[index+1])/2\n",
    "    #else round the index\n",
    "    else:\n",
    "        rounded_index = math.round(index)\n",
    "        Data[rounded_index]"
   ]
  },
  {
   "cell_type": "code",
   "execution_count": 20,
   "metadata": {},
   "outputs": [],
   "source": [
    "d = {(1,2):50,(2,3):6,(3,7):8}\n"
   ]
  },
  {
   "cell_type": "code",
   "execution_count": 21,
   "metadata": {},
   "outputs": [],
   "source": [
    "a=d.values()"
   ]
  },
  {
   "cell_type": "code",
   "execution_count": 22,
   "metadata": {},
   "outputs": [
    {
     "data": {
      "text/plain": [
       "50"
      ]
     },
     "execution_count": 22,
     "metadata": {},
     "output_type": "execute_result"
    }
   ],
   "source": [
    "list(a)[0]"
   ]
  },
  {
   "cell_type": "code",
   "execution_count": 23,
   "metadata": {},
   "outputs": [
    {
     "data": {
      "text/plain": [
       "(1, 2)"
      ]
     },
     "execution_count": 23,
     "metadata": {},
     "output_type": "execute_result"
    }
   ],
   "source": [
    "list(d.keys())[0]"
   ]
  },
  {
   "cell_type": "code",
   "execution_count": 24,
   "metadata": {},
   "outputs": [],
   "source": [
    "x = sorted(d.items(),key= lambda x:(x[1]))"
   ]
  },
  {
   "cell_type": "code",
   "execution_count": 25,
   "metadata": {},
   "outputs": [
    {
     "data": {
      "text/plain": [
       "[((2, 3), 6), ((3, 7), 8), ((1, 2), 50)]"
      ]
     },
     "execution_count": 25,
     "metadata": {},
     "output_type": "execute_result"
    }
   ],
   "source": [
    "x"
   ]
  },
  {
   "cell_type": "code",
   "execution_count": 30,
   "metadata": {},
   "outputs": [],
   "source": [
    "S= [(1,2),(3,4),(-1,1),(6,-7),(0, 6),(-5,-8),(-1,-1),(6,0),(1,-1)]\n",
    "P= (3,-4)"
   ]
  },
  {
   "cell_type": "code",
   "execution_count": null,
   "metadata": {},
   "outputs": [],
   "source": []
  },
  {
   "cell_type": "code",
   "execution_count": 32,
   "metadata": {},
   "outputs": [
    {
     "ename": "NameError",
     "evalue": "name 'closest_points_to_p' is not defined",
     "output_type": "error",
     "traceback": [
      "\u001b[1;31m---------------------------------------------------------------------------\u001b[0m",
      "\u001b[1;31mNameError\u001b[0m                                 Traceback (most recent call last)",
      "\u001b[1;32m<ipython-input-32-536955ec2382>\u001b[0m in \u001b[0;36m<module>\u001b[1;34m\u001b[0m\n\u001b[0;32m     20\u001b[0m \u001b[1;33m\u001b[0m\u001b[0m\n\u001b[0;32m     21\u001b[0m \u001b[1;31m# finally returns the list of closest point\u001b[0m\u001b[1;33m\u001b[0m\u001b[1;33m\u001b[0m\u001b[1;33m\u001b[0m\u001b[0m\n\u001b[1;32m---> 22\u001b[1;33m \u001b[0mclosest_points_to_p\u001b[0m  \u001b[1;31m# its list of tuples\u001b[0m\u001b[1;33m\u001b[0m\u001b[1;33m\u001b[0m\u001b[0m\n\u001b[0m\u001b[0;32m     23\u001b[0m \u001b[1;33m\u001b[0m\u001b[0m\n",
      "\u001b[1;31mNameError\u001b[0m: name 'closest_points_to_p' is not defined"
     ]
    }
   ],
   "source": [
    "\n",
    "# write your code here\n",
    "closet_points_to_p = [] # initializing resultant list\n",
    "\n",
    "point_dict={} # initializing dictinary to store the points and their distances\n",
    "\n",
    "xq,yq = P #unpack P(tuple)\n",
    "\n",
    "for point in S:\n",
    "    x1,y1 = point # unpack point to axis\n",
    "\n",
    "    # let's find distance from P(x1,y1) to point(xq,yq)\n",
    "    dist = math.sqrt(pow((x1-xq),2) + pow((y1-yq),2))\n",
    "    point_dict[point] = dist\n",
    "\n",
    "#let's sort the dictionary by it's key(distance) and return list\n",
    "point_list = sorted(point_dict.items(),key = lambda x: (x[1]))\n",
    "\n",
    "for i in range(5):\n",
    "    closest_points_to_p.append(point_list[i][0])\n",
    "\n",
    "# finally returns the list of closest point\n",
    "closest_points_to_p  # its list of tuples\n",
    "\n"
   ]
  },
  {
   "cell_type": "code",
   "execution_count": 40,
   "metadata": {},
   "outputs": [],
   "source": [
    "temp_a='2x+3y+5'.split('x')"
   ]
  },
  {
   "cell_type": "code",
   "execution_count": 41,
   "metadata": {},
   "outputs": [],
   "source": [
    "a = temp_a[0]"
   ]
  },
  {
   "cell_type": "code",
   "execution_count": 42,
   "metadata": {},
   "outputs": [],
   "source": [
    "temp_b = temp_a[1].split('y')"
   ]
  },
  {
   "cell_type": "code",
   "execution_count": 43,
   "metadata": {},
   "outputs": [
    {
     "data": {
      "text/plain": [
       "('2', '+3', '+5')"
      ]
     },
     "execution_count": 43,
     "metadata": {},
     "output_type": "execute_result"
    }
   ],
   "source": [
    "b = temp_b[0]\n",
    "c = temp_b[1]\n",
    "a, b, c"
   ]
  },
  {
   "cell_type": "code",
   "execution_count": 1,
   "metadata": {},
   "outputs": [],
   "source": [
    "def coefficient_finder(expression):\n",
    "    \"\"\"\n",
    "    expression ex: ax+by+c\n",
    "    \n",
    "    returns three value: a,b,c\n",
    "    this function returns coefficient of x and y.\n",
    "    also reutrns value of c.\n",
    "    \n",
    "    >>> a,b,c = coefficient_finder('1050x-500y+10000')\n",
    "    >>> a,b,c\n",
    "    output: (1050.0, -500.0, 10000.0)\n",
    "    \"\"\"\n",
    "    temp_a=expression.split('x')\n",
    "    a = temp_a[0]\n",
    "    temp_b = temp_a[1].split('y')\n",
    "    b = temp_b[0]\n",
    "    c = temp_b[1]\n",
    "    return float(a), float(b), float(c)"
   ]
  },
  {
   "cell_type": "code",
   "execution_count": 2,
   "metadata": {},
   "outputs": [],
   "source": [
    "a,b,c = coefficient_finder('1050x-500y+10000')"
   ]
  },
  {
   "cell_type": "code",
   "execution_count": 3,
   "metadata": {},
   "outputs": [
    {
     "data": {
      "text/plain": [
       "(1050.0, -500.0, 10000.0)"
      ]
     },
     "execution_count": 3,
     "metadata": {},
     "output_type": "execute_result"
    }
   ],
   "source": [
    "a,b,c"
   ]
  },
  {
   "cell_type": "code",
   "execution_count": 55,
   "metadata": {},
   "outputs": [],
   "source": [
    "point = (2,4)\n",
    "expression = '1x+1y+0'\n"
   ]
  },
  {
   "cell_type": "code",
   "execution_count": 22,
   "metadata": {},
   "outputs": [],
   "source": [
    "def i_am_the_one(red,blue,line):\n",
    "    \n",
    "    # find the coefficients\n",
    "    a,b,c = coefficient_finder(line) # here m is slope\n",
    "    \n",
    "    # find slope and y-intercept(c)\n",
    "    \n",
    "    if b!=0: # if b is not equal to 0, then divide it by y's coefficient\n",
    "        m = ((-1)*float(a))/b\n",
    "        c = ((-1)*float(c))/b\n",
    "    else:\n",
    "        m = ((-1)*float(a))\n",
    "        c = ((-1)*float(c))\n",
    "    \n",
    "    #initializing total_red_points and total_blue_points\n",
    "    total_red_points = 0\n",
    "    total_blue_points= 0\n",
    "    \n",
    "    # check for all red points that which side of line it belongs to\n",
    "    # if point lies below the list subtract 1 from total_red_point\n",
    "    # if point lies above the list add +1 to the total_red_point\n",
    "    \n",
    "    \n",
    "    # iterate for every point in red list\n",
    "    for x,y in red:\n",
    "        \n",
    "        # if y>mx+c, it means point lies above the line\n",
    "        if y > (m*x + c):\n",
    "            # so, add +1 to the total_red_points\n",
    "            total_red_points +=1\n",
    "        # if y<mx+c, it means point lies below the line\n",
    "        elif y < (m*x + c):\n",
    "            # so, subtract 1 from the total_red_points\n",
    "            total_red_points -=1\n",
    "        #elif y== m*x + c  # means point is on the line\n",
    "        #    do nothing\n",
    "     \n",
    "    # do above task for blue points also\n",
    "    for x,y in blue:\n",
    "        if y > (m*x + c):\n",
    "            total_blue_points +=1\n",
    "        elif y< (m*x + c):\n",
    "            total_blue_points -=1\n",
    "    \n",
    "    \n",
    "    # if length of given red points list is equal to found total_red_points \n",
    "    # and len(red list) is equal to found total_blue_points\n",
    "    # then given line well separates given points, so return 'YES'. otherwise 'NO'\n",
    "    if len(red) == abs(total_red_points) and len(blue)== abs(total_blue_points):\n",
    "        return 'YES'\n",
    "    else:\n",
    "        return 'NO'"
   ]
  },
  {
   "cell_type": "code",
   "execution_count": 23,
   "metadata": {},
   "outputs": [
    {
     "name": "stdout",
     "output_type": "stream",
     "text": [
      "YES\n",
      "NO\n",
      "NO\n",
      "YES\n"
     ]
    }
   ],
   "source": [
    "Red= [(1,1),(2,1),(4,2),(2,4), (-1,4)]\n",
    "Blue= [(-2,-1),(-1,-2),(-3,-2),(-3,-1),(1,-3)]\n",
    "Lines=[\"1x+1y+0\",\"1x-1y+0\",\"1x+0y-3\",\"0x+1y-0.5\"]\n",
    "\n",
    "for i in Lines:\n",
    "    yes_or_no = i_am_the_one(Red, Blue, i)\n",
    "    print(yes_or_no) # the returned value"
   ]
  },
  {
   "cell_type": "code",
   "execution_count": 4,
   "metadata": {},
   "outputs": [],
   "source": [
    "l =[(1,2),(3,4)]"
   ]
  },
  {
   "cell_type": "code",
   "execution_count": 5,
   "metadata": {},
   "outputs": [
    {
     "name": "stdout",
     "output_type": "stream",
     "text": [
      "1 2\n",
      "3 4\n"
     ]
    }
   ],
   "source": [
    "for x,y in l:\n",
    "    print(x,y)"
   ]
  },
  {
   "cell_type": "code",
   "execution_count": 12,
   "metadata": {},
   "outputs": [],
   "source": [
    "\n",
    "def making_positive(x):\n",
    "    if x<0:\n",
    "        return -(x)\n",
    "    return x\n",
    "    \n",
    "x = making_positive(5)"
   ]
  },
  {
   "cell_type": "code",
   "execution_count": 13,
   "metadata": {},
   "outputs": [
    {
     "data": {
      "text/plain": [
       "5"
      ]
     },
     "execution_count": 13,
     "metadata": {},
     "output_type": "execute_result"
    }
   ],
   "source": [
    "x"
   ]
  },
  {
   "cell_type": "code",
   "execution_count": 24,
   "metadata": {},
   "outputs": [],
   "source": [
    "string = '_,_,_,40,_,_,_,50,_,_,_'"
   ]
  },
  {
   "cell_type": "code",
   "execution_count": 132,
   "metadata": {},
   "outputs": [],
   "source": [
    "# let's design the function for case1,case2, and case3\n",
    "# case1: _,_,_,40\n",
    "# case2: 40_,_,_,_\n",
    "# case3: 10,_,_,_,20\n",
    "\n",
    "# design function for case1: _,_,_,40\n",
    "def case1(in_list):\n",
    "    print('In case1 function')\n",
    "    print('given list in case1:',in_list)\n",
    "    #find length of in_list\n",
    "    len_in_list = len(in_list)\n",
    "    \n",
    "    # find the last digit\n",
    "    last_digit = in_list[-1]\n",
    "    \n",
    "    print('last_digit',last_digit)\n",
    "    # calculate value \n",
    "    value = int(last_digit)/len_in_list\n",
    "    \n",
    "    # finally return the value\n",
    "    return int(value)\n",
    "\n",
    "# design function for case2: 40,_,_,_\n",
    "def case2(in_list):\n",
    "    print('In case 2 function:',in_list)\n",
    "    # find the length of in_list\n",
    "    len_in_list = len(in_list)\n",
    "    \n",
    "    # find the first digit\n",
    "    first_digit = in_list[0]\n",
    "    \n",
    "    # calculate value\n",
    "    value = int(first_digit)/int(len_in_list)\n",
    "    \n",
    "    # return value\n",
    "    return int(value)\n",
    "\n",
    "# design function for case3: 10,_,_,_,20\n",
    "def case3(in_list):\n",
    "\n",
    "    print('In case 3 function, items:',in_list)\n",
    "    #find the length of in_list\n",
    "    len_in_list = len(in_list)\n",
    "    \n",
    "    # find first and last digit\n",
    "    first_digit = int(in_list[0])\n",
    "    last_digit = int(in_list[-1])\n",
    "    \n",
    "    # calculate value\n",
    "    value = (first_digit+last_digit)/len_in_list\n",
    "    \n",
    "    # return the value\n",
    "    return int(value)"
   ]
  },
  {
   "cell_type": "code",
   "execution_count": 230,
   "metadata": {},
   "outputs": [],
   "source": [
    "def curve_smoothing(string):\n",
    "    \n",
    "    #initializing count by 0\n",
    "    count = 0\n",
    "    \n",
    "    #convert the given string into list\n",
    "    string_list = string.split(',')\n",
    "    \n",
    "    print('string list',string_list)\n",
    "    # iterate count <= len(string_list)\n",
    "    \n",
    "    # convert string digit to int value\n",
    "    for i in range(len(string_list)):\n",
    "        if string_list[i] != '_':\n",
    "            string_list[i] = int(string_list[i])\n",
    "            \n",
    "    print('string list updated:',string_list)\n",
    "    while(count<=len(string_list)):\n",
    "        \n",
    "        \n",
    "        \n",
    "        if string_list[0] == '_':\n",
    "            print('case 1:start with _')\n",
    "            temp_list=[]\n",
    "            flag = True\n",
    "            while flag==True:\n",
    "                if string_list[count]=='_':\n",
    "                    print('case 1:add \"_\" to the temp_list')\n",
    "                    temp_list.append(string_list[count])\n",
    "                    count+=1\n",
    "                elif str(string_list[count]).isdigit():\n",
    "                    print('case 1:digit comes')\n",
    "                    temp_list.append(string_list[count])\n",
    "                    flag=False\n",
    "            \n",
    "            print('temp list in case1',temp_list)\n",
    "            returned_item = case1(temp_list)\n",
    "            \n",
    "            #string_list[0:count+1] = returned_item\n",
    "            for i in range(count+1):\n",
    "                string_list[i] = returned_item\n",
    "            \n",
    "            print('assigned return value to the main list')\n",
    "            if len(string_list) == len(temp_list):\n",
    "                print('return case1')\n",
    "                return string_list # returning list case1\n",
    "        \n",
    "        elif str(string_list[count]).isdigit():\n",
    "            print('case 2: if start with digit')\n",
    "            start_index = count\n",
    "            temp_list = []\n",
    "            temp_list.append(string_list[count])\n",
    "            count+=1\n",
    "            flag = True\n",
    "            while flag==True:\n",
    "                \n",
    "                print('inside case 2: string_list',string_list)\n",
    "               # print('inside case 2: while loop',string_list[count],count)\n",
    "                if string_list[count] == '_':\n",
    "                    print('case2a: if \"_\", append')\n",
    "                    if count!= len(string_list):\n",
    "                        print('case 2: count not equal to length of main string')\n",
    "                        temp_list.append(string_list[count])\n",
    "                        count+=1\n",
    "                        \n",
    "                        if count== len(string_list):\n",
    "                            print('case 2a: count equal to length of main string')\n",
    "                            returned_item = case2(temp_list)\n",
    "\n",
    "\n",
    "                            for i in range(start_index,count):\n",
    "                                string_list[i] = returned_item\n",
    "\n",
    "                            print('return case2')\n",
    "                            return string_list # returning list case2\n",
    "                    \n",
    "                elif str(string_list[count]).isdigit():\n",
    "                    print('case 2b: if digit found')\n",
    "                    if count!= len(string_list):\n",
    "                        print('case 2b: count not equal to length of main string')\n",
    "                        temp_list.append(string_list[count])\n",
    "                        flag=False\n",
    "                        \n",
    "                        returned_item = case3(temp_list)\n",
    "                        \n",
    "                        for i in range(start_index,count+1):\n",
    "                            string_list[i] = returned_item \n",
    "                    \n",
    "                        if count == len(string_list)-1:\n",
    "                            return string_list\n",
    "                    elif count== len(string_list):\n",
    "                        print('case 2b: count equal to length of main string')\n",
    "                        temp_list.append(string_list[count])\n",
    "                        temp_list.append(string_list[count+1])\n",
    "                        count+=1\n",
    "                        \n",
    "                        returned_item = case3(temp_list)\n",
    "                        \n",
    "                        for i in range(start_index,count+1):\n",
    "                            string_list[i] = returned_item\n",
    "                            \n",
    "                        print('return case3')\n",
    "                        return string_list # returning list case3\n",
    "                    \n",
    "                    "
   ]
  },
  {
   "cell_type": "code",
   "execution_count": 235,
   "metadata": {},
   "outputs": [
    {
     "name": "stdout",
     "output_type": "stream",
     "text": [
      "string list ['32', '_', '_', '_']\n",
      "string list updated: [32, '_', '_', '_']\n",
      "case 2: if start with digit\n",
      "inside case 2: string_list [32, '_', '_', '_']\n",
      "case2a: if \"_\", append\n",
      "case 2: count not equal to length of main string\n",
      "inside case 2: string_list [32, '_', '_', '_']\n",
      "case2a: if \"_\", append\n",
      "case 2: count not equal to length of main string\n",
      "inside case 2: string_list [32, '_', '_', '_']\n",
      "case2a: if \"_\", append\n",
      "case 2: count not equal to length of main string\n",
      "case 2a: count equal to length of main string\n",
      "In case 2 function: [32, '_', '_', '_']\n",
      "return case2\n",
      "string list ['_', '_', '_', '32']\n",
      "string list updated: ['_', '_', '_', 32]\n",
      "case 1:start with _\n",
      "case 1:add \"_\" to the temp_list\n",
      "case 1:add \"_\" to the temp_list\n",
      "case 1:add \"_\" to the temp_list\n",
      "case 1:digit comes\n",
      "temp list in case1 ['_', '_', '_', 32]\n",
      "In case1 function\n",
      "given list in case1: ['_', '_', '_', 32]\n",
      "last_digit 32\n",
      "assigned return value to the main list\n",
      "return case1\n",
      "string list ['_', '_', '30', '_', '_', '_', '50', '_', '_']\n",
      "string list updated: ['_', '_', 30, '_', '_', '_', 50, '_', '_']\n",
      "case 1:start with _\n",
      "case 1:add \"_\" to the temp_list\n",
      "case 1:add \"_\" to the temp_list\n",
      "case 1:digit comes\n",
      "temp list in case1 ['_', '_', 30]\n",
      "In case1 function\n",
      "given list in case1: ['_', '_', 30]\n",
      "last_digit 30\n",
      "assigned return value to the main list\n",
      "case 2: if start with digit\n",
      "inside case 2: string_list [10, 10, 10, '_', '_', '_', 50, '_', '_']\n",
      "case2a: if \"_\", append\n",
      "case 2: count not equal to length of main string\n",
      "inside case 2: string_list [10, 10, 10, '_', '_', '_', 50, '_', '_']\n",
      "case2a: if \"_\", append\n",
      "case 2: count not equal to length of main string\n",
      "inside case 2: string_list [10, 10, 10, '_', '_', '_', 50, '_', '_']\n",
      "case2a: if \"_\", append\n",
      "case 2: count not equal to length of main string\n",
      "inside case 2: string_list [10, 10, 10, '_', '_', '_', 50, '_', '_']\n",
      "case 2b: if digit found\n",
      "case 2b: count not equal to length of main string\n",
      "In case 3 function, items: [10, '_', '_', '_', 50]\n",
      "case 2: if start with digit\n",
      "inside case 2: string_list [10, 10, 12, 12, 12, 12, 12, '_', '_']\n",
      "case2a: if \"_\", append\n",
      "case 2: count not equal to length of main string\n",
      "inside case 2: string_list [10, 10, 12, 12, 12, 12, 12, '_', '_']\n",
      "case2a: if \"_\", append\n",
      "case 2: count not equal to length of main string\n",
      "case 2a: count equal to length of main string\n",
      "In case 2 function: [12, '_', '_']\n",
      "return case2\n",
      "[8, 8, 8, 8] \n",
      "\n",
      "[8, 8, 8, 8] \n",
      "\n",
      "[10, 10, 12, 12, 12, 12, 4, 4, 4] \n",
      "\n"
     ]
    }
   ],
   "source": [
    "string1 = '32,_,_,_'\n",
    "string2 = '_,_,_,32'\n",
    "string3 = '_,_,30,_,_,_,50,_,_'\n",
    "result1 = curve_smoothing(string1)\n",
    "result2 = curve_smoothing(string2)\n",
    "result3 = curve_smoothing(string3)\n",
    "\n",
    "print(result1,\"\\n\")\n",
    "print(result2,'\\n')\n",
    "print(result3,'\\n')"
   ]
  },
  {
   "cell_type": "code",
   "execution_count": 232,
   "metadata": {},
   "outputs": [
    {
     "name": "stdout",
     "output_type": "stream",
     "text": [
      "string list ['32', '_', '_', '_', '8']\n",
      "string list updated: [32, '_', '_', '_', 8]\n",
      "case 2: if start with digit\n",
      "inside case 2: string_list [32, '_', '_', '_', 8]\n",
      "case2a: if \"_\", append\n",
      "case 2: count not equal to length of main string\n",
      "inside case 2: string_list [32, '_', '_', '_', 8]\n",
      "case2a: if \"_\", append\n",
      "case 2: count not equal to length of main string\n",
      "inside case 2: string_list [32, '_', '_', '_', 8]\n",
      "case2a: if \"_\", append\n",
      "case 2: count not equal to length of main string\n",
      "inside case 2: string_list [32, '_', '_', '_', 8]\n",
      "case 2b: if digit found\n",
      "case 2b: count not equal to length of main string\n",
      "In case 3 function, items: [32, '_', '_', '_', 8]\n"
     ]
    }
   ],
   "source": [
    "result = curve_smoothing(string)"
   ]
  },
  {
   "cell_type": "code",
   "execution_count": 233,
   "metadata": {},
   "outputs": [
    {
     "data": {
      "text/plain": [
       "[8, 8, 8, 8, 8]"
      ]
     },
     "execution_count": 233,
     "metadata": {},
     "output_type": "execute_result"
    }
   ],
   "source": [
    "result\n"
   ]
  },
  {
   "cell_type": "code",
   "execution_count": 183,
   "metadata": {},
   "outputs": [],
   "source": [
    "string=''\n",
    "for i in range(len(result)):\n",
    "    result[i] = str(result[i])\n",
    "    "
   ]
  },
  {
   "cell_type": "code",
   "execution_count": 184,
   "metadata": {},
   "outputs": [
    {
     "data": {
      "text/plain": [
       "['18', '18', '18', '18', '6', '6', '6']"
      ]
     },
     "execution_count": 184,
     "metadata": {},
     "output_type": "execute_result"
    }
   ],
   "source": [
    "result"
   ]
  },
  {
   "cell_type": "code",
   "execution_count": null,
   "metadata": {},
   "outputs": [],
   "source": []
  },
  {
   "cell_type": "code",
   "execution_count": 236,
   "metadata": {},
   "outputs": [],
   "source": [
    "string = '_,_,_,40,_,_,_,30,_,_,_'"
   ]
  },
  {
   "cell_type": "code",
   "execution_count": null,
   "metadata": {},
   "outputs": [],
   "source": []
  },
  {
   "cell_type": "code",
   "execution_count": 237,
   "metadata": {},
   "outputs": [],
   "source": [
    "lis=[[1,2],[3,4],[1,2]]"
   ]
  },
  {
   "cell_type": "code",
   "execution_count": 240,
   "metadata": {},
   "outputs": [
    {
     "ename": "TypeError",
     "evalue": "unhashable type: 'list'",
     "output_type": "error",
     "traceback": [
      "\u001b[1;31m---------------------------------------------------------------------------\u001b[0m",
      "\u001b[1;31mTypeError\u001b[0m                                 Traceback (most recent call last)",
      "\u001b[1;32m<ipython-input-240-678d02d1d36a>\u001b[0m in \u001b[0;36m<module>\u001b[1;34m\u001b[0m\n\u001b[1;32m----> 1\u001b[1;33m \u001b[0mlists\u001b[0m \u001b[1;33m=\u001b[0m \u001b[0mlist\u001b[0m\u001b[1;33m(\u001b[0m\u001b[0mset\u001b[0m\u001b[1;33m(\u001b[0m\u001b[0mlis\u001b[0m\u001b[1;33m)\u001b[0m\u001b[1;33m)\u001b[0m\u001b[1;33m\u001b[0m\u001b[1;33m\u001b[0m\u001b[0m\n\u001b[0m",
      "\u001b[1;31mTypeError\u001b[0m: unhashable type: 'list'"
     ]
    }
   ],
   "source": [
    "lists = list(set(lis))"
   ]
  },
  {
   "cell_type": "code",
   "execution_count": 241,
   "metadata": {},
   "outputs": [
    {
     "data": {
      "text/plain": [
       "True"
      ]
     },
     "execution_count": 241,
     "metadata": {},
     "output_type": "execute_result"
    }
   ],
   "source": [
    "[1,2] in lis"
   ]
  },
  {
   "cell_type": "code",
   "execution_count": 242,
   "metadata": {},
   "outputs": [],
   "source": [
    "for i in range(len(lis)):\n",
    "    lis[i] = tuple(lis[i])"
   ]
  },
  {
   "cell_type": "code",
   "execution_count": 243,
   "metadata": {},
   "outputs": [
    {
     "data": {
      "text/plain": [
       "[(1, 2), (3, 4), (1, 2)]"
      ]
     },
     "execution_count": 243,
     "metadata": {},
     "output_type": "execute_result"
    }
   ],
   "source": [
    "lis"
   ]
  },
  {
   "cell_type": "code",
   "execution_count": null,
   "metadata": {},
   "outputs": [],
   "source": []
  },
  {
   "cell_type": "code",
   "execution_count": null,
   "metadata": {},
   "outputs": [],
   "source": [
    "def countItem(A):\n",
    "    lengthA = len(A)\n",
    "    \n",
    "    # temp dictionary to store \n",
    "    temp_dict={}\n",
    "    \n",
    "    for i in range(lengthA):\n",
    "        temp_dict{A[i]}= "
   ]
  },
  {
   "cell_type": "markdown",
   "metadata": {},
   "source": [
    "# Conditional Probability"
   ]
  },
  {
   "cell_type": "code",
   "execution_count": 299,
   "metadata": {},
   "outputs": [],
   "source": [
    "# create function to find first and second column\n",
    "\n",
    "def first_second_col(A):\n",
    "    '''\n",
    "    It returns the list of both first and second column of given 2-dimensional matrix\n",
    "    '''\n",
    "    # initialize temp first column\n",
    "    first_col = []\n",
    "    second_col= []\n",
    "    \n",
    "    for element in A: # iterate for every element in A\n",
    "        first_col.append(element[0]) # appending elements to the list\n",
    "        second_col.append(element[1])\n",
    "    \n",
    "    return first_col,second_col # return both lists\n",
    "\n",
    "# create unique list returning function\n",
    "\n",
    "def unique_element_list(A):\n",
    "    '''\n",
    "        It returns the list of unique elements from given list.\n",
    "    '''\n",
    "    # initialize temporary list\n",
    "    temp_list = []\n",
    "    \n",
    "    # iterate over all element of A\n",
    "    for element in A:\n",
    "        if element not in temp_list:\n",
    "            temp_list.append(element)\n",
    "            \n",
    "    return temp_list"
   ]
  },
  {
   "cell_type": "code",
   "execution_count": null,
   "metadata": {},
   "outputs": [],
   "source": []
  },
  {
   "cell_type": "code",
   "execution_count": 310,
   "metadata": {},
   "outputs": [],
   "source": [
    "main_list = [\n",
    "                ['F1','S1'],['F2','S2'],\n",
    "                ['F3','S3'],['F1','S2'],\n",
    "                ['F2','S3'],['F3','S2'],\n",
    "                ['F2','S1'],['F4','S1'],\n",
    "                ['F4','S3'],['F5','S1'],\n",
    "            ]"
   ]
  },
  {
   "cell_type": "code",
   "execution_count": null,
   "metadata": {},
   "outputs": [],
   "source": []
  },
  {
   "cell_type": "code",
   "execution_count": 311,
   "metadata": {},
   "outputs": [],
   "source": [
    "def conditional_probability(A):\n",
    "        \n",
    "    # first find the unique list of main given list\n",
    "    unique_list = unique_element_list(A)\n",
    "    \n",
    "    \n",
    "    # then find the first column list and second column list\n",
    "#     F = first_column(A)\n",
    "#     S = second_column(A)\n",
    "    F,S = first_second_col(A) \n",
    "    \n",
    "    # Now, find the unique first_elements list and unique second elements'list\n",
    "    # Q: Why find unique_f and unique_s\n",
    "    # A: to find no.of possible probabilities to be computed\n",
    "    unique_f = unique_element_list(F)\n",
    "    unique_s = unique_element_list(S)\n",
    "    \n",
    "        \n",
    "    for f in unique_f:\n",
    "        for s in unique_s:\n",
    "                \n",
    "            #probability = A.count([f,s])/S.count(s)\n",
    "            print('F={}|S=={} = {}/{}'.format(f,s,A.count([f,s]),S.count(s)),end=' ')\n",
    "        print('')\n",
    "        \n",
    "    "
   ]
  },
  {
   "cell_type": "code",
   "execution_count": 312,
   "metadata": {},
   "outputs": [
    {
     "name": "stdout",
     "output_type": "stream",
     "text": [
      "F=F1|S==S1 = 1/4 F=F1|S==S2 = 1/3 F=F1|S==S3 = 0/3 \n",
      "F=F2|S==S1 = 1/4 F=F2|S==S2 = 1/3 F=F2|S==S3 = 1/3 \n",
      "F=F3|S==S1 = 0/4 F=F3|S==S2 = 1/3 F=F3|S==S3 = 1/3 \n",
      "F=F4|S==S1 = 1/4 F=F4|S==S2 = 0/3 F=F4|S==S3 = 1/3 \n",
      "F=F5|S==S1 = 1/4 F=F5|S==S2 = 0/3 F=F5|S==S3 = 0/3 \n"
     ]
    }
   ],
   "source": [
    "# find conditional probability\n",
    "conditional_probability(main_list)"
   ]
  },
  {
   "cell_type": "code",
   "execution_count": null,
   "metadata": {},
   "outputs": [],
   "source": []
  },
  {
   "cell_type": "code",
   "execution_count": 249,
   "metadata": {},
   "outputs": [],
   "source": [
    "main_list = [\n",
    "                ['F1','S1'],['F2','S2'],\n",
    "                ['F3','S3'],['F1','S2'],\n",
    "                ['F2','S3'],['F3','S2'],\n",
    "                ['F2','S1'],['F4','S1'],\n",
    "                ['F4','S3'],['F5','S1'],\n",
    "                ['F2','S3'],['F3','S2'],\n",
    "                ['F1','S1'],['F2','S2']\n",
    "            ]"
   ]
  },
  {
   "cell_type": "code",
   "execution_count": 287,
   "metadata": {},
   "outputs": [
    {
     "data": {
      "text/plain": [
       "'F1'"
      ]
     },
     "execution_count": 287,
     "metadata": {},
     "output_type": "execute_result"
    }
   ],
   "source": [
    "main_list[0]"
   ]
  },
  {
   "cell_type": "code",
   "execution_count": null,
   "metadata": {},
   "outputs": [],
   "source": []
  },
  {
   "cell_type": "code",
   "execution_count": null,
   "metadata": {},
   "outputs": [],
   "source": []
  },
  {
   "cell_type": "code",
   "execution_count": null,
   "metadata": {},
   "outputs": [],
   "source": []
  },
  {
   "cell_type": "code",
   "execution_count": null,
   "metadata": {},
   "outputs": [],
   "source": []
  },
  {
   "cell_type": "code",
   "execution_count": null,
   "metadata": {},
   "outputs": [],
   "source": []
  },
  {
   "cell_type": "code",
   "execution_count": null,
   "metadata": {},
   "outputs": [],
   "source": []
  },
  {
   "cell_type": "code",
   "execution_count": null,
   "metadata": {},
   "outputs": [],
   "source": []
  },
  {
   "cell_type": "code",
   "execution_count": null,
   "metadata": {},
   "outputs": [],
   "source": []
  },
  {
   "cell_type": "code",
   "execution_count": 250,
   "metadata": {},
   "outputs": [
    {
     "data": {
      "text/plain": [
       "True"
      ]
     },
     "execution_count": 250,
     "metadata": {},
     "output_type": "execute_result"
    }
   ],
   "source": [
    "['F1','S1'] in main_list"
   ]
  },
  {
   "cell_type": "code",
   "execution_count": 251,
   "metadata": {},
   "outputs": [
    {
     "data": {
      "text/plain": [
       "2"
      ]
     },
     "execution_count": 251,
     "metadata": {},
     "output_type": "execute_result"
    }
   ],
   "source": [
    "main_list.count(['F1','S1'])"
   ]
  },
  {
   "cell_type": "code",
   "execution_count": 263,
   "metadata": {},
   "outputs": [],
   "source": [
    "# create unique list returning function\n",
    "\n",
    "def unique_element_list(A):\n",
    "    '''\n",
    "        It returns the list of unique elements from given list.\n",
    "    '''\n",
    "    # initialize temporary list\n",
    "    temp_list = []\n",
    "    \n",
    "    # iterate over all element of A\n",
    "    for element in A:\n",
    "        if element not in temp_list:\n",
    "            temp_list.append(element)\n",
    "            \n",
    "    return temp_list\n",
    "\n",
    "# create unique list with count\n",
    "def unique_list_count(main_list, unique_list):\n",
    "    '''\n",
    "    >>>>> to find unique list use unique_element() function\n",
    "    >>>>> then pass two lists(main_list,unique_list) to this function\n",
    "    >>>>>\n",
    "    >>>>> It returns a dictionary \n",
    "          with no.of time the perticular element is present in the main list.\n",
    "    '''\n",
    "    # initialize temp dictionary\n",
    "    temp_dict = {}\n",
    "    \n",
    "    # iterate over all element of A\n",
    "    for element in unique_list:\n",
    "        # assign element's count as value and element as a key\n",
    "        temp_dict[element] = main_list.count([element])\n",
    "        \n",
    "    return temp_dict"
   ]
  },
  {
   "cell_type": "code",
   "execution_count": null,
   "metadata": {},
   "outputs": [],
   "source": [
    "# function to find unique 1st column\n",
    "\n",
    "def unique_first_column(A):\n",
    "    \n",
    "    # initialize temp_list\n",
    "    temp_list = "
   ]
  },
  {
   "cell_type": "code",
   "execution_count": 264,
   "metadata": {},
   "outputs": [],
   "source": [
    "temp_dict={1:2,2:3,3:4}"
   ]
  },
  {
   "cell_type": "code",
   "execution_count": 274,
   "metadata": {},
   "outputs": [
    {
     "data": {
      "text/plain": [
       "3"
      ]
     },
     "execution_count": 274,
     "metadata": {},
     "output_type": "execute_result"
    }
   ],
   "source": [
    "len(temp_dict.items())\n",
    "\n"
   ]
  },
  {
   "cell_type": "code",
   "execution_count": null,
   "metadata": {},
   "outputs": [],
   "source": []
  },
  {
   "cell_type": "code",
   "execution_count": null,
   "metadata": {},
   "outputs": [],
   "source": []
  },
  {
   "cell_type": "code",
   "execution_count": 1,
   "metadata": {},
   "outputs": [],
   "source": [
    "import webbrowser"
   ]
  },
  {
   "cell_type": "code",
   "execution_count": 2,
   "metadata": {},
   "outputs": [
    {
     "data": {
      "text/plain": [
       "True"
      ]
     },
     "execution_count": 2,
     "metadata": {},
     "output_type": "execute_result"
    }
   ],
   "source": [
    "webbrowser.open(\"www.youtube.com\")"
   ]
  },
  {
   "cell_type": "code",
   "execution_count": null,
   "metadata": {},
   "outputs": [],
   "source": []
  },
  {
   "cell_type": "code",
   "execution_count": null,
   "metadata": {},
   "outputs": [],
   "source": []
  },
  {
   "cell_type": "code",
   "execution_count": null,
   "metadata": {},
   "outputs": [],
   "source": []
  },
  {
   "cell_type": "code",
   "execution_count": null,
   "metadata": {},
   "outputs": [],
   "source": []
  },
  {
   "cell_type": "code",
   "execution_count": null,
   "metadata": {},
   "outputs": [],
   "source": []
  },
  {
   "cell_type": "code",
   "execution_count": null,
   "metadata": {},
   "outputs": [],
   "source": []
  }
 ],
 "metadata": {
  "kernelspec": {
   "display_name": "Python 3",
   "language": "python",
   "name": "python3"
  },
  "language_info": {
   "codemirror_mode": {
    "name": "ipython",
    "version": 3
   },
   "file_extension": ".py",
   "mimetype": "text/x-python",
   "name": "python",
   "nbconvert_exporter": "python",
   "pygments_lexer": "ipython3",
   "version": "3.7.4"
  }
 },
 "nbformat": 4,
 "nbformat_minor": 2
}
