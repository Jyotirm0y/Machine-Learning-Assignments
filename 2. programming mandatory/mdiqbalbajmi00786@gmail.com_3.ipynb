{
 "cells": [
  {
   "cell_type": "markdown",
   "metadata": {},
   "source": [
    "<h1>Python: without numpy or sklearn </h1>"
   ]
  },
  {
   "cell_type": "markdown",
   "metadata": {},
   "source": [
    "<h3> Q1: Given two matrices please print the product of those two matrices </h3>\n",
    "<pre>\n",
    "\n",
    "Ex 1: A   = [[1 3 4]\n",
    "             [2 5 7]\n",
    "             [5 9 6]]\n",
    "      B   = [[1 0 0]\n",
    "             [0 1 0]\n",
    "             [0 0 1]]\n",
    "      A*B = [[1 3 4]\n",
    "             [2 5 7]\n",
    "             [5 9 6]]\n",
    "\n",
    "     \n",
    "Ex 2: A   = [[1 2]\n",
    "             [3 4]]\n",
    "      B   = [[1 2 3 4 5]\n",
    "             [5 6 7 8 9]]\n",
    "      A*B = [[11 14 17 20 23]\n",
    "             [18 24 30 36 42]]\n",
    "             \n",
    "Ex 3: A   = [[1 2]\n",
    "             [3 4]]\n",
    "      B   = [[1 4]\n",
    "             [5 6]\n",
    "             [7 8]\n",
    "             [9 6]]\n",
    "      A*B =Not possible\n",
    "</pre>"
   ]
  },
  {
   "cell_type": "code",
   "execution_count": 130,
   "metadata": {},
   "outputs": [],
   "source": [
    "# write your python code here\n",
    "# you can take the above example as sample input for your program to test\n",
    "# it should work for any general input try not to hard code for only given input examples\n",
    "\n",
    "\n",
    "# you can free to change all these codes/structure\n",
    "# here A and B are list of lists\n",
    "def matrix_mul(A, B):\n",
    "    # first, find #col of A and #row of B\n",
    "    ncolA = len(A[0]) # it will return no.of element in first row(means no.of column in matrix A)\n",
    "    nrowB = len(B)# it will return no.of row of matrix B\n",
    "    \n",
    "    # let's check for matrix multiplication\n",
    "    # #col of A should equal to #row of B\n",
    "    if ncolA != nrowB:\n",
    "        print('Not Possible')\n",
    "    \n",
    "    else:\n",
    "        # initialize a 2d matrix using list comprehension\n",
    "        matrix =[[0 for i in range(len(B[0]))]for j in range(len(A))]\n",
    "        \n",
    "        # implement the logic of matrix implementation\n",
    "        for i in range(len(A)): # iterate #row in matrix A\n",
    "            for j in range(len(B[0])): # iterate for #col in matrix B\n",
    "                \n",
    "                # finding resultant matrix's element\n",
    "                for k in range((len(A[0]))):\n",
    "                    \n",
    "                    matrix[i][j] += A[i][k] * B[k][j]\n",
    "                        \n",
    "        # return resultant matrix\n",
    "        return(matrix)\n",
    "    \n"
   ]
  },
  {
   "cell_type": "code",
   "execution_count": 131,
   "metadata": {},
   "outputs": [
    {
     "data": {
      "text/plain": [
       "[[23, 25], [56, 64]]"
      ]
     },
     "execution_count": 131,
     "metadata": {},
     "output_type": "execute_result"
    }
   ],
   "source": [
    "# case 1: #colA == #rowB\n",
    "# initialize two matrix\n",
    "A=[\n",
    "    [1,2,3],\n",
    "    [4,5,6]\n",
    "]\n",
    "\n",
    "B=[\n",
    "    [3,4],\n",
    "    [4,6],\n",
    "    [4,3]\n",
    "]\n",
    "matrix_mul(A,B)"
   ]
  },
  {
   "cell_type": "code",
   "execution_count": 132,
   "metadata": {},
   "outputs": [
    {
     "name": "stdout",
     "output_type": "stream",
     "text": [
      "Not Possible\n"
     ]
    }
   ],
   "source": [
    "# case 2: #colA != #rowB\n",
    "A=[\n",
    "    [1,2,3],\n",
    "    [4,5,6]\n",
    "]\n",
    "\n",
    "B=[\n",
    "    [5,6],\n",
    "    [3,4],\n",
    "    [4,6],\n",
    "    [4,3]\n",
    "]\n",
    "matrix_mul(A,B)\n"
   ]
  },
  {
   "cell_type": "code",
   "execution_count": 134,
   "metadata": {},
   "outputs": [
    {
     "data": {
      "text/plain": [
       "[[11, 14, 17, 20, 23], [23, 30, 37, 44, 51]]"
      ]
     },
     "execution_count": 134,
     "metadata": {},
     "output_type": "execute_result"
    }
   ],
   "source": [
    "A   = [[1, 2],\n",
    "       [3, 4]]\n",
    "B   = [[1, 2, 3, 4, 5],\n",
    "       [5, 6, 7, 8, 9]]\n",
    "matrix_mul(A,B)"
   ]
  },
  {
   "cell_type": "code",
   "execution_count": null,
   "metadata": {},
   "outputs": [],
   "source": []
  },
  {
   "cell_type": "markdown",
   "metadata": {},
   "source": [
    "<h3> Q2: Select a number randomly with probability proportional to its magnitude from the given array of n elements</h3>\n",
    "\n",
    "consider an experiment, selecting an element from the list A randomly with probability proportional to its magnitude.\n",
    "assume we are doing the same experiment for 100 times with replacement, in each experiment you will print a number that is selected randomly from A.\n",
    "\n",
    "<pre>\n",
    "Ex 1: A = [0 5 27 6 13 28 100 45 10 79]\n",
    "let f(x) denote the number of times x getting selected in 100 experiments.\n",
    "f(100) > f(79) > f(45) > f(28) > f(27) > f(13) > f(10) > f(6) > f(5) > f(0)\n",
    "</pre>"
   ]
  },
  {
   "cell_type": "code",
   "execution_count": 244,
   "metadata": {},
   "outputs": [],
   "source": [
    "from random import uniform\n",
    "# write your python code here\n",
    "# you can take the above example as sample input for your program to test\n",
    "# it should work for any general input try not to hard code for only given input examples\n",
    "\n",
    "\n",
    "# you can free to change all these codes/structure\n",
    "def pick_a_number_from_list(A):\n",
    "    A=A.copy()\n",
    "    Sum = 0 # taken 'Sum' as a variable b'z 'sum' is predefined in python\n",
    "    #print(A)\n",
    "    \n",
    "    A.sort()\n",
    "    \n",
    "    #after sorting add first number twice\n",
    "    A.insert(0,A[0])\n",
    "    #print(A)\n",
    "    \n",
    "    #find length of A(list)\n",
    "    lengthA = len(A)\n",
    "    \n",
    "    #calculate total sum\n",
    "    for i in range(lengthA):\n",
    "        Sum += A[i]\n",
    "        \n",
    "    # divide every element of list by it's total sum\n",
    "    weightedA = []\n",
    "    for i in range(lengthA):\n",
    "        res = A[i] /Sum\n",
    "        weightedA.append(res)\n",
    "    #print(weightedA)    \n",
    "    # let's find cummulative sum of weightedA\n",
    "    cumulativeA =[]\n",
    "    cumulativeA.append(weightedA[0])\n",
    "    for i in range(1,lengthA):\n",
    "        cumulativeA.append(weightedA[i])\n",
    "        cumulativeA[i] = cumulativeA[i]+ cumulativeA[i-1]\n",
    "    cumulativeA.sort()\n",
    "    #print(cumulativeA)   \n",
    "    \n",
    "    \n",
    "    # find a uniform random value between 0.0 and 1.0 because our cumulative list in the range[0.0,1.0]\n",
    "    #pick a uniform random variable\n",
    "    uniform_value = uniform(0.0,1.0)\n",
    "    #print(uniform_value)\n",
    "    \n",
    "    # let's check the condition\n",
    "    for i in range(1,lengthA):\n",
    "        if  uniform_value<cumulativeA[i] and uniform_value>=cumulativeA[i-1]:\n",
    "            # return selected number from the list\n",
    "            return A[i]\n",
    "    \n",
    "\n"
   ]
  },
  {
   "cell_type": "code",
   "execution_count": 245,
   "metadata": {},
   "outputs": [],
   "source": [
    "\n",
    "def sampling_based_on_magnitude():\n",
    "    found_random_numbers =[] # list to be used to find the probability of every element\n",
    "    for i in range(1,100):\n",
    "        number = pick_a_number_from_list(A)\n",
    "        found_random_numbers.append(number)\n",
    "        print(number)\n",
    "\n",
    "    return found_random_numbers  \n"
   ]
  },
  {
   "cell_type": "code",
   "execution_count": 246,
   "metadata": {
    "scrolled": true
   },
   "outputs": [
    {
     "name": "stdout",
     "output_type": "stream",
     "text": [
      "79\n",
      "79\n",
      "100\n",
      "100\n",
      "45\n",
      "100\n",
      "100\n",
      "100\n",
      "28\n",
      "100\n",
      "13\n",
      "79\n",
      "100\n",
      "10\n",
      "100\n",
      "100\n",
      "28\n",
      "100\n",
      "79\n",
      "79\n",
      "100\n",
      "100\n",
      "100\n",
      "100\n",
      "27\n",
      "13\n",
      "45\n",
      "27\n",
      "100\n",
      "100\n",
      "13\n",
      "45\n",
      "45\n",
      "27\n",
      "6\n",
      "79\n",
      "45\n",
      "27\n",
      "79\n",
      "28\n",
      "100\n",
      "100\n",
      "10\n",
      "100\n",
      "79\n",
      "79\n",
      "79\n",
      "100\n",
      "28\n",
      "100\n",
      "45\n",
      "100\n",
      "45\n",
      "100\n",
      "100\n",
      "27\n",
      "79\n",
      "100\n",
      "45\n",
      "100\n",
      "28\n",
      "45\n",
      "5\n",
      "10\n",
      "79\n",
      "6\n",
      "45\n",
      "28\n",
      "6\n",
      "6\n",
      "45\n",
      "45\n",
      "100\n",
      "45\n",
      "27\n",
      "27\n",
      "10\n",
      "28\n",
      "79\n",
      "10\n",
      "45\n",
      "45\n",
      "10\n",
      "100\n",
      "28\n",
      "45\n",
      "79\n",
      "6\n",
      "100\n",
      "79\n",
      "100\n",
      "28\n",
      "28\n",
      "100\n",
      "79\n",
      "79\n",
      "100\n",
      "79\n",
      "100\n"
     ]
    }
   ],
   "source": [
    "A = [0, 5, 27, 6, 13, 28, 100, 45, 10, 79]\n",
    "\n",
    "found_random_numbers = list(sampling_based_on_magnitude())\n",
    "   "
   ]
  },
  {
   "cell_type": "code",
   "execution_count": null,
   "metadata": {},
   "outputs": [],
   "source": []
  },
  {
   "cell_type": "code",
   "execution_count": 247,
   "metadata": {},
   "outputs": [],
   "source": [
    "# let's find probability of every element\n",
    "\n",
    "probability={}\n",
    "for i in range(len(A)):\n",
    "    count = 0\n",
    "    for j in range(99):\n",
    "        if A[i] == found_random_numbers[j]:\n",
    "            count+=1\n",
    "    \n",
    "    probability[A[i]]=count/99\n",
    "    \n",
    "        \n"
   ]
  },
  {
   "cell_type": "code",
   "execution_count": 248,
   "metadata": {},
   "outputs": [
    {
     "data": {
      "text/plain": [
       "{0: 0.0,\n",
       " 5: 0.010101010101010102,\n",
       " 27: 0.0707070707070707,\n",
       " 6: 0.050505050505050504,\n",
       " 13: 0.030303030303030304,\n",
       " 28: 0.10101010101010101,\n",
       " 100: 0.3333333333333333,\n",
       " 45: 0.16161616161616163,\n",
       " 10: 0.06060606060606061,\n",
       " 79: 0.18181818181818182}"
      ]
     },
     "execution_count": 248,
     "metadata": {},
     "output_type": "execute_result"
    }
   ],
   "source": [
    "probability"
   ]
  },
  {
   "cell_type": "markdown",
   "metadata": {},
   "source": [
    "<p style=\"font-family:'Segoe UI';font-size:20px;color:blue\">We can see in above code that 100 has highest probability, right.</p>"
   ]
  },
  {
   "cell_type": "code",
   "execution_count": null,
   "metadata": {},
   "outputs": [],
   "source": []
  },
  {
   "cell_type": "markdown",
   "metadata": {},
   "source": [
    "<h3> Q3: Replace the digits in the string with #</h3>\n",
    "\n",
    "Consider a string that will have digits in that, we need to remove all the characters which are not digits and replace the digits with #\n",
    "<pre>\n",
    "Ex 1: A = 234                Output: ###\n",
    "Ex 2: A = a2b3c4             Output: ###\n",
    "Ex 3: A = abc                Output:   (empty string)\n",
    "Ex 5: A = #2a$#b%c%561#      Output: ####\n",
    "</pre>"
   ]
  },
  {
   "cell_type": "code",
   "execution_count": 103,
   "metadata": {},
   "outputs": [],
   "source": [
    "import re\n",
    "# write your python code here\n",
    "# you can take the above example as sample input for your program to test\n",
    "# it should work for any general input try not to hard code for only given input examples\n",
    "\n",
    "# you can free to change all these codes/structure\n",
    "# String: it will be the input to your program\n",
    "def replace_digits(String):\n",
    "    \n",
    "    list_of_string = list(String)\n",
    "    \n",
    "    result_string=[]\n",
    "    #initializing digit_count\n",
    "    digit_count=0\n",
    "        \n",
    "    for i in range(len(list_of_string)):\n",
    "        \n",
    "        if list_of_string[i].isdigit():\n",
    "            result_string.append('#')\n",
    "            \n",
    "            # count no.of occurences of digits\n",
    "            digit_count+=1\n",
    "    \n",
    "    # check if digit_count=0 or not\n",
    "    if digit_count == 0:\n",
    "        print('empty string')\n",
    "    else:\n",
    "        # join the elements of list and return it\n",
    "        return ''.join(result_string) # modified string which is after replacing the # with digits\n"
   ]
  },
  {
   "cell_type": "code",
   "execution_count": 105,
   "metadata": {},
   "outputs": [
    {
     "data": {
      "text/plain": [
       "'###'"
      ]
     },
     "execution_count": 105,
     "metadata": {},
     "output_type": "execute_result"
    }
   ],
   "source": [
    "replace_digits('3e4e5r')"
   ]
  },
  {
   "cell_type": "code",
   "execution_count": 106,
   "metadata": {},
   "outputs": [
    {
     "data": {
      "text/plain": [
       "'#####'"
      ]
     },
     "execution_count": 106,
     "metadata": {},
     "output_type": "execute_result"
    }
   ],
   "source": [
    "replace_digits('12345')"
   ]
  },
  {
   "cell_type": "code",
   "execution_count": 108,
   "metadata": {},
   "outputs": [
    {
     "data": {
      "text/plain": [
       "'#'"
      ]
     },
     "execution_count": 108,
     "metadata": {},
     "output_type": "execute_result"
    }
   ],
   "source": [
    "replace_digits('The NO.1 Chekuri Sir!')"
   ]
  },
  {
   "cell_type": "code",
   "execution_count": 109,
   "metadata": {},
   "outputs": [
    {
     "name": "stdout",
     "output_type": "stream",
     "text": [
      "empty string\n"
     ]
    }
   ],
   "source": [
    "replace_digits('Chekuri verma sir')"
   ]
  },
  {
   "cell_type": "markdown",
   "metadata": {},
   "source": [
    "<h3> Q4: Students marks dashboard</h3>\n",
    "\n",
    "Consider the marks list of class students given in two lists <br>\n",
    "Students = ['student1','student2','student3','student4','student5','student6','student7','student8','student9','student10'] <br>\n",
    "Marks = [45, 78, 12, 14, 48, 43, 45, 98, 35, 80] <br>\n",
    "from the above two lists the Student[0] got Marks[0],  Student[1] got Marks[1] and so on. <br><br>\n",
    "\n",
    "Your task is to print the name of students\n",
    "\n",
    "<strong>a. Who got top 5 ranks, in the descending order of marks</strong> <br>\n",
    "<strong>b. Who got least 5 ranks, in the increasing order of marks</strong><br>\n",
    "<strong>d. Who got marks between  &gt;25th percentile &lt;75th percentile, in the increasing order of marks.</strong>\n",
    "\n",
    "<pre>\n",
    "Ex 1: \n",
    "Students=['student1','student2','student3','student4','student5','student6','student7','student8','student9','student10'] \n",
    "Marks = [45, 78, 12, 14, 48, 43, 47, 98, 35, 80]\n",
    "\n",
    "a. \n",
    "student8  98\n",
    "student10 80\n",
    "student2  78\n",
    "student5  48\n",
    "student7  47\n",
    "\n",
    "b.\n",
    "student3 12\n",
    "student4 14\n",
    "student9 35\n",
    "student6 43\n",
    "student1 45\n",
    "\n",
    "c.\n",
    "student9 35\n",
    "student6 43\n",
    "student1 45\n",
    "student7 47\n",
    "student5 48\n",
    "</pre>"
   ]
  },
  {
   "cell_type": "code",
   "execution_count": 178,
   "metadata": {},
   "outputs": [],
   "source": [
    "# learned the concept from : https://www.dummies.com/education/math/statistics/how-to-calculate-percentiles-in-statistics/\n",
    "\n",
    "import math\n",
    "def percentile(A,percent):\n",
    "    Data = A.copy()\n",
    "    # sort the list\n",
    "    Data.sort()\n",
    "    \n",
    "    \n",
    "    # multiply percent by the total number of values n, n is index here of last element\n",
    "    index = (len(Data) -1) *percent\n",
    "    \n",
    "    # check whether index is whole number or not\n",
    "    \n",
    "        #let's find floor and ceil value of given index\n",
    "    index_floor = math.floor(index)\n",
    "    index_ceil  = math.ceil(index)\n",
    "    \n",
    "        # if both index_floor and index_cell is equal\n",
    "        # it means index is whole number\n",
    "    if index_floor == index_ceil:\n",
    "        return (Data[index]+Data[index+1])/2\n",
    "    \n",
    "    #else round the index to nearest integer\n",
    "    else:\n",
    "        rounded_index = round(index)\n",
    "        return Data[rounded_index]"
   ]
  },
  {
   "cell_type": "code",
   "execution_count": 186,
   "metadata": {},
   "outputs": [],
   "source": [
    "############################################################\n",
    "# reference: geeksforgeeks for few concepts(not code)      #\n",
    "############################################################\n",
    "\n",
    "# write your python code here\n",
    "# you can take the above example as sample input for your program to test\n",
    "# it should work for any general input try not to hard code for only given input examples\n",
    "\n",
    "# you can free to change all these codes/structure\n",
    "\n",
    "\n",
    "def display_dash_board(students, marks):\n",
    "    #let's first zip the given two lists and change it into dictionary\n",
    "    zip_stu_marks = dict(zip(students, marks))\n",
    "    \n",
    "    \n",
    "    # write code for computing top top 5 students\n",
    "    # let's sort zipped list\n",
    "    sorted_top_students = sorted(zip_stu_marks.items(), key= lambda x:(x[1],x[0]),reverse=True)\n",
    "    \n",
    "    # assign top 5 students \n",
    "    top_5_students = sorted_top_students[0:5]\n",
    "    \n",
    "    \n",
    "    # write code for computing top least 5 students\n",
    "    least_5_students = sorted(zip_stu_marks.items(), key= lambda x:(x[1],x[0]),reverse=False)[0:5]\n",
    "    \n",
    "    \n",
    "    \n",
    "    # write code for computing top least 5 students\n",
    "    \n",
    "    # find total marks\n",
    "    total_marks = 0\n",
    "    for i in range(len(marks)):\n",
    "        total_marks += marks[i]\n",
    "        \n",
    "    #find 25%ile\n",
    "    percentile_25 = percentile(marks,0.25)\n",
    "    #print(percentile_25)\n",
    "    \n",
    "    #find 75%ile\n",
    "    percentile_75 = percentile(marks,0.75)\n",
    "    #print(percentile_75)\n",
    "    \n",
    "    \n",
    "    # sorte the students in increasing order of marks\n",
    "    sorted_students = sorted(zip_stu_marks.items(), key= lambda x:(x[1],x[0]),reverse=False)\n",
    "    \n",
    "    # initializing list to store result\n",
    "    students_within_25_and_75=[]\n",
    "    \n",
    "    # iterating over complete sorted list and finding desired student\n",
    "    for i in range(len(sorted_students)):\n",
    "        if int(sorted_students[i][1]) < int(percentile_75) and int(sorted_students[i][1]) >= int(percentile_25):\n",
    "            students_within_25_and_75.append(sorted_students[i])\n",
    "    \n",
    "\n",
    "    # finally return three found results\n",
    "    return top_5_students, least_5_students, students_within_25_and_75\n",
    "\n"
   ]
  },
  {
   "cell_type": "code",
   "execution_count": 183,
   "metadata": {},
   "outputs": [],
   "source": [
    "students=['student1','student2','student3','student4','student5','student6','student7','student8','student9','student10'] \n",
    "marks = [45, 78, 12, 14, 48, 43, 47, 98, 35, 80]"
   ]
  },
  {
   "cell_type": "code",
   "execution_count": 187,
   "metadata": {},
   "outputs": [],
   "source": [
    "top_5_students, least_5_students, students_within_25_and_75 = display_dash_board(students, marks)\n"
   ]
  },
  {
   "cell_type": "code",
   "execution_count": 191,
   "metadata": {},
   "outputs": [
    {
     "name": "stdout",
     "output_type": "stream",
     "text": [
      "a\n",
      "student8 98\n",
      "student10 80\n",
      "student2 78\n",
      "student5 48\n",
      "student7 47\n",
      "\n",
      "b\n",
      "student3 12\n",
      "student4 14\n",
      "student9 35\n",
      "student6 43\n",
      "student1 45\n",
      "\n",
      "c\n",
      "student9 35\n",
      "student6 43\n",
      "student1 45\n",
      "student7 47\n",
      "student5 48\n"
     ]
    }
   ],
   "source": [
    "print('a')\n",
    "for student,mark in top_5_students: # tuple unpacking is used here\n",
    "    print(student,mark)\n",
    "\n",
    "print('\\nb')\n",
    "for student,mark in least_5_students:\n",
    "    print(student,mark)\n",
    "\n",
    "print('\\nc')\n",
    "for student,mark in students_within_25_and_75:\n",
    "    print(student,mark)"
   ]
  },
  {
   "cell_type": "code",
   "execution_count": null,
   "metadata": {},
   "outputs": [],
   "source": []
  },
  {
   "cell_type": "markdown",
   "metadata": {},
   "source": [
    "<h3> Q5: Find the closest points</h3>\n",
    "\n",
    "Consider you are given n data points in the form of list of tuples like S=[(x1,y1),(x2,y2),(x3,y3),(x4,y4),(x5,y5),..,(xn,yn)] and a point P=(p,q) <br> your task is to find 5 closest points(based on cosine distance) in S from P\n",
    "\n",
    "<br>Cosine distance between two points (x,y) and (p,q) is defined as $cos^{-1}(\\frac{(x\\cdot p+y\\cdot q)}{\\sqrt(x^2+y^2)\\cdot\\sqrt(p^2+q^2)})$\n",
    "<pre>\n",
    "Ex:\n",
    "\n",
    "S= [(1,2),(3,4),(-1,1),(6,-7),(0, 6),(-5,-8),(-1,-1)(6,0),(1,-1)]\n",
    "P= (3,-4)\n",
    "<img src='https://i.imgur.com/vIFPOcG.jpg', width=300>\n",
    "Output:\n",
    "(6,-7)\n",
    "(1,-1)\n",
    "(6,0)\n",
    "(-5,-8)\n",
    "(-1,-1)\n",
    "</pre>"
   ]
  },
  {
   "cell_type": "code",
   "execution_count": 230,
   "metadata": {},
   "outputs": [],
   "source": [
    "import math\n",
    "\n",
    "# write your python code here\n",
    "# you can take the above example as sample input for your program to test\n",
    "# it should work for any general input try not to hard code for only given input examples\n",
    "# you can free to change all these codes/structure\n",
    "\n",
    "\n",
    "# here S is list of tuples and P is a tuple ot len=2\n",
    "def closest_points_to_p(S, P):\n",
    "    # write your code here\n",
    "    closest_points_to_p = [] # initializing resultant list\n",
    "    \n",
    "    point_dict={} # initializing dictinary to store the points and their distances\n",
    "    \n",
    "    xq,yq = P #unpack P(tuple)\n",
    "    \n",
    "    for point in S:\n",
    "        x1,y1 = point # unpack point to axis value\n",
    "        \n",
    "        # let's find distance from P(x1,y1) to point(xq,yq) using cosine distance\n",
    "        dist = math.acos( (x1*xq +y1*yq)/ ( (math.sqrt( (x1**2)+(y1**2) ))*(math.sqrt((xq**2)+(yq**2))) )  )\n",
    "        point_dict[point] = dist\n",
    "    \n",
    "    \n",
    "    #let's sort the dictionary by it's key(distance), sorted function returns list\n",
    "    point_list = sorted(point_dict.items(),key = lambda x: (x[1]),reverse=False)\n",
    "    \n",
    "#     print(point_list)\n",
    "    for i in range(5):\n",
    "        closest_points_to_p.append(point_list[i][0])\n",
    "        \n",
    "    # finally returns the list of closest point\n",
    "    return closest_points_to_p  # its list of tuples\n",
    "\n"
   ]
  },
  {
   "cell_type": "code",
   "execution_count": 231,
   "metadata": {},
   "outputs": [],
   "source": [
    "S= [(1,2),(3,4),(-1,1),(6,-7),(0, 6),(-5,-8),(-1,-1),(6,0),(1,-1)]\n",
    "P= (3,-4)\n"
   ]
  },
  {
   "cell_type": "code",
   "execution_count": 233,
   "metadata": {},
   "outputs": [
    {
     "name": "stdout",
     "output_type": "stream",
     "text": [
      "(6, -7)\n",
      "(1, -1)\n",
      "(6, 0)\n",
      "(-5, -8)\n",
      "(-1, -1)\n"
     ]
    }
   ],
   "source": [
    "points = closest_points_to_p(S, P)\n",
    "\n",
    "#print the returned values\n",
    "for i in points:\n",
    "    print(i)\n"
   ]
  },
  {
   "cell_type": "code",
   "execution_count": null,
   "metadata": {},
   "outputs": [],
   "source": [
    "# intentionally left blank"
   ]
  },
  {
   "cell_type": "markdown",
   "metadata": {},
   "source": [
    "<h3> Q6: Find which line separates oranges and apples</h3>\n",
    "\n",
    "Consider you are given two set of data points in the form of list of tuples like \n",
    "<pre>\n",
    "Red =[(R11,R12),(R21,R22),(R31,R32),(R41,R42),(R51,R52),..,(Rn1,Rn2)]\n",
    "Blue=[(B11,B12),(B21,B22),(B31,B32),(B41,B42),(B51,B52),..,(Bm1,Bm2)]\n",
    "</pre>\n",
    "and set of line equations(in the string format, i.e list of strings)\n",
    "<pre>\n",
    "Lines = [a1x+b1y+c1,a2x+b2y+c2,a3x+b3y+c3,a4x+b4y+c4,..,K lines]\n",
    "Note: You need to do string parsing here and get the coefficients of x,y and intercept.\n",
    "</pre>\n",
    "Your task here is to print \"YES\"/\"NO\" for each line given. You should print YES, if all the red points are one side of the line and blue points are on other side of the line, otherwise you should print NO.\n",
    "<pre>\n",
    "Ex:\n",
    "Red= [(1,1),(2,1),(4,2),(2,4), (-1,4)]\n",
    "Blue= [(-2,-1),(-1,-2),(-3,-2),(-3,-1),(1,-3)]\n",
    "Lines=[\"1x+1y+0\",\"1x-1y+0\",\"1x+0y-3\",\"0x+1y-0.5\"]\n",
    "<img src='https://i.imgur.com/DoQf7mE.jpg' width=400>\n",
    "Output:\n",
    "YES\n",
    "NO\n",
    "NO\n",
    "YES\n",
    "</pre>"
   ]
  },
  {
   "cell_type": "code",
   "execution_count": 105,
   "metadata": {},
   "outputs": [],
   "source": [
    "def coefficient_finder(expression):\n",
    "    \"\"\"\n",
    "    expression ex: ax+by+c\n",
    "    \n",
    "    returns three value: a,b,c\n",
    "    this function returns coefficient of x and y.\n",
    "    also reutrns value of c.\n",
    "    \n",
    "    >>> a,b,c = coefficient_finder('1050x-500y+10000')\n",
    "    >>> a,b,c\n",
    "    output: (1050.0, -500.0, 10000.0)\n",
    "    \"\"\"\n",
    "    temp_a=expression.split('x')\n",
    "    a = temp_a[0]\n",
    "    temp_b = temp_a[1].split('y')\n",
    "    b = temp_b[0]\n",
    "    c = temp_b[1]\n",
    "    return float(a), float(b), float(c)"
   ]
  },
  {
   "cell_type": "code",
   "execution_count": 116,
   "metadata": {},
   "outputs": [],
   "source": [
    "def i_am_the_one(red,blue,line):\n",
    "    \n",
    "    # find the coefficients\n",
    "    a,b,c = coefficient_finder(line) # here m is slope\n",
    "    \n",
    "    # find slope and y-intercept(c)\n",
    "    \n",
    "    if b!=0: # if b is not equal to 0, then divide it by y's coefficient\n",
    "        m = ((-1)*float(a))/b\n",
    "        c = ((-1)*float(c))/b\n",
    "    else:\n",
    "        m = ((-1)*float(a))\n",
    "        c = ((-1)*float(c))\n",
    "    \n",
    "    #initializing total_red_points and total_blue_points\n",
    "    total_red_points = 0\n",
    "    total_blue_points= 0\n",
    "    \n",
    "    # check for all red points that which side of line it belongs to\n",
    "    # if point lies below the list subtract 1 from total_red_point\n",
    "    # if point lies above the list add +1 to the total_red_point\n",
    "    \n",
    "    \n",
    "    # iterate for every point in red list\n",
    "    for x,y in red:\n",
    "        \n",
    "        # if y>mx+c, it means point lies above the line\n",
    "        if y > (m*x + c):\n",
    "            # so, add +1 to the total_red_points\n",
    "            total_red_points +=1\n",
    "        # if y<mx+c, it means point lies below the line\n",
    "        elif y < (m*x + c):\n",
    "            # so, subtract 1 from the total_red_points\n",
    "            total_red_points -=1\n",
    "        #elif y== m*x + c  # means point is on the line\n",
    "        #    do nothing\n",
    "     \n",
    "    # do above task for blue points also\n",
    "    for x,y in blue:\n",
    "        if y > (m*x + c):\n",
    "            total_blue_points +=1\n",
    "        elif y< (m*x + c):\n",
    "            total_blue_points -=1\n",
    "    \n",
    "    \n",
    "    # if length of given red points list is equal to found total_red_points \n",
    "    # and len(red list) is equal to found total_blue_points\n",
    "    # then given line well separates given points, so return 'YES'. otherwise 'NO'\n",
    "    \n",
    "    if len(red) == abs(total_red_points) and len(blue)== abs(total_blue_points):\n",
    "        \n",
    "        # check, if both category of points(red_points and blue_points) has opposite sign or not\n",
    "        if (total_red_points<0 and total_blue_points > 0) or (total_red_points>0 and total_blue_points < 0):            \n",
    "            return 'YES'\n",
    "    else:\n",
    "        return 'NO'\n",
    "\n"
   ]
  },
  {
   "cell_type": "code",
   "execution_count": 117,
   "metadata": {},
   "outputs": [],
   "source": [
    "Red= [(1,1),(2,1),(4,2),(2,4), (-1,4)]\n",
    "Blue= [(-2,-1),(-1,-2),(-3,-2),(-3,-1),(1,-3)]\n",
    "Lines=[\"1x+1y+0\",\"1x-1y+0\",\"1x+0y-3\",\"0x+1y-0.5\"]"
   ]
  },
  {
   "cell_type": "code",
   "execution_count": 118,
   "metadata": {},
   "outputs": [
    {
     "name": "stdout",
     "output_type": "stream",
     "text": [
      "YES\n",
      "NO\n",
      "NO\n",
      "YES\n"
     ]
    }
   ],
   "source": [
    "for i in Lines:\n",
    "    yes_or_no = i_am_the_one(Red, Blue, i)\n",
    "    print(yes_or_no) # the returned value"
   ]
  },
  {
   "cell_type": "code",
   "execution_count": null,
   "metadata": {},
   "outputs": [],
   "source": []
  },
  {
   "cell_type": "markdown",
   "metadata": {},
   "source": [
    "<h3> Q7: Filling the missing values in the specified format</h3>\n",
    "\n",
    "You will be given a string with digits and '\\_'(missing value) symbols you have to replace the '\\_' symbols as explained \n",
    "\n",
    "<pre>\n",
    "Ex 1: _, _, _, 24 ==> 24/4, 24/4, 24/4, 24/4 i.e we. have distributed the 24 equally to all 4 places <br>\n",
    "Ex 2: 40, _, _, _, 60 ==> (60+40)/5,(60+40)/5,(60+40)/5,(60+40)/5,(60+40)/5 ==> 20, 20, 20, 20, 20 i.e. the sum of (60+40) is distributed qually to all 5 places<br>\n",
    "Ex 3: 80, _, _, _, _  ==> 80/5,80/5,80/5,80/5,80/5 ==> 16, 16, 16, 16, 16 i.e. the 80 is distributed qually to all 5 missing values that are right to it<br>\n",
    "Ex 4: _, _, 30, _, _, _, 50, _, _  \n",
    "==> we will fill the missing values from left to right \n",
    "    a. first we will distribute the 30 to left two missing values (10, 10, 10, _, _, _, 50, _, _)\n",
    "    b. now distribute the sum (10+50) missing values in between (10, 10, 12, 12, 12, 12, 12, _, _) \n",
    "    c. now we will distribute 12 to right side missing values (10, 10, 12, 12, 12, 12, 4, 4, 4)\n",
    "</pre>\n",
    "for a given string with comma seprate values, which will have both missing values numbers like ex: \"_, _, x, _, _, _\"\n",
    "you need fill the missing values\n",
    "\n",
    "Q: your program reads a string like ex: \"_, _, x, _, _, _\" and returns the filled sequence\n",
    "\n",
    "Ex: \n",
    "<pre>\n",
    "Input1: \"_,_,_,24\"\n",
    "Output1: 6,6,6,6\n",
    "\n",
    "Input2: \"40,_,_,_,60\"\n",
    "Output2: 20,20,20,20,20\n",
    "\n",
    "Input3: \"80,_,_,_,_\"\n",
    "Output3: 16,16,16,16,16\n",
    "\n",
    "Input4: \"_,_,30,_,_,_,50,_,_\"\n",
    "Output4: 10,10,12,12,12,12,4,4,4\n",
    "</pre>\n",
    "\n"
   ]
  },
  {
   "cell_type": "code",
   "execution_count": 123,
   "metadata": {},
   "outputs": [],
   "source": [
    "#############################################################################\n",
    "### I have used print() function, just for testing purpose ##################\n",
    "### Author: Md Iqbal Bazmi,student at AAIC,pvt,ltd.##########################\n",
    "#############################################################################\n",
    "#############################################################################\n",
    "#############################################################################\n",
    "\n",
    "# let's design the function for case1,case2, and case3\n",
    "# case1: _,_,_,40\n",
    "# case2: 40_,_,_,_\n",
    "# case3: 10,_,_,_,20\n",
    "\n",
    "# design function for case1: _,_,_,40\n",
    "def case1(in_list):\n",
    "    #find length of in_list\n",
    "    len_in_list = len(in_list)\n",
    "    \n",
    "    # find the last digit\n",
    "    last_digit = in_list[-1]\n",
    "    \n",
    "    # calculate value \n",
    "    value = int(last_digit)/len_in_list\n",
    "    \n",
    "    # finally return the value\n",
    "    return int(value)\n",
    "\n",
    "# design function for case2: 40,_,_,_\n",
    "def case2(in_list):\n",
    "    # find the length of in_list\n",
    "    len_in_list = len(in_list)\n",
    "    \n",
    "    # find the first digit\n",
    "    first_digit = in_list[0]\n",
    "    \n",
    "    # calculate value\n",
    "    value = int(first_digit)/int(len_in_list)\n",
    "    \n",
    "    # return value\n",
    "    return int(value)\n",
    "\n",
    "# design function for case3: 10,_,_,_,20\n",
    "def case3(in_list):\n",
    "\n",
    "    #find the length of in_list\n",
    "    len_in_list = len(in_list)\n",
    "    \n",
    "    # find first and last digit\n",
    "    first_digit = int(in_list[0])\n",
    "    last_digit = int(in_list[-1])\n",
    "    \n",
    "    # calculate value\n",
    "    value = (first_digit+last_digit)/len_in_list\n",
    "    \n",
    "    # return the value\n",
    "    return int(value)"
   ]
  },
  {
   "cell_type": "code",
   "execution_count": 135,
   "metadata": {},
   "outputs": [],
   "source": [
    "def curve_smoothing(string):\n",
    "    \n",
    "    #initializing count by 0, it will help to keep track of elements\n",
    "    count = 0\n",
    "    \n",
    "    #convert the given string into list\n",
    "    string_list = string.split(',')\n",
    "    \n",
    "\n",
    "\n",
    "\n",
    "    \n",
    "    # convert string digit to int value\n",
    "    for i in range(len(string_list)):\n",
    "        if string_list[i] != '_':\n",
    "            string_list[i] = int(string_list[i])\n",
    "            \n",
    "\n",
    "    # iterate count <= len(string_list)\n",
    "    while(count<=len(string_list)):\n",
    "        \n",
    "        \n",
    "        # case1: '_,_,_,40', so check whether list starts with '_'\n",
    "        if string_list[0] == '_':\n",
    "            \n",
    "            # create temporary list to store the desired list\n",
    "            temp_list=[]\n",
    "            \n",
    "            # flag is used to insert the value in the temporary list\n",
    "            flag = True\n",
    "            \n",
    "            # iterate till flag==True\n",
    "            while flag==True:\n",
    "                \n",
    "                #check whether item is '_' or not.\n",
    "                if string_list[count]=='_':\n",
    "                    # If yes, append to the temporary list\n",
    "                    temp_list.append(string_list[count])\n",
    "                    # and increment the counter\n",
    "                    count+=1\n",
    "                    \n",
    "                # if item is not '_', check if it is digit.\n",
    "                elif str(string_list[count]).isdigit():\n",
    "                    #if it is digit then append the item to the temporary list\n",
    "                    # and don't increment the count\n",
    "                    temp_list.append(string_list[count])\n",
    "                    \n",
    "                    # set flag as 'False' b'z we stop here inserting element into temporary list\n",
    "                    # because starting with '_' and end with 'digit' is completely a case(case1)\n",
    "                    flag=False\n",
    "            \n",
    "            # come out of the data inserting loop\n",
    "            \n",
    "            # pass the whole temporary sublist to the case1 function\n",
    "            # case1 function will do further operation and will return distribution_item\n",
    "            returned_item = case1(temp_list)\n",
    "            \n",
    "            \n",
    "            # Distribute the returned distribution_item to the main list(string_list)\n",
    "            for i in range(count+1):\n",
    "                string_list[i] = returned_item\n",
    "            \n",
    "            \n",
    "            # Now check whether sublist and main_list is equal in length or not\n",
    "            # if both are equal, means we should return the main_list\n",
    "            if len(string_list) == len(temp_list):\n",
    "                return string_list # returning list case1\n",
    "        \n",
    "        # case2 or case 3: If not started with '_'\n",
    "        # check if it is digit\n",
    "        elif str(string_list[count]).isdigit():\n",
    "            # if it is digit, store start_index\n",
    "            # initialize start_index by value of count\n",
    "            start_index = count\n",
    "            # Q: Why we are storing start_index?\n",
    "            # A: Because case3('_,_,\"23,_,_,_\"')(double quoted string is case3) might lies in \n",
    "            # between the whole string\n",
    "            \n",
    "            \n",
    "            # initialize temporary list \n",
    "            temp_list = []  \n",
    "            \n",
    "            # append the first digit to the temporary list\n",
    "            temp_list.append(string_list[count])\n",
    "            # increment the count value\n",
    "            count+=1\n",
    "            \n",
    "            # set flag=True for appending the item into the temporary list\n",
    "            flag = True\n",
    "            \n",
    "            # iterate till flag==True.\n",
    "            while flag==True:\n",
    "                \n",
    "                # check whether current element is '_' or not\n",
    "                if string_list[count] == '_':\n",
    "                    # if so, then check whether it is last item or not\n",
    "                    if count!= len(string_list):\n",
    "                        # If so, then append the current item to the temporary list\n",
    "                        temp_list.append(string_list[count])\n",
    "                        count+=1 # increment the value of count\n",
    "                        \n",
    "                        # check at every insertion of element that current element is last or not\n",
    "                        if count== len(string_list):\n",
    "                            # if the current item is last item,\n",
    "                            # then, it belongs to case2(40,_,_,_)\n",
    "                            # so, pass the temp_list to the case2 function\n",
    "                            returned_item = case2(temp_list)\n",
    "\n",
    "                            # distribute the returned_item to the specified index\n",
    "                            for i in range(start_index,count):\n",
    "                                string_list[i] = returned_item\n",
    "\n",
    "                            # finally, return the string_list(main list)\n",
    "                            return string_list # returning list case2\n",
    "                    \n",
    "                # if given string is starting wiht 'digit' and not ending with '_'\n",
    "                # it goes to case3(30,_,_,30)\n",
    "                \n",
    "                # so, check whether current element is digit or not\n",
    "                elif str(string_list[count]).isdigit():\n",
    "                    \n",
    "                    # now, check whether found item is last or not\n",
    "                    if count!= len(string_list):\n",
    "                        \n",
    "                        # if current digit is not last element, \n",
    "                        # append the current element\n",
    "                        temp_list.append(string_list[count])\n",
    "                        flag=False\n",
    "                        \n",
    "                        # pass it to case3 function\n",
    "                        returned_item = case3(temp_list)\n",
    "                        \n",
    "                        # update the original list\n",
    "                        for i in range(start_index,count+1):\n",
    "                            string_list[i] = returned_item \n",
    "                        \n",
    "                        # check if the current digit is last element or not\n",
    "                        if count == len(string_list)-1:\n",
    "                            # if so, then return string_list\n",
    "                            return string_list\n",
    "\n",
    "                             "
   ]
  },
  {
   "cell_type": "code",
   "execution_count": 136,
   "metadata": {},
   "outputs": [],
   "source": [
    "def returnString(smoothed_value):\n",
    "    '''\n",
    "        this function return the string format of list.\n",
    "        with ',' separation\n",
    "        \n",
    "        >>> returnString([10,20,30])\n",
    "        >>> '10,20,30'\n",
    "    '''\n",
    "    test=[]\n",
    "    for i in range(len(smoothed_value)):\n",
    "        test.append(str(smoothed_value[i]))\n",
    "        test.append(str(','))\n",
    "    test.pop()\n",
    "    string = ''.join(test)\n",
    "    return string"
   ]
  },
  {
   "cell_type": "code",
   "execution_count": 137,
   "metadata": {},
   "outputs": [
    {
     "name": "stdout",
     "output_type": "stream",
     "text": [
      "6,6,6,6\n"
     ]
    }
   ],
   "source": [
    "S=  \"_,_,_,24\"\n",
    "smoothed_values= returnString(curve_smoothing(S))\n",
    "print(smoothed_values)"
   ]
  },
  {
   "cell_type": "code",
   "execution_count": 138,
   "metadata": {},
   "outputs": [
    {
     "name": "stdout",
     "output_type": "stream",
     "text": [
      "20,20,20,20,20\n"
     ]
    }
   ],
   "source": [
    "S=  \"40,_,_,_,60\"\n",
    "smoothed_values= returnString(curve_smoothing(S))\n",
    "print(smoothed_values)"
   ]
  },
  {
   "cell_type": "code",
   "execution_count": 139,
   "metadata": {},
   "outputs": [
    {
     "name": "stdout",
     "output_type": "stream",
     "text": [
      "16,16,16,16,16\n"
     ]
    }
   ],
   "source": [
    "S=  \"80,_,_,_,_\"\n",
    "smoothed_values= returnString(curve_smoothing(S))\n",
    "print(smoothed_values)"
   ]
  },
  {
   "cell_type": "code",
   "execution_count": 129,
   "metadata": {},
   "outputs": [
    {
     "data": {
      "text/plain": [
       "'10,10,12,12,12,12,4,4,4'"
      ]
     },
     "execution_count": 129,
     "metadata": {},
     "output_type": "execute_result"
    }
   ],
   "source": [
    "S='_,_,30,_,_,_,50,_,_'\n",
    "smoothed_values = returnString(curve_smoothing(S))\n",
    "smoothed_values"
   ]
  },
  {
   "cell_type": "code",
   "execution_count": null,
   "metadata": {},
   "outputs": [],
   "source": [
    "# luckily, it just took me half of the day, not a full day to solve this."
   ]
  },
  {
   "cell_type": "markdown",
   "metadata": {},
   "source": [
    "<h3> Q8: Find the probabilities</h3>\n",
    "\n",
    "You will be given a list of lists, each sublist will be of length 2 i.e. [[x,y],[p,q],[l,m]..[r,s]]\n",
    "consider its like a martrix of n rows and two columns\n",
    "1. The first column F will contain only 5 uniques values (F1, F2, F3, F4, F5)\n",
    "2. The second column S will contain only 3 uniques values (S1, S2, S3)\n",
    "<pre>\n",
    "your task is to find\n",
    "a. Probability of P(F=F1|S==S1), P(F=F1|S==S2), P(F=F1|S==S3)\n",
    "b. Probability of P(F=F2|S==S1), P(F=F2|S==S2), P(F=F2|S==S3)\n",
    "c. Probability of P(F=F3|S==S1), P(F=F3|S==S2), P(F=F3|S==S3)\n",
    "d. Probability of P(F=F4|S==S1), P(F=F4|S==S2), P(F=F4|S==S3)\n",
    "e. Probability of P(F=F5|S==S1), P(F=F5|S==S2), P(F=F5|S==S3)\n",
    "</pre>\n",
    "Ex:\n",
    "\n",
    "<pre>\n",
    "[[F1,S1],[F2,S2],[F3,S3],[F1,S2],[F2,S3],[F3,S2],[F2,S1],[F4,S1],[F4,S3],[F5,S1]]\n",
    "\n",
    "a. P(F=F1|S==S1)=1/4, P(F=F1|S==S2)=1/3, P(F=F1|S==S3)=0/3\n",
    "b. P(F=F2|S==S1)=1/4, P(F=F2|S==S2)=1/3, P(F=F2|S==S3)=1/3\n",
    "c. P(F=F3|S==S1)=0/4, P(F=F3|S==S2)=1/3, P(F=F3|S==S3)=1/3\n",
    "d. P(F=F4|S==S1)=1/4, P(F=F4|S==S2)=0/3, P(F=F4|S==S3)=1/3\n",
    "e. P(F=F5|S==S1)=1/4, P(F=F5|S==S2)=0/3, P(F=F5|S==S3)=0/3\n",
    "</pre>\n",
    "\n"
   ]
  },
  {
   "cell_type": "code",
   "execution_count": 140,
   "metadata": {},
   "outputs": [],
   "source": [
    "# create function to find first and second column\n",
    "\n",
    "def first_second_col(A):\n",
    "    '''\n",
    "    It returns the list of both first and second column of given 2-dimensional matrix\n",
    "    '''\n",
    "    # initialize temp first column\n",
    "    first_col = []\n",
    "    second_col= []\n",
    "    \n",
    "    for element in A: # iterate for every element in A\n",
    "        first_col.append(element[0]) # appending elements to the list\n",
    "        second_col.append(element[1])\n",
    "    \n",
    "    return first_col,second_col # return both lists\n",
    "\n",
    "# create unique list returning function\n",
    "\n",
    "def unique_element_list(A):\n",
    "    '''\n",
    "        It returns the list of unique elements from given list.\n",
    "    '''\n",
    "    # initialize temporary list\n",
    "    temp_list = []\n",
    "    \n",
    "    # iterate over all element of A\n",
    "    for element in A:\n",
    "        if element not in temp_list:\n",
    "            temp_list.append(element)\n",
    "            \n",
    "    return temp_list"
   ]
  },
  {
   "cell_type": "code",
   "execution_count": 141,
   "metadata": {},
   "outputs": [],
   "source": [
    "def conditional_probability(A):\n",
    "        \n",
    "    # first find the unique list of main given list\n",
    "#     unique_list = unique_element_list(A)\n",
    "    \n",
    "    \n",
    "    # then find the first column list and second column list\n",
    "#     F = first_column(A)\n",
    "#     S = second_column(A)\n",
    "    F,S = first_second_col(A) \n",
    "    \n",
    "    # Now, find the unique first_elements list and unique second elements'list\n",
    "    # Q: Why find unique_f and unique_s\n",
    "    # A: to find no.of possible probabilities to be computed\n",
    "    unique_f = unique_element_list(F)\n",
    "    unique_s = unique_element_list(S)\n",
    "    \n",
    "        \n",
    "    for f in unique_f:\n",
    "        for s in unique_s:\n",
    "                \n",
    "            #probability = A.count([f,s])/S.count(s)\n",
    "            print('P(F={}|S=={}) = {}/{}'.format(f,s,A.count([f,s]),S.count(s)),end=' ')\n",
    "        print('')\n",
    "        \n",
    "    "
   ]
  },
  {
   "cell_type": "code",
   "execution_count": 142,
   "metadata": {},
   "outputs": [],
   "source": [
    "main_list = [\n",
    "                ['F1','S1'],['F2','S2'],\n",
    "                ['F3','S3'],['F1','S2'],\n",
    "                ['F2','S3'],['F3','S2'],\n",
    "                ['F2','S1'],['F4','S1'],\n",
    "                ['F4','S3'],['F5','S1'],\n",
    "            ]"
   ]
  },
  {
   "cell_type": "code",
   "execution_count": 143,
   "metadata": {},
   "outputs": [
    {
     "name": "stdout",
     "output_type": "stream",
     "text": [
      "P(F=F1|S==S1) = 1/4 P(F=F1|S==S2) = 1/3 P(F=F1|S==S3) = 0/3 \n",
      "P(F=F2|S==S1) = 1/4 P(F=F2|S==S2) = 1/3 P(F=F2|S==S3) = 1/3 \n",
      "P(F=F3|S==S1) = 0/4 P(F=F3|S==S2) = 1/3 P(F=F3|S==S3) = 1/3 \n",
      "P(F=F4|S==S1) = 1/4 P(F=F4|S==S2) = 0/3 P(F=F4|S==S3) = 1/3 \n",
      "P(F=F5|S==S1) = 1/4 P(F=F5|S==S2) = 0/3 P(F=F5|S==S3) = 0/3 \n"
     ]
    }
   ],
   "source": [
    "# find conditional probabilities\n",
    "conditional_probability(main_list)"
   ]
  },
  {
   "cell_type": "code",
   "execution_count": null,
   "metadata": {},
   "outputs": [],
   "source": []
  },
  {
   "cell_type": "markdown",
   "metadata": {},
   "source": [
    "<h3> Q9: Operations on sentences </h3>\n",
    "\n",
    "You will be given two sentances S1, S2 your task is to find \n",
    "<pre>\n",
    "a. Number of common words between S1, S2\n",
    "b. Words in S1 but not in S2\n",
    "c. Words in S2 but not in S1\n",
    "</pre>\n",
    "\n",
    "Ex: \n",
    "<pre>\n",
    "S1= \"the first column F will contain only 5 unique values\"\n",
    "S2= \"the second column S will contain only 3 unique values\"\n",
    "Output:\n",
    "a. 7\n",
    "b. ['first','F','5']\n",
    "c. ['second','S','3']\n",
    "</pre>"
   ]
  },
  {
   "cell_type": "code",
   "execution_count": 97,
   "metadata": {},
   "outputs": [],
   "source": [
    "# write your python code here\n",
    "# you can take the above example as sample input for your program to test\n",
    "# it should work for any general input try not to hard code for only given input strings\n",
    "\n",
    "# you can free to change all these codes/structure\n",
    "def string_features(S1, S2):\n",
    "    \n",
    "    # given S1 and S2 are strings\n",
    "    # so, split it into list of words\n",
    "    S1 = S1.split(' ')\n",
    "    S2 = S2.split(' ')\n",
    "    \n",
    "    # let's solve the problem 'a'\n",
    "    # a. Number of common words between S1,S2\n",
    "    common_words = 0\n",
    "    common_list = []\n",
    "    \n",
    "    # iterate for all words in S1\n",
    "    for i in S1:\n",
    "        if i in S2: # if S1's word is also present in S2\n",
    "            common_list.append(i) #then, append to the common_list\n",
    "# you can use either this code\n",
    "# uncomment below code to calculate above solutino\n",
    "#     for j in S2:\n",
    "#         if j in S1:\n",
    "#             common_list.append(j)\n",
    "            \n",
    "    a = len(common_list) # find the length of common list and store it to a\n",
    "    \n",
    "    # let's solve problem 'b'\n",
    "    # b. Words in S1 but not in S2\n",
    "    b=[]\n",
    "    for i in S1:\n",
    "        if i not in S2:\n",
    "            b.append(i)\n",
    "            \n",
    "    # let's solve problem 'c'\n",
    "    # c. words in S2 but not in S1\n",
    "    c=[]\n",
    "    for j in S2:\n",
    "        if j not in S1:\n",
    "            c.append(j)\n",
    "            \n",
    "    return a, b, c\n",
    "\n"
   ]
  },
  {
   "cell_type": "code",
   "execution_count": 99,
   "metadata": {},
   "outputs": [
    {
     "name": "stdout",
     "output_type": "stream",
     "text": [
      "7 \n",
      " ['first', 'F', '5'] \n",
      " ['second', 'S', '3']\n"
     ]
    }
   ],
   "source": [
    "S1= \"the first column F will contain only 5 uniques values\"\n",
    "S2= \"the second column S will contain only 3 uniques values\"\n",
    "a,b,c = string_features(S1, S2)\n",
    "print(a,'\\n',b,'\\n',c)"
   ]
  },
  {
   "cell_type": "code",
   "execution_count": 100,
   "metadata": {},
   "outputs": [
    {
     "name": "stdout",
     "output_type": "stream",
     "text": [
      "5 \n",
      " ['love'] \n",
      " ['not', 'leave']\n"
     ]
    }
   ],
   "source": [
    "S1= \"I am thinking to love you\"\n",
    "S2= \"I am thinking not to leave you\"\n",
    "a,b,c = string_features(S1, S2)\n",
    "print(a,'\\n',b,'\\n',c)"
   ]
  },
  {
   "cell_type": "markdown",
   "metadata": {},
   "source": [
    "<h3> Q10: Error Function</h3>\n",
    "\n",
    "You will be given a list of lists, each sublist will be of length 2 i.e. [[x,y],[p,q],[l,m]..[r,s]]\n",
    "consider its like a martrix of n rows and two columns\n",
    "\n",
    "a. the first column Y will contain interger values <br>\n",
    "b. the second column $Y_{score}$ will be having float values <br>\n",
    "Your task is to find the value of $f(Y,Y_{score}) = -1*\\frac{1}{n}\\Sigma_{for each Y,Y_{score} pair}(Ylog10(Y_{score})+(1-Y)log10(1-Y_{score}))$ here n is the number of rows in the matrix\n",
    "<pre>\n",
    "Ex:\n",
    "[[1, 0.4], [0, 0.5], [0, 0.9], [0, 0.3], [0, 0.6], [1, 0.1], [1, 0.9], [1, 0.8]]\n",
    "output:\n",
    "0.44982\n",
    "</pre>\n",
    "$\\frac{-1}{8}\\cdot((1\\cdot log_{10}(0.4)+0\\cdot log_{10}(0.6))+(0\\cdot log_{10}(0.5)+1\\cdot log_{10}(0.5)) + ... + (1\\cdot log_{10}(0.8)+0\\cdot log_{10}(0.2)) )$"
   ]
  },
  {
   "cell_type": "code",
   "execution_count": 103,
   "metadata": {},
   "outputs": [],
   "source": [
    "# write your python code here\n",
    "# you can take the above example as sample input for your program to test\n",
    "# it should work for any general input try not to hard code for only given input strings\n",
    "import math\n",
    "\n",
    "# you can free to change all these codes/structure\n",
    "def compute_log_loss(A):\n",
    "    \n",
    "    # let's find length of A, first.\n",
    "    lengthA = len(A)\n",
    "    \n",
    "    log_loss = 0\n",
    "    Sum = 0\n",
    "    for item in A:\n",
    "        y = item[0]\n",
    "        y_score = item[1]\n",
    "        \n",
    "        Sum += (y* math.log(y_score,10) + (1-y)* math.log(1-y_score,10))\n",
    "    \n",
    "    loss = (-1/lengthA) * Sum\n",
    "    return loss\n",
    "\n"
   ]
  },
  {
   "cell_type": "code",
   "execution_count": 104,
   "metadata": {},
   "outputs": [
    {
     "name": "stdout",
     "output_type": "stream",
     "text": [
      "0.42430993457031635\n"
     ]
    }
   ],
   "source": [
    "A = [[1, 0.4], [0, 0.5], [0, 0.9], [0, 0.3], [0, 0.6], [1, 0.1], [1, 0.9], [1, 0.8]]\n",
    "loss = compute_log_loss(A)\n",
    "print(loss)"
   ]
  },
  {
   "cell_type": "code",
   "execution_count": null,
   "metadata": {},
   "outputs": [],
   "source": []
  }
 ],
 "metadata": {
  "kernelspec": {
   "display_name": "Python 3",
   "language": "python",
   "name": "python3"
  },
  "language_info": {
   "codemirror_mode": {
    "name": "ipython",
    "version": 3
   },
   "file_extension": ".py",
   "mimetype": "text/x-python",
   "name": "python",
   "nbconvert_exporter": "python",
   "pygments_lexer": "ipython3",
   "version": "3.7.4"
  }
 },
 "nbformat": 4,
 "nbformat_minor": 2
}
