{
 "cells": [
  {
   "cell_type": "markdown",
   "metadata": {},
   "source": [
    "<p style=\"font-family:'Segoe UI';font-size:20px;color:blue\"><b>Question 1: Write a function that inputs a number and prints the multiplication table of that number</p>"
   ]
  },
  {
   "cell_type": "code",
   "execution_count": 2,
   "metadata": {},
   "outputs": [],
   "source": [
    "# function definition \n",
    "def mulTable(number):\n",
    "    # below is docstring\n",
    "    \"\"\"prints the multiplication table of given number\"\"\"\n",
    "    \n",
    "    for i in range(1,11):\n",
    "        print(\"{n} * {i} = {r}\".format(n=number,i=i,r=number*i))\n",
    "    "
   ]
  },
  {
   "cell_type": "code",
   "execution_count": 3,
   "metadata": {},
   "outputs": [
    {
     "name": "stdout",
     "output_type": "stream",
     "text": [
      "19 * 1 = 19\n",
      "19 * 2 = 38\n",
      "19 * 3 = 57\n",
      "19 * 4 = 76\n",
      "19 * 5 = 95\n",
      "19 * 6 = 114\n",
      "19 * 7 = 133\n",
      "19 * 8 = 152\n",
      "19 * 9 = 171\n",
      "19 * 10 = 190\n"
     ]
    }
   ],
   "source": [
    "# Calling the mulTable function\n",
    "mulTable(19)"
   ]
  },
  {
   "cell_type": "markdown",
   "metadata": {},
   "source": [
    "<p style=\"font-family:'Segoe UI';font-size:20px;color:blue\"><b>Question 2: Write a program to print twin primes less than 1000. If two consecutive odd numbers are both prime then they are known as twin primes."
   ]
  },
  {
   "cell_type": "code",
   "execution_count": 4,
   "metadata": {},
   "outputs": [
    {
     "name": "stdout",
     "output_type": "stream",
     "text": [
      "3  5\n",
      "5  7\n",
      "11  13\n",
      "17  19\n",
      "29  31\n",
      "41  43\n",
      "59  61\n",
      "71  73\n",
      "101  103\n",
      "107  109\n",
      "137  139\n",
      "149  151\n",
      "179  181\n",
      "191  193\n",
      "197  199\n",
      "227  229\n",
      "239  241\n",
      "269  271\n",
      "281  283\n",
      "311  313\n",
      "347  349\n",
      "419  421\n",
      "431  433\n",
      "461  463\n",
      "521  523\n",
      "569  571\n",
      "599  601\n",
      "617  619\n",
      "641  643\n",
      "659  661\n",
      "809  811\n",
      "821  823\n",
      "827  829\n",
      "857  859\n",
      "881  883\n"
     ]
    }
   ],
   "source": [
    "# defining the isConsecutive function to check two given numbers is consecutive or not\n",
    "def isConsecutive(n1, n2):\n",
    "    '''this function check that given two prime number is consecutive or not.\n",
    "        It returns 1 if given numbers are consecutive else returns 0.'''\n",
    "    result1 = isPrime(n1)\n",
    "    result2 = isPrime(n2)\n",
    "    \n",
    "    if result1 and result2:\n",
    "        return 1\n",
    "    else:\n",
    "        return 0\n",
    "\n",
    "    \n",
    "# defining the idPrime function to check given number is prime or not\n",
    "def isPrime(number):\n",
    "    '''this function check whether given number is prime or not.\n",
    "        It returns 1 if given number is prime else returns 0.'''\n",
    "    flag = 0\n",
    "    for i in range(2,number):\n",
    "        if number%i == 0:\n",
    "            flag = 1\n",
    "    if flag== 0:\n",
    "        return 1\n",
    "    else:\n",
    "        return 0\n",
    "\n",
    "for i in range(3,998,2): \n",
    "    # range is started by 3(not 2) because 2 is even-prime\n",
    "    # and we need odd primes\n",
    "    # range end at 997 b'z we need prime numbers less than 1000\n",
    "    \n",
    "    # assign two consecutive odd number \n",
    "    num1, num2 = i, i+2\n",
    "    \n",
    "    if isConsecutive(num1, num2):\n",
    "        print(\"%d  %d\"%(num1,num2))"
   ]
  },
  {
   "cell_type": "markdown",
   "metadata": {},
   "source": [
    "<p style=\"font-family:'Segoe UI';font-size:20px;color:blue\"><b>Question 3: Write a program to find out the prime factors of a number.</b> Example: prime factors of 56- 2, 2, 2, 7"
   ]
  },
  {
   "cell_type": "code",
   "execution_count": 5,
   "metadata": {},
   "outputs": [],
   "source": [
    "# helped by: stackoverflow to understand the steps to find prime factors of given number\n",
    "def primeFactor(number):\n",
    "    '''this function returns the list of prime factors'''\n",
    "    p_factor=[] # initializing the list to store the prime factors\n",
    "    i = 2 # initializing iteration variable\n",
    "    \n",
    "    while i**2 <= number:\n",
    "    # iterate the loop till i^2 <= number.\n",
    "    \n",
    "        if number%i!=0: \n",
    "            # check whether it is divisible by iterator(i) or not,\n",
    "            # if not divisible then increment the iterator(i)\n",
    "            i += 1\n",
    "        else:\n",
    "            # pointer(means program flow,not \"C\" pointer) is in else means\n",
    "            # number is divisible by iterator(i) means\n",
    "            # iterator is prime factor\n",
    "            \n",
    "            # so divide number by the prime factor\n",
    "            number //=i\n",
    "            \n",
    "            # finally, append to the list of prime factor 'p_factor'\n",
    "            p_factor.append(i)\n",
    "    if number>1:\n",
    "        # after all processing if n is greater than 1 then append it to prime factor\n",
    "        p_factor.append(number)\n",
    "    \n",
    "    # finally, return p_factor(A list containing all prime factors)\n",
    "    return p_factor\n",
    "        "
   ]
  },
  {
   "cell_type": "code",
   "execution_count": 6,
   "metadata": {},
   "outputs": [
    {
     "data": {
      "text/plain": [
       "[2, 3, 373, 1543]"
      ]
     },
     "execution_count": 6,
     "metadata": {},
     "output_type": "execute_result"
    }
   ],
   "source": [
    "# let's test primeFactor\n",
    "primeFactor(3453234)"
   ]
  },
  {
   "cell_type": "markdown",
   "metadata": {},
   "source": [
    "<p style=\"font-family:'Segoe UI';font-size:20px;color:blue\"><b>\n",
    "    Question 4: Write a function that converts a decimal number to binary number."
   ]
  },
  {
   "cell_type": "code",
   "execution_count": 13,
   "metadata": {},
   "outputs": [],
   "source": [
    "# I know Sir, that my strategy might be different(and even worst).\n",
    "# But, after a long time for searching over google(I didn't find any one solution)\n",
    "# over google every writer were just printing the binary number\n",
    "# printing the binary number were really easy\n",
    "# But, I find difficulty to write a function     \n",
    "# and finally.....................\n",
    "# I come to this conclusion\n",
    "\n",
    "\n",
    "\n",
    "def decimalToBinary(dec_number):\n",
    "    '''this function returns only binary of positive number'''\n",
    "    \n",
    "     # initializing the string to concatenate the remainder into string\n",
    "    binary_number = ''\n",
    "    \n",
    "    # check whether given number is less than 0('zero'), If YES... return 0.\n",
    "    if dec_number <= 0:\n",
    "        return 0;\n",
    "    \n",
    "    # CRUX part(hahaha...)\n",
    "    while(dec_number>0):\n",
    "        # iterate loop till decimal number is greater than 0\n",
    "        \n",
    "        # compute remainder and store it in 'rem' variable\n",
    "        rem = dec_number % 2\n",
    "        \n",
    "        # divide the number by 2 to use this processed number for next iteration\n",
    "        dec_number //= 2\n",
    "        \n",
    "        # concatenate the remainder with string(binary_number)\n",
    "        binary_number += str(rem)\n",
    "    \n",
    "    \n",
    "    # step1: reverse the string\n",
    "    # step2: typecast the string(binary_number) to an integer number\n",
    "    # step3: override the binary_number variable by new processed binary number\n",
    "    binary_number= int(binary_number[::-1])\n",
    "    \n",
    "    # finally return the number\n",
    "    return binary_number"
   ]
  },
  {
   "cell_type": "code",
   "execution_count": 14,
   "metadata": {},
   "outputs": [
    {
     "data": {
      "text/plain": [
       "1011100"
      ]
     },
     "execution_count": 14,
     "metadata": {},
     "output_type": "execute_result"
    }
   ],
   "source": [
    "decimalToBinary(92)"
   ]
  },
  {
   "cell_type": "code",
   "execution_count": 15,
   "metadata": {},
   "outputs": [],
   "source": [
    "# let's upgrade the function to support -ve(negative) numbers binary also\n",
    "\n",
    "def decimalToBinaryUpgraded(number):\n",
    "    '''In case of negative number it will return string not integer binary value'''\n",
    "    if number == 0:\n",
    "        return 0\n",
    "    \n",
    "    elif number > 0:\n",
    "        binary_of_number = decimalToBinary(number)\n",
    "        return binary_of_number\n",
    "    \n",
    "    elif number < 0:\n",
    "        \n",
    "        number = abs(number)\n",
    "        binary_of_number = decimalToBinary(number)\n",
    "        \n",
    "        # store the binary of given number as string in temp\n",
    "        temp = str(binary_of_number)\n",
    "        \n",
    "        #let's reverse the 'temp' variable to implement the idea of 2's complement\n",
    "        temp = temp[::-1] # the fastest way to reverse the string\n",
    "        \n",
    "        #let's initialize the count value by 0\n",
    "        count = 0\n",
    "        \n",
    "        new_String = ''\n",
    "        for c in temp:\n",
    "            if c=='0' and count == 0:\n",
    "                new_String += '0'\n",
    "            elif c=='1' and count == 0:\n",
    "                count = 1\n",
    "                new_String += '1'\n",
    "            elif c=='0' and count == 1:\n",
    "                new_String += '1'\n",
    "            elif c=='1' and count == 1:\n",
    "                new_String += '0'\n",
    "        \n",
    "        return (new_String[::-1])\n",
    "        "
   ]
  },
  {
   "cell_type": "code",
   "execution_count": 16,
   "metadata": {},
   "outputs": [
    {
     "data": {
      "text/plain": [
       "1000010"
      ]
     },
     "execution_count": 16,
     "metadata": {},
     "output_type": "execute_result"
    }
   ],
   "source": [
    "# let's test decimalToBinaryUpgraded\n",
    "decimalToBinaryUpgraded(66)"
   ]
  },
  {
   "cell_type": "code",
   "execution_count": 17,
   "metadata": {},
   "outputs": [
    {
     "data": {
      "text/plain": [
       "'0110'"
      ]
     },
     "execution_count": 17,
     "metadata": {},
     "output_type": "execute_result"
    }
   ],
   "source": [
    "decimalToBinaryUpgraded(-10)\n",
    "# In case of negative number string is returned because\n",
    "# when we typecast the given string into int, the 'zero' (first digit of binary removed)"
   ]
  },
  {
   "cell_type": "markdown",
   "metadata": {},
   "source": [
    "<p style=\"font-family:'Segoe UI';font-size:16px;color:blue\"><b>Question 5: Write a program to implement these formulae of permutations and combinations.</b><br> Number of permutations of n objects taken r at a time:</p> \n",
    "\n",
    "`p(n,r)= n!/(n-r)!`\n",
    "<p style=\"font-family:'Segoe UI';font-size:16px;color:blue\">combinations of n objects taken r at a time is</p> \n",
    "\n",
    "`c(n,r) = n!/(r!*(n-r)!`.\n"
   ]
  },
  {
   "cell_type": "code",
   "execution_count": 18,
   "metadata": {},
   "outputs": [
    {
     "data": {
      "text/plain": [
       "120"
      ]
     },
     "execution_count": 18,
     "metadata": {},
     "output_type": "execute_result"
    }
   ],
   "source": [
    "# let's write function to find factorial first\n",
    "\n",
    "def factorial(n):\n",
    "    '''this function returns the factorial of given number.'''\n",
    "    if n==0:\n",
    "        return 0\n",
    "    elif n<0:\n",
    "        print('oops! You entered wrong number')\n",
    "        exit(0)\n",
    "    else:   \n",
    "        result=1\n",
    "        for i in range(1,n+1):\n",
    "            result = result*i\n",
    "        return result\n",
    "        \n",
    "factorial(5)\n",
    "    "
   ]
  },
  {
   "cell_type": "code",
   "execution_count": 19,
   "metadata": {},
   "outputs": [
    {
     "data": {
      "text/plain": [
       "20.0"
      ]
     },
     "execution_count": 19,
     "metadata": {},
     "output_type": "execute_result"
    }
   ],
   "source": [
    "# let's write a function to find permutation\n",
    "\n",
    "def permutations(n,r):\n",
    "    '''this function returns permutation.'''\n",
    "    return factorial(n)/factorial(n-2)\n",
    "\n",
    "permutations(5,2)"
   ]
  },
  {
   "cell_type": "code",
   "execution_count": 20,
   "metadata": {},
   "outputs": [
    {
     "data": {
      "text/plain": [
       "10.0"
      ]
     },
     "execution_count": 20,
     "metadata": {},
     "output_type": "execute_result"
    }
   ],
   "source": [
    "# let's write a function to find combination\n",
    "\n",
    "def combinations(n,r):\n",
    "    '''this functions returns combination'''\n",
    "    return factorial(n)/(factorial(r)*factorial(n-r))\n",
    "\n",
    "combinations(5,2)"
   ]
  },
  {
   "cell_type": "markdown",
   "metadata": {},
   "source": [
    "<p style=\"font-family:'Segoe UI';font-size:16px;color:blue\"><b>Question 6:</b>\n",
    "    Write a function <i><u>cubesum()</u></i> that accepts an integer and returns the sum of the cubes of individual digits of that number.<br>\n",
    "    Use this function to make functions <i><u>PrintArmstrong()</u></i> and <i><u>isArmstrong()</u></i> to print Armstrong numbers and to find whether is an Armstrong number.</p>\n",
    "\n",
    "<p style=\"font-family:'Segoe UI';font-size:16px;color:black\"><b>Armstrong number:</b> is a number that is equal to the sum of cubes of it's every digit for ex:  153: 1^3 + 5^3 + 3^3 => 1+125+27 = 153, right."
   ]
  },
  {
   "cell_type": "code",
   "execution_count": 21,
   "metadata": {},
   "outputs": [],
   "source": [
    "# function definition of 'cubesum()'\n",
    "\n",
    "def cubesum(number):\n",
    "    '''this function returns the sum of cube of digits of given number.'''\n",
    "    #digit is to store the digits of the given number\n",
    "    digit = 0 \n",
    "    \n",
    "    # result variable is to store the sum of cubes\n",
    "    result = 0\n",
    "    \n",
    "    # iterate the loop till number>0 \n",
    "    while(number>0):\n",
    "        \n",
    "        # finding the digit by applying remainder by 10 to the given number\n",
    "        digit = number%10\n",
    "        \n",
    "        # storing the result into result variable\n",
    "        result += digit**3\n",
    "        \n",
    "        # divide number by 10 for next iteration because I have to find next digit\n",
    "        number //= 10\n",
    "    \n",
    "    # finally retur the calculated value\n",
    "    return result"
   ]
  },
  {
   "cell_type": "code",
   "execution_count": 22,
   "metadata": {},
   "outputs": [
    {
     "data": {
      "text/plain": [
       "153"
      ]
     },
     "execution_count": 22,
     "metadata": {},
     "output_type": "execute_result"
    }
   ],
   "source": [
    "cubesum(153)"
   ]
  },
  {
   "cell_type": "code",
   "execution_count": 23,
   "metadata": {},
   "outputs": [
    {
     "name": "stdout",
     "output_type": "stream",
     "text": [
      "Armstrong numbers between 1 and 999\n",
      "1\n",
      "153\n",
      "370\n",
      "371\n",
      "407\n"
     ]
    }
   ],
   "source": [
    "def printArmstrong(initial,final):\n",
    "    '''this method prints the armstrong number between the given range.\n",
    "    \n",
    "        'initial':\n",
    "        \n",
    "             dtype: int(integer).\n",
    "            'initial' >=1 ( initial should be greater than or equal to 1)\n",
    "            'initial' will be included in the range\n",
    "        \n",
    "        'final':\n",
    "             dtype: int(integer).\n",
    "             final <= 999\n",
    "\n",
    "            'final' can be any Natural number.\n",
    "            'final' will also be included in the range.\n",
    "    '''\n",
    "    print(\"Armstrong numbers between %d and %d\"%(initial,final))\n",
    "    for i in range(initial,final+1):\n",
    "        if i == cubesum(i):\n",
    "            print(i)\n",
    "            \n",
    "printArmstrong(1,999)"
   ]
  },
  {
   "cell_type": "code",
   "execution_count": 26,
   "metadata": {},
   "outputs": [
    {
     "name": "stdout",
     "output_type": "stream",
     "text": [
      "Yes\n"
     ]
    }
   ],
   "source": [
    "def isArmstrong(number):\n",
    "    if number == cubesum(number):\n",
    "        return 1\n",
    "    else:\n",
    "        return 0\n",
    "\n",
    "result = isArmstrong(153)\n",
    "\n",
    "if result:\n",
    "    print('Yes')\n",
    "else:\n",
    "    print('No')"
   ]
  },
  {
   "cell_type": "markdown",
   "metadata": {},
   "source": [
    "<p style=\"font-family:'Segoe UI';font-size:16px;color:blue\"><b>Question 7:</b>\n",
    "    Write a function <b>prodDigits()</b> that inputs a number and returns the product of digits of that number.</p>"
   ]
  },
  {
   "cell_type": "code",
   "execution_count": 27,
   "metadata": {},
   "outputs": [],
   "source": [
    "# definition of prodDigits()\n",
    "\n",
    "def prodDigits(number):\n",
    "    '''this function returns the product of digits of given number.'''\n",
    "    if number==0:\n",
    "        return 0\n",
    "    \n",
    "    product = 1\n",
    "    \n",
    "    while(number>0):\n",
    "        digit = number%10\n",
    "        product *= digit\n",
    "        number //= 10\n",
    "        \n",
    "    return product"
   ]
  },
  {
   "cell_type": "code",
   "execution_count": 28,
   "metadata": {},
   "outputs": [
    {
     "data": {
      "text/plain": [
       "120"
      ]
     },
     "execution_count": 28,
     "metadata": {},
     "output_type": "execute_result"
    }
   ],
   "source": [
    "prodDigits(12345)"
   ]
  },
  {
   "cell_type": "code",
   "execution_count": 29,
   "metadata": {},
   "outputs": [
    {
     "data": {
      "text/plain": [
       "0"
      ]
     },
     "execution_count": 29,
     "metadata": {},
     "output_type": "execute_result"
    }
   ],
   "source": [
    "prodDigits(10234)"
   ]
  },
  {
   "cell_type": "markdown",
   "metadata": {},
   "source": [
    "<p style=\"font-family:'Segoe UI';font-size:16px;color:blue\"><b>Question 8:</b> If all digits of a n are multiplied by each other repeating with the product, the one digit number obtained at last is called the multiplicative digital root of n. The number of times digits need to be multiplied to reach one digit is called the multiplicative persistance of n.</p>"
   ]
  },
  {
   "cell_type": "code",
   "execution_count": 40,
   "metadata": {},
   "outputs": [],
   "source": [
    "# defining multiplicativeDigitalRoot function\n",
    "\n",
    "def MDR_and_persistance(number):\n",
    "    mdr = number\n",
    "    count =0\n",
    "    while(mdr > 9):\n",
    "        count +=1\n",
    "        mdr = prodDigits(mdr)\n",
    "    \n",
    "    # return mdr and persistance\n",
    "    return mdr,count"
   ]
  },
  {
   "cell_type": "code",
   "execution_count": 41,
   "metadata": {},
   "outputs": [],
   "source": [
    "mdr,persistance = MDR_and_persistance(23487)"
   ]
  },
  {
   "cell_type": "code",
   "execution_count": 42,
   "metadata": {},
   "outputs": [
    {
     "data": {
      "text/plain": [
       "(6, 4)"
      ]
     },
     "execution_count": 42,
     "metadata": {},
     "output_type": "execute_result"
    }
   ],
   "source": [
    "mdr, persistance"
   ]
  },
  {
   "cell_type": "markdown",
   "metadata": {},
   "source": [
    "<p style=\"font-family:'Segoe UI';font-size:16px;color:blue\"><b>Question 9:</b> Write a function <b>sumPdivisors()</b> that finds the sum of proper divisors of a number. Proper divisors of a number are those numbers by which the number is divisible, except the number itself. For example proper divisors of 36 are 1, 2, 3, 4, 6, 9, 18"
   ]
  },
  {
   "cell_type": "code",
   "execution_count": 68,
   "metadata": {},
   "outputs": [],
   "source": [
    "# defining sumPdivisors()\n",
    "\n",
    "def sumPdivisors(number):\n",
    "    result=0 \n",
    "    divisors=[]\n",
    "    for i in range(1,number):\n",
    "        if number%i==0:\n",
    "            result += i\n",
    "            divisors.append(i)\n",
    "    return divisors,result"
   ]
  },
  {
   "cell_type": "code",
   "execution_count": 69,
   "metadata": {},
   "outputs": [
    {
     "data": {
      "text/plain": [
       "([1], 1)"
      ]
     },
     "execution_count": 69,
     "metadata": {},
     "output_type": "execute_result"
    }
   ],
   "source": [
    "sumPdivisors(2)"
   ]
  },
  {
   "cell_type": "code",
   "execution_count": 70,
   "metadata": {},
   "outputs": [
    {
     "data": {
      "text/plain": [
       "([1, 2, 3], 6)"
      ]
     },
     "execution_count": 70,
     "metadata": {},
     "output_type": "execute_result"
    }
   ],
   "source": [
    "sumPdivisors(6)"
   ]
  },
  {
   "cell_type": "code",
   "execution_count": 71,
   "metadata": {},
   "outputs": [
    {
     "data": {
      "text/plain": [
       "([1, 2, 3, 4, 6], 16)"
      ]
     },
     "execution_count": 71,
     "metadata": {},
     "output_type": "execute_result"
    }
   ],
   "source": [
    "sumPdivisors(12)"
   ]
  },
  {
   "cell_type": "code",
   "execution_count": 54,
   "metadata": {},
   "outputs": [
    {
     "data": {
      "text/plain": [
       "([1, 3, 5], 9)"
      ]
     },
     "execution_count": 54,
     "metadata": {},
     "output_type": "execute_result"
    }
   ],
   "source": [
    "sumPdivisors(15)"
   ]
  },
  {
   "cell_type": "markdown",
   "metadata": {},
   "source": [
    "<p style=\"font-family:'Segoe UI';font-size:16px;color:#0052FD\"><b>Question 10:</b> A number is called perfect if the sum of proper divisors of that number is equal to the number. For example 28 is perfect number, since 1+2+4+7+14=28. Write a program to print all the perfect numbers in a given range.</p>"
   ]
  },
  {
   "cell_type": "code",
   "execution_count": 55,
   "metadata": {},
   "outputs": [],
   "source": [
    "# function to return all perfect number in given range.\n",
    "\n",
    "def perfectNumber(first,last):\n",
    "    result=[]\n",
    "    for i in range(first,last+1):\n",
    "        _,div_sum = sumPdivisors(i)\n",
    "        \n",
    "        if div_sum == i:\n",
    "            result.append(i)\n",
    "        \n",
    "    return result"
   ]
  },
  {
   "cell_type": "code",
   "execution_count": 56,
   "metadata": {},
   "outputs": [
    {
     "data": {
      "text/plain": [
       "[6, 28, 496, 8128]"
      ]
     },
     "execution_count": 56,
     "metadata": {},
     "output_type": "execute_result"
    }
   ],
   "source": [
    "perfectNumber(1,10000)"
   ]
  },
  {
   "cell_type": "markdown",
   "metadata": {},
   "source": [
    "<p style=\"font-family:'Segoe UI';font-size:16px;color:blue\">\n",
    "    <b>Question 11:</b>. Two different numbers are called amicable numbers if the sum of the proper divisors of \n",
    "each is equal to the other number. For example 220 and 284 are amicable numbers.<br>\n",
    "    Sum of proper divisors of 220 = 1+2+4+5+10+11+20+22+44+55+110 = 284<br>\n",
    "Sum of proper divisors of 284 = 1+2+4+71+142 = 220<br>\n",
    "Write a function to print pairs of amicable numbers in a range\n",
    "    "
   ]
  },
  {
   "cell_type": "code",
   "execution_count": 65,
   "metadata": {},
   "outputs": [],
   "source": [
    "def amicablePair(first,last):\n",
    "    \n",
    "    result=[]\n",
    "    for i in range(first,last+1):\n",
    "        _, div_sum_i= sumPdivisors(i)\n",
    "        _, div_sum_1= sumPdivisors(div_sum_i)\n",
    "        \n",
    "        if div_sum_1 == i:\n",
    "                result.append((i,div_sum_i))\n",
    "                \n",
    "    return result"
   ]
  },
  {
   "cell_type": "code",
   "execution_count": 67,
   "metadata": {},
   "outputs": [
    {
     "data": {
      "text/plain": [
       "[(6, 6),\n",
       " (28, 28),\n",
       " (220, 284),\n",
       " (284, 220),\n",
       " (496, 496),\n",
       " (1184, 1210),\n",
       " (1210, 1184),\n",
       " (2620, 2924),\n",
       " (2924, 2620),\n",
       " (5020, 5564),\n",
       " (5564, 5020),\n",
       " (6232, 6368),\n",
       " (6368, 6232),\n",
       " (8128, 8128)]"
      ]
     },
     "execution_count": 67,
     "metadata": {},
     "output_type": "execute_result"
    }
   ],
   "source": [
    "amicablePair(1,10000)"
   ]
  },
  {
   "cell_type": "markdown",
   "metadata": {},
   "source": [
    "<p style=\"font-family:'Segoe UI';font-size:16px;color:blue\"><b>Question 12:</b> Write a program which can filter odd numbers in a list by using <b>filter function</b>.</p>"
   ]
  },
  {
   "cell_type": "code",
   "execution_count": 11,
   "metadata": {},
   "outputs": [],
   "source": [
    "# let's create a function which returns filtered odd numbers from a given list\n",
    "\n",
    "def odd_filter(number):\n",
    "    \n",
    "    # if given number is odd then return otherwise, do nothing\n",
    "    if number%2 !=0:\n",
    "        return number\n",
    "\n",
    "#list of numbers\n",
    "numbers = [23,45,34,45,6,67,5,6,54,56,5,454,45,45,5,6,7,7,676]\n",
    "\n",
    "# filtering odd number from the list using filter method\n",
    "odd_numbers = filter(odd_filter,numbers)"
   ]
  },
  {
   "cell_type": "code",
   "execution_count": 12,
   "metadata": {},
   "outputs": [
    {
     "data": {
      "text/plain": [
       "[23, 45, 45, 67, 5, 5, 45, 45, 5, 7, 7]"
      ]
     },
     "execution_count": 12,
     "metadata": {},
     "output_type": "execute_result"
    }
   ],
   "source": [
    "list(odd_numbers)"
   ]
  },
  {
   "cell_type": "markdown",
   "metadata": {},
   "source": [
    "<p style=\"font-family:'Segoe UI';font-size:16px;color:blue\"><b>Question 13:</b> Write a prgram which can map() to make a list whose elements are cube of elements in a given list.</p>"
   ]
  },
  {
   "cell_type": "code",
   "execution_count": 3,
   "metadata": {},
   "outputs": [
    {
     "name": "stdout",
     "output_type": "stream",
     "text": [
      "list1 : [1, 2, 3, 4, 5, 6]\n",
      "list2 (after perform cube operation on list): [1, 8, 27, 64, 125, 216]\n"
     ]
    }
   ],
   "source": [
    "# let's write a function\n",
    "\n",
    "def cube(item):\n",
    "    return item**3\n",
    "\n",
    "list1=[1,2,3,4,5,6]\n",
    "\n",
    "list2 = list(map(cube,list1))\n",
    "\n",
    "\n",
    "print('list1 :',list1)\n",
    "print('list2 (after perform cube operation on list):',list2)"
   ]
  },
  {
   "cell_type": "markdown",
   "metadata": {},
   "source": [
    "<p style=\"font-family:'Segoe UI';font-size:16px;color:blue\"><b>Question 14:</b> Write a program which can map() and filter() to make a list whose elements are cube of even number in a given list.</p>"
   ]
  },
  {
   "cell_type": "code",
   "execution_count": 1,
   "metadata": {},
   "outputs": [],
   "source": [
    "def cube(item):\n",
    "    return item**3\n",
    "\n",
    "def even_number(item):\n",
    "    if item%2 ==0:\n",
    "        return item"
   ]
  },
  {
   "cell_type": "code",
   "execution_count": 3,
   "metadata": {},
   "outputs": [],
   "source": [
    "num_list = list(range(10))"
   ]
  },
  {
   "cell_type": "code",
   "execution_count": 4,
   "metadata": {},
   "outputs": [
    {
     "data": {
      "text/plain": [
       "[0, 1, 2, 3, 4, 5, 6, 7, 8, 9]"
      ]
     },
     "execution_count": 4,
     "metadata": {},
     "output_type": "execute_result"
    }
   ],
   "source": [
    "num_list"
   ]
  },
  {
   "cell_type": "code",
   "execution_count": 7,
   "metadata": {},
   "outputs": [],
   "source": [
    "cube_list = list(map(cube,num_list))"
   ]
  },
  {
   "cell_type": "code",
   "execution_count": 8,
   "metadata": {},
   "outputs": [
    {
     "data": {
      "text/plain": [
       "[0, 1, 8, 27, 64, 125, 216, 343, 512, 729]"
      ]
     },
     "execution_count": 8,
     "metadata": {},
     "output_type": "execute_result"
    }
   ],
   "source": [
    "cube_list"
   ]
  },
  {
   "cell_type": "code",
   "execution_count": 10,
   "metadata": {},
   "outputs": [],
   "source": [
    "cube_even_list = list(filter(even_number,cube_list))"
   ]
  },
  {
   "cell_type": "code",
   "execution_count": 11,
   "metadata": {},
   "outputs": [
    {
     "data": {
      "text/plain": [
       "[8, 64, 216, 512]"
      ]
     },
     "execution_count": 11,
     "metadata": {},
     "output_type": "execute_result"
    }
   ],
   "source": [
    "cube_even_list"
   ]
  },
  {
   "cell_type": "code",
   "execution_count": null,
   "metadata": {},
   "outputs": [],
   "source": []
  }
 ],
 "metadata": {
  "kernelspec": {
   "display_name": "Python 3",
   "language": "python",
   "name": "python3"
  },
  "language_info": {
   "codemirror_mode": {
    "name": "ipython",
    "version": 3
   },
   "file_extension": ".py",
   "mimetype": "text/x-python",
   "name": "python",
   "nbconvert_exporter": "python",
   "pygments_lexer": "ipython3",
   "version": "3.7.4"
  }
 },
 "nbformat": 4,
 "nbformat_minor": 2
}
