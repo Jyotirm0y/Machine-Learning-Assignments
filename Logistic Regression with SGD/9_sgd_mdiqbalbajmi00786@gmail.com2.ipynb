{
 "cells": [
  {
   "cell_type": "markdown",
   "metadata": {
    "colab_type": "text",
    "id": "7eiDWcM_MC3H"
   },
   "source": [
    "# <font color='red'>Implement SGD Classifier with Logloss and L2 regularization Using SGD without using sklearn</font>"
   ]
  },
  {
   "cell_type": "markdown",
   "metadata": {
    "colab_type": "text",
    "id": "yfe2NTQtLq11"
   },
   "source": [
    "**There will be some functions that start with the word \"grader\" ex: grader_weights(), grader_sigmoid(), grader_logloss() etc, you should not change those function definition.<br><br>Every Grader function has to return True.**"
   ]
  },
  {
   "cell_type": "markdown",
   "metadata": {
    "colab_type": "text",
    "id": "Fk5DSPCLxqT-"
   },
   "source": [
    "<font color='red'> Importing packages</font>"
   ]
  },
  {
   "cell_type": "code",
   "execution_count": 49,
   "metadata": {
    "colab": {},
    "colab_type": "code",
    "id": "42Et8BKIxnsp"
   },
   "outputs": [],
   "source": [
    "import numpy as np\n",
    "import pandas as pd\n",
    "from sklearn.datasets import make_classification\n",
    "from sklearn.model_selection import train_test_split\n",
    "from sklearn.preprocessing import StandardScaler\n",
    "from sklearn import linear_model"
   ]
  },
  {
   "cell_type": "markdown",
   "metadata": {
    "colab_type": "text",
    "id": "NpSk3WQBx7TQ"
   },
   "source": [
    "<font color='red'>Creating custom dataset</font>"
   ]
  },
  {
   "cell_type": "code",
   "execution_count": 50,
   "metadata": {
    "colab": {},
    "colab_type": "code",
    "id": "BsMp0oWzx6dv"
   },
   "outputs": [],
   "source": [
    "# please don't change random_state\n",
    "X, y = make_classification(n_samples=50000, n_features=15, n_informative=10, n_redundant=5,\n",
    "                           n_classes=2, weights=[0.7], class_sep=0.7, random_state=15)\n",
    "# make_classification is used to create custom dataset \n",
    "# Please check this link (https://scikit-learn.org/stable/modules/generated/sklearn.datasets.make_classification.html) for more details"
   ]
  },
  {
   "cell_type": "code",
   "execution_count": 51,
   "metadata": {
    "colab": {
     "base_uri": "https://localhost:8080/",
     "height": 34
    },
    "colab_type": "code",
    "id": "L8W2fg1cyGdX",
    "outputId": "029d4c84-03b2-4143-a04c-34ff49c88890"
   },
   "outputs": [
    {
     "data": {
      "text/plain": [
       "((50000, 15), (50000,))"
      ]
     },
     "execution_count": 51,
     "metadata": {},
     "output_type": "execute_result"
    }
   ],
   "source": [
    "X.shape, y.shape"
   ]
  },
  {
   "cell_type": "markdown",
   "metadata": {
    "colab_type": "text",
    "id": "x99RWCgpqNHw"
   },
   "source": [
    "<font color='red'>Splitting data into train and test </font>"
   ]
  },
  {
   "cell_type": "code",
   "execution_count": 52,
   "metadata": {
    "colab": {},
    "colab_type": "code",
    "id": "0Kh4dBfVyJMP"
   },
   "outputs": [],
   "source": [
    "#please don't change random state\n",
    "X_train, X_test, y_train, y_test = train_test_split(X, y, test_size=0.25, random_state=15)"
   ]
  },
  {
   "cell_type": "code",
   "execution_count": 53,
   "metadata": {
    "colab": {},
    "colab_type": "code",
    "id": "gONY1YiDq7jD"
   },
   "outputs": [],
   "source": [
    "# # Standardizing the data.\n",
    "# scaler = StandardScaler()\n",
    "# X_train = scaler.fit_transform(X_train)\n",
    "# X_test = scaler.transform(X_test)"
   ]
  },
  {
   "cell_type": "code",
   "execution_count": 54,
   "metadata": {
    "colab": {
     "base_uri": "https://localhost:8080/",
     "height": 34
    },
    "colab_type": "code",
    "id": "0DR_YMBsyOci",
    "outputId": "732014d9-1731-4d3f-918f-a9f5255ee149"
   },
   "outputs": [
    {
     "data": {
      "text/plain": [
       "((37500, 15), (37500,), (12500, 15), (12500,))"
      ]
     },
     "execution_count": 54,
     "metadata": {},
     "output_type": "execute_result"
    }
   ],
   "source": [
    "X_train.shape, y_train.shape, X_test.shape, y_test.shape"
   ]
  },
  {
   "cell_type": "markdown",
   "metadata": {
    "colab_type": "text",
    "id": "BW4OHswfqjHR"
   },
   "source": [
    "# <font color='red' size=5>SGD classifier</font>"
   ]
  },
  {
   "cell_type": "code",
   "execution_count": 55,
   "metadata": {
    "colab": {
     "base_uri": "https://localhost:8080/",
     "height": 118
    },
    "colab_type": "code",
    "id": "3HpvTwDHyQQy",
    "outputId": "5729f08c-079a-4b17-bf51-f9aeb5abb13b"
   },
   "outputs": [
    {
     "data": {
      "text/plain": [
       "SGDClassifier(eta0=0.0001, learning_rate='constant', loss='log',\n",
       "              random_state=15, verbose=2)"
      ]
     },
     "execution_count": 55,
     "metadata": {},
     "output_type": "execute_result"
    }
   ],
   "source": [
    "# alpha : float\n",
    "# Constant that multiplies the regularization term. \n",
    "\n",
    "# eta0 : double\n",
    "# The initial learning rate for the ‘constant’, ‘invscaling’ or ‘adaptive’ schedules.\n",
    "\n",
    "clf = linear_model.SGDClassifier(eta0=0.0001, alpha=0.0001, loss='log', random_state=15, penalty='l2', tol=1e-3, verbose=2, learning_rate='constant')\n",
    "clf\n",
    "# Please check this documentation (https://scikit-learn.org/stable/modules/generated/sklearn.linear_model.SGDClassifier.html) "
   ]
  },
  {
   "cell_type": "code",
   "execution_count": 56,
   "metadata": {
    "colab": {
     "base_uri": "https://localhost:8080/",
     "height": 638
    },
    "colab_type": "code",
    "id": "YYaVyQ2lyXcr",
    "outputId": "dc0bf840-b37e-4552-e513-84b64f6c64c4"
   },
   "outputs": [
    {
     "name": "stdout",
     "output_type": "stream",
     "text": [
      "-- Epoch 1\n",
      "Norm: 0.77, NNZs: 15, Bias: -0.316653, T: 37500, Avg. loss: 0.455552\n",
      "Total training time: 0.01 seconds.\n",
      "-- Epoch 2\n",
      "Norm: 0.91, NNZs: 15, Bias: -0.472747, T: 75000, Avg. loss: 0.394686\n",
      "Total training time: 0.02 seconds.\n",
      "-- Epoch 3\n",
      "Norm: 0.98, NNZs: 15, Bias: -0.580082, T: 112500, Avg. loss: 0.385711\n",
      "Total training time: 0.03 seconds.\n",
      "-- Epoch 4\n",
      "Norm: 1.02, NNZs: 15, Bias: -0.658292, T: 150000, Avg. loss: 0.382083\n",
      "Total training time: 0.04 seconds.\n",
      "-- Epoch 5\n",
      "Norm: 1.04, NNZs: 15, Bias: -0.719528, T: 187500, Avg. loss: 0.380486\n",
      "Total training time: 0.05 seconds.\n",
      "-- Epoch 6\n",
      "Norm: 1.05, NNZs: 15, Bias: -0.763409, T: 225000, Avg. loss: 0.379578\n",
      "Total training time: 0.06 seconds.\n",
      "-- Epoch 7\n",
      "Norm: 1.06, NNZs: 15, Bias: -0.795106, T: 262500, Avg. loss: 0.379150\n",
      "Total training time: 0.06 seconds.\n",
      "-- Epoch 8\n",
      "Norm: 1.06, NNZs: 15, Bias: -0.819925, T: 300000, Avg. loss: 0.378856\n",
      "Total training time: 0.07 seconds.\n",
      "-- Epoch 9\n",
      "Norm: 1.07, NNZs: 15, Bias: -0.837805, T: 337500, Avg. loss: 0.378585\n",
      "Total training time: 0.08 seconds.\n",
      "-- Epoch 10\n",
      "Norm: 1.08, NNZs: 15, Bias: -0.853138, T: 375000, Avg. loss: 0.378630\n",
      "Total training time: 0.08 seconds.\n",
      "Convergence after 10 epochs took 0.08 seconds\n"
     ]
    },
    {
     "data": {
      "text/plain": [
       "SGDClassifier(eta0=0.0001, learning_rate='constant', loss='log',\n",
       "              random_state=15, verbose=2)"
      ]
     },
     "execution_count": 56,
     "metadata": {},
     "output_type": "execute_result"
    }
   ],
   "source": [
    "clf.fit(X=X_train, y=y_train) # fitting our model"
   ]
  },
  {
   "cell_type": "code",
   "execution_count": 57,
   "metadata": {
    "colab": {
     "base_uri": "https://localhost:8080/",
     "height": 101
    },
    "colab_type": "code",
    "id": "EAfkVI6GyaRO",
    "outputId": "bc88f920-6531-4106-9b4c-4dabb6d72b47"
   },
   "outputs": [
    {
     "data": {
      "text/plain": [
       "(array([[-0.42336692,  0.18547565, -0.14859036,  0.34144407, -0.2081867 ,\n",
       "          0.56016579, -0.45242483, -0.09408813,  0.2092732 ,  0.18084126,\n",
       "          0.19705191,  0.00421916, -0.0796037 ,  0.33852802,  0.02266721]]),\n",
       " (1, 15),\n",
       " array([-0.8531383]))"
      ]
     },
     "execution_count": 57,
     "metadata": {},
     "output_type": "execute_result"
    }
   ],
   "source": [
    "clf.coef_, clf.coef_.shape, clf.intercept_\n",
    "#clf.coef_ will return the weights\n",
    "#clf.coef_.shape will return the shape of weights\n",
    "#clf.intercept_ will return the intercept term"
   ]
  },
  {
   "cell_type": "code",
   "execution_count": 58,
   "metadata": {},
   "outputs": [],
   "source": [
    "predictions = clf.predict(X_test)"
   ]
  },
  {
   "cell_type": "code",
   "execution_count": 59,
   "metadata": {},
   "outputs": [],
   "source": [
    "from sklearn.metrics import accuracy_score,classification_report"
   ]
  },
  {
   "cell_type": "code",
   "execution_count": 60,
   "metadata": {},
   "outputs": [
    {
     "data": {
      "text/plain": [
       "0.83336"
      ]
     },
     "execution_count": 60,
     "metadata": {},
     "output_type": "execute_result"
    }
   ],
   "source": [
    "accuracy_score(y_test, predictions)"
   ]
  },
  {
   "cell_type": "code",
   "execution_count": 61,
   "metadata": {},
   "outputs": [
    {
     "data": {
      "text/plain": [
       "1.0"
      ]
     },
     "execution_count": 61,
     "metadata": {},
     "output_type": "execute_result"
    }
   ],
   "source": [
    "clf.C"
   ]
  },
  {
   "cell_type": "markdown",
   "metadata": {
    "colab_type": "text",
    "id": "_-CcGTKgsMrY"
   },
   "source": [
    "\n",
    "\n",
    "```\n",
    "# This is formatted as code\n",
    "```\n",
    "\n",
    "## <font color='red' size=5> Implement Logistic Regression with L2 regularization Using SGD: without using sklearn </font>\n",
    "\n"
   ]
  },
  {
   "cell_type": "markdown",
   "metadata": {
    "colab_type": "text",
    "id": "W1_8bdzitDlM"
   },
   "source": [
    "\n",
    "\n",
    "\n",
    "1.  We will be giving you some functions, please write code in that functions only.\n",
    "\n",
    "2.  After every function, we will be giving you expected output, please make sure that you get that output. \n",
    "\n",
    "\n",
    "\n"
   ]
  },
  {
   "cell_type": "markdown",
   "metadata": {
    "colab_type": "text",
    "id": "zU2Y3-FQuJ3z"
   },
   "source": [
    "\n",
    "<br>\n",
    "\n",
    "* Initialize the weight_vector and intercept term to zeros (Write your code in <font color='blue'>def initialize_weights()</font>)\n",
    "\n",
    "* Create a loss function (Write your code in <font color='blue'>def logloss()</font>) \n",
    "\n",
    " $log loss = -1*\\frac{1}{n}\\Sigma_{for each Yt,Y_{pred}}(Ytlog10(Y_{pred})+(1-Yt)log10(1-Y_{pred}))$\n",
    "- for each epoch:\n",
    "\n",
    "    - for each batch of data points in train: (keep batch size=1)\n",
    "\n",
    "        - calculate the gradient of loss function w.r.t each weight in weight vector (write your code in <font color='blue'>def gradient_dw()</font>)\n",
    "\n",
    "        $dw^{(t)} = x_n(y_n − σ((w^{(t)})^{T} x_n+b^{t}))- \\frac{λ}{N}w^{(t)})$ <br>\n",
    "\n",
    "        - Calculate the gradient of the intercept (write your code in <font color='blue'> def gradient_db()</font>) <a href='https://drive.google.com/file/d/1nQ08-XY4zvOLzRX-lGf8EYB5arb7-m1H/view?usp=sharing'>check this</a>\n",
    "\n",
    "           $ db^{(t)} = y_n- σ((w^{(t)})^{T} x_n+b^{t}))$\n",
    "\n",
    "        - Update weights and intercept (check the equation number 32 in the above mentioned <a href='https://drive.google.com/file/d/1nQ08-XY4zvOLzRX-lGf8EYB5arb7-m1H/view?usp=sharing'>pdf</a>): <br>\n",
    "        $w^{(t+1)}← w^{(t)}+α(dw^{(t)}) $<br>\n",
    "\n",
    "        $b^{(t+1)}←b^{(t)}+α(db^{(t)}) $\n",
    "    - calculate the log loss for train and test with the updated weights (you can check the python assignment 10th question)\n",
    "    - And if you wish, you can compare the previous loss and the current loss, if it is not updating, then\n",
    "        you can stop the training\n",
    "    - append this loss in the list ( this will be used to see how loss is changing for each epoch after the training is over )\n"
   ]
  },
  {
   "cell_type": "markdown",
   "metadata": {
    "colab_type": "text",
    "id": "ZR_HgjgS_wKu"
   },
   "source": [
    "<font color='blue'>Initialize weights </font>"
   ]
  },
  {
   "cell_type": "code",
   "execution_count": 62,
   "metadata": {
    "colab": {},
    "colab_type": "code",
    "id": "GecwYV9fsKZ9"
   },
   "outputs": [],
   "source": [
    "def initialize_weights(dim):\n",
    "    ''' In this function, we will initialize our weights and bias'''\n",
    "    #initialize the weights to zeros array of (1,dim) dimensions\n",
    "    #you use zeros_like function to initialize zero, check this link https://docs.scipy.org/doc/numpy/reference/generated/numpy.zeros_like.html\n",
    "    #initialize bias to zero\n",
    "    \n",
    "    w = np.zeros_like(dim) # initializing weight as array of zeros using numpy\n",
    "    b = 0 # initializing bias as zero\n",
    "\n",
    "    return w,b"
   ]
  },
  {
   "cell_type": "code",
   "execution_count": 63,
   "metadata": {
    "colab": {},
    "colab_type": "code",
    "id": "A7I6uWBRsKc4"
   },
   "outputs": [
    {
     "name": "stdout",
     "output_type": "stream",
     "text": [
      "w = [0. 0. 0. 0. 0. 0. 0. 0. 0. 0. 0. 0. 0. 0. 0.]\n",
      "b = 0\n"
     ]
    }
   ],
   "source": [
    "dim=X_train[0] \n",
    "w,b = initialize_weights(dim)\n",
    "print('w =',(w))\n",
    "print('b =',str(b))"
   ]
  },
  {
   "cell_type": "markdown",
   "metadata": {
    "colab_type": "text",
    "id": "4MI5SAjP9ofN"
   },
   "source": [
    "<font color='cyan'>Grader function - 1 </font>"
   ]
  },
  {
   "cell_type": "code",
   "execution_count": 64,
   "metadata": {
    "colab": {},
    "colab_type": "code",
    "id": "Pv1llH429wG5"
   },
   "outputs": [
    {
     "name": "stdout",
     "output_type": "stream",
     "text": [
      "[-0.57349184 -0.19015688 -0.06584143 -0.86990562 -2.80927706 -1.43345052\n",
      "  0.35862361  0.24627836 -2.25803168 -0.87761289  2.31023199 -0.3484947\n",
      " -2.2575668  -1.93628665  1.65242231]\n",
      "[0. 0. 0. 0. 0. 0. 0. 0. 0. 0. 0. 0. 0. 0. 0.]\n"
     ]
    },
    {
     "data": {
      "text/plain": [
       "True"
      ]
     },
     "execution_count": 64,
     "metadata": {},
     "output_type": "execute_result"
    }
   ],
   "source": [
    "dim=X_train[0] \n",
    "print(dim)\n",
    "w,b = initialize_weights(dim)\n",
    "print(w)\n",
    "def grader_weights(w,b):\n",
    "    assert((len(w)==len(dim)) and b==0 and np.sum(w)==0.0)\n",
    "    return True\n",
    "grader_weights(w,b)"
   ]
  },
  {
   "cell_type": "markdown",
   "metadata": {
    "colab_type": "text",
    "id": "QN83oMWy_5rv"
   },
   "source": [
    "<font color='blue'>Compute sigmoid </font>"
   ]
  },
  {
   "cell_type": "markdown",
   "metadata": {
    "colab_type": "text",
    "id": "qPv4NJuxABgs"
   },
   "source": [
    "$sigmoid(z)= 1/(1+exp(-z))$"
   ]
  },
  {
   "cell_type": "code",
   "execution_count": 65,
   "metadata": {
    "colab": {},
    "colab_type": "code",
    "id": "nAfmQF47_Sd6"
   },
   "outputs": [],
   "source": [
    "def sigmoid(z):\n",
    "    ''' In this function, we will return sigmoid of z'''\n",
    "    # compute sigmoid(z) and return\n",
    "    sig = 1/(1+np.exp(-z))\n",
    "\n",
    "    return sig"
   ]
  },
  {
   "cell_type": "markdown",
   "metadata": {
    "colab_type": "text",
    "id": "9YrGDwg3Ae4m"
   },
   "source": [
    "<font color='cyan'>Grader function - 2</font>"
   ]
  },
  {
   "cell_type": "code",
   "execution_count": 66,
   "metadata": {
    "colab": {},
    "colab_type": "code",
    "id": "P_JASp_NAfK_"
   },
   "outputs": [
    {
     "data": {
      "text/plain": [
       "True"
      ]
     },
     "execution_count": 66,
     "metadata": {},
     "output_type": "execute_result"
    }
   ],
   "source": [
    "def grader_sigmoid(z):\n",
    "    val=sigmoid(z)\n",
    "    assert(val==0.8807970779778823)\n",
    "    return True\n",
    "grader_sigmoid(2)"
   ]
  },
  {
   "cell_type": "markdown",
   "metadata": {
    "colab_type": "text",
    "id": "gS7JXbcrBOFF"
   },
   "source": [
    "<font color='blue'> Compute loss </font>"
   ]
  },
  {
   "cell_type": "markdown",
   "metadata": {
    "colab_type": "text",
    "id": "lfEiS22zBVYy"
   },
   "source": [
    "$log loss = -1*\\frac{1}{n}\\Sigma_{for each Yt,Y_{pred}}(Ytlog10(Y_{pred})+(1-Yt)log10(1-Y_{pred}))$"
   ]
  },
  {
   "cell_type": "code",
   "execution_count": 67,
   "metadata": {
    "colab": {},
    "colab_type": "code",
    "id": "VaFDgsp3sKi6"
   },
   "outputs": [],
   "source": [
    "def logloss(y_true,y_pred):\n",
    "    '''In this function, we will compute log loss '''\n",
    "    temp = 0\n",
    "    loss = 0\n",
    "    n = len(y_true)\n",
    "    for i in range(len(y_true)):\n",
    "#         print(y_true[i])\n",
    "#         print(y_pred[i])\n",
    "        temp = temp + y_true[i]*np.log10(y_pred[i]) + (1-y_true[i])*np.log10(1-y_pred[i])\n",
    "    \n",
    "    loss = -1* (temp/n)\n",
    "    return float(loss)"
   ]
  },
  {
   "cell_type": "markdown",
   "metadata": {
    "colab_type": "text",
    "id": "Zs1BTXVSClBt"
   },
   "source": [
    "<font color='cyan'>Grader function - 3 </font>"
   ]
  },
  {
   "cell_type": "code",
   "execution_count": 68,
   "metadata": {
    "colab": {},
    "colab_type": "code",
    "id": "LzttjvBFCuQ5"
   },
   "outputs": [
    {
     "data": {
      "text/plain": [
       "True"
      ]
     },
     "execution_count": 68,
     "metadata": {},
     "output_type": "execute_result"
    }
   ],
   "source": [
    "def grader_logloss(true,pred):\n",
    "    loss=logloss(true,pred)\n",
    "#     print(loss)\n",
    "#     print(type(loss))\n",
    "    assert(loss==0.07644900402910389)\n",
    "    return True\n",
    "true=[1,1,0,1,0]\n",
    "pred=[0.9,0.8,0.1,0.8,0.2]\n",
    "grader_logloss(true,pred)"
   ]
  },
  {
   "cell_type": "markdown",
   "metadata": {
    "colab_type": "text",
    "id": "tQabIadLCBAB"
   },
   "source": [
    "<font color='blue'>Compute gradient w.r.to  'w' </font>"
   ]
  },
  {
   "cell_type": "markdown",
   "metadata": {
    "colab_type": "text",
    "id": "YTMxiYKaCQgd"
   },
   "source": [
    "$dw^{(t)} = x_n(y_n − σ((w^{(t)})^{T} x_n+b^{t}))- \\frac{λ}{N}w^{(t)}$ <br>"
   ]
  },
  {
   "cell_type": "code",
   "execution_count": 85,
   "metadata": {
    "colab": {},
    "colab_type": "code",
    "id": "NMVikyuFsKo5"
   },
   "outputs": [],
   "source": [
    "def gradient_dw(x,y,w,b,alpha,N):\n",
    "    '''In this function, we will compute the gardient w.r.to w '''\n",
    "    z = np.dot(w.T,x) + b\n",
    "    sigma = 1 / (1 + np.exp(-z))\n",
    "    dw = x*(y - sigma) - ((alpha/N)*w)\n",
    "    return dw"
   ]
  },
  {
   "cell_type": "markdown",
   "metadata": {
    "colab_type": "text",
    "id": "RUFLNqL_GER9"
   },
   "source": [
    "<font color='cyan'>Grader function - 4 </font>"
   ]
  },
  {
   "cell_type": "code",
   "execution_count": 86,
   "metadata": {
    "colab": {},
    "colab_type": "code",
    "id": "WI3xD8ctGEnJ"
   },
   "outputs": [
    {
     "name": "stdout",
     "output_type": "stream",
     "text": [
      "[ 1.03932417 -1.65802126  0.39552179  1.93522773  0.57391643  1.40717219\n",
      "  0.43385535  0.02036643 -0.42413939 -0.99725862 -1.83576236 -0.00725938\n",
      " -1.00531444 -0.03686952  2.77293046]\n",
      "2.613689585\n"
     ]
    },
    {
     "data": {
      "text/plain": [
       "True"
      ]
     },
     "execution_count": 86,
     "metadata": {},
     "output_type": "execute_result"
    }
   ],
   "source": [
    "def grader_dw(x,y,w,b,alpha,N):\n",
    "    grad_dw=gradient_dw(x,y,w,b,alpha,N)\n",
    "    print(grad_dw)\n",
    "    print(np.sum(grad_dw))\n",
    "    assert(np.sum(grad_dw)==2.613689585)\n",
    "    return True\n",
    "grad_x=np.array([-2.07864835,  3.31604252, -0.79104357, -3.87045546, -1.14783286,\n",
    "       -2.81434437, -0.86771071, -0.04073287,  0.84827878,  1.99451725,\n",
    "        3.67152472,  0.01451875,  2.01062888,  0.07373904, -5.54586092])\n",
    "grad_y=0\n",
    "grad_w,grad_b=initialize_weights(grad_x)\n",
    "alpha=0.0001\n",
    "N=len(X_train)\n",
    "grader_dw(grad_x,grad_y,grad_w,grad_b,alpha,N)"
   ]
  },
  {
   "cell_type": "markdown",
   "metadata": {
    "colab_type": "text",
    "id": "LE8g84_GI62n"
   },
   "source": [
    "<font color='blue'>Compute gradient w.r.to 'b' </font>"
   ]
  },
  {
   "cell_type": "markdown",
   "metadata": {
    "colab_type": "text",
    "id": "fHvTYZzZJJ_N"
   },
   "source": [
    "$ db^{(t)} = y_n- σ((w^{(t)})^{T} x_n+b^{t})$"
   ]
  },
  {
   "cell_type": "code",
   "execution_count": 71,
   "metadata": {
    "colab": {},
    "colab_type": "code",
    "id": "0nUf2ft4EZp8"
   },
   "outputs": [],
   "source": [
    " def gradient_db(x,y,w,b):\n",
    "    '''In this function, we will compute gradient w.r.to b '''\n",
    "    z = np.dot(w.T,x) + b\n",
    "    sigma = 1/(1+ np.exp(-z))\n",
    "    db = y-sigma\n",
    "    return db"
   ]
  },
  {
   "cell_type": "markdown",
   "metadata": {
    "colab_type": "text",
    "id": "pbcBzufVG6qk"
   },
   "source": [
    "<font color='cyan'>Grader function - 5 </font>"
   ]
  },
  {
   "cell_type": "code",
   "execution_count": 72,
   "metadata": {
    "colab": {},
    "colab_type": "code",
    "id": "TfFDKmscG5qZ"
   },
   "outputs": [
    {
     "name": "stdout",
     "output_type": "stream",
     "text": [
      "-0.5\n"
     ]
    },
    {
     "data": {
      "text/plain": [
       "True"
      ]
     },
     "execution_count": 72,
     "metadata": {},
     "output_type": "execute_result"
    }
   ],
   "source": [
    "def grader_db(x,y,w,b):\n",
    "    grad_db=gradient_db(x,y,w,b)\n",
    "    print(grad_db)\n",
    "    assert(grad_db==-0.5)\n",
    "    return True\n",
    "grad_x=np.array([-2.07864835,  3.31604252, -0.79104357, -3.87045546, -1.14783286,\n",
    "       -2.81434437, -0.86771071, -0.04073287,  0.84827878,  1.99451725,\n",
    "        3.67152472,  0.01451875,  2.01062888,  0.07373904, -5.54586092])\n",
    "grad_y=0\n",
    "grad_w,grad_b=initialize_weights(grad_x)\n",
    "alpha=0.0001\n",
    "N=len(X_train)\n",
    "grader_db(grad_x,grad_y,grad_w,grad_b)"
   ]
  },
  {
   "cell_type": "markdown",
   "metadata": {
    "colab_type": "text",
    "id": "TCK0jY_EOvyU"
   },
   "source": [
    "<font color='blue'> Implementing logistic regression</font>"
   ]
  },
  {
   "cell_type": "code",
   "execution_count": null,
   "metadata": {},
   "outputs": [],
   "source": []
  },
  {
   "cell_type": "code",
   "execution_count": 73,
   "metadata": {
    "colab": {},
    "colab_type": "code",
    "id": "dmAdc5ejEZ25"
   },
   "outputs": [],
   "source": [
    "def train(X_train,y_train,X_test,y_test,epochs,alpha,eta0):\n",
    "    ''' In this function, we will implement logistic regression'''\n",
    "    #Here eta0 is learning rate\n",
    "    #implement the code as follows\n",
    "    # initalize the weights (call the initialize_weights(X_train[0]) function)\n",
    "    # for every epoch\n",
    "        # for every data point(X_train,y_train)\n",
    "           #compute gradient w.r.to w (call the gradient_dw() function)\n",
    "           #compute gradient w.r.to b (call the gradient_db() function)\n",
    "           #update w, b\n",
    "        # predict the output of x_train[for all data points in X_train] using w,b\n",
    "        #compute the loss between predicted and actual values (call the loss function)\n",
    "        # store all the train loss values in a list\n",
    "        # predict the output of x_test[for all data points in X_test] using w,b\n",
    "        #compute the loss between predicted and actual values (call the loss function)\n",
    "        # store all the test loss values in a list\n",
    "        # you can also compare previous loss and current loss, if loss is not updating then stop the process and return w,b\n",
    "\n",
    "    \n",
    "    # initializing weight and bias\n",
    "    w, b = initialize_weights(X_train[0])\n",
    "    \n",
    "    # No.of data points\n",
    "    N = len(X_train)\n",
    "    \n",
    "    # lists to store losses for each epoch\n",
    "    train_losses = []\n",
    "    test_losses = []\n",
    "    \n",
    "    for e in range(epochs): # for each epoch\n",
    "        \n",
    "        for i in range(len(X_train)): # for each datapoint\n",
    "            \n",
    "            # find gradient of weight and biases\n",
    "            dw = gradient_dw(X_train[i], y_train[i], w, b, alpha, N) \n",
    "            db = gradient_db(X_train[i], y_train[i], w, b)\n",
    "\n",
    "            # update weight and biases\n",
    "            w = w + eta0*dw\n",
    "            b = b + eta0*db\n",
    "\n",
    "        ###############################################################################\n",
    "        ##### calculate train loss for total data points using updataed w and b #######\n",
    "        y_train_pred = []\n",
    "        for i in range(len(X_train)):\n",
    "            x = X_train[i]\n",
    "            z = np.dot(w.T,x) + b\n",
    "            y_predicted = sigmoid(z)\n",
    "            y_train_pred.append(y_predicted)\n",
    "\n",
    "        train_loss = logloss(y_train, y_train_pred)\n",
    "        train_losses.append(train_loss)\n",
    "        ###############################################################################\n",
    "\n",
    "        ###############################################################################\n",
    "        ### Calculate test loss for total data points using updated w and b ###########\n",
    "        y_test_pred = []  \n",
    "        for i in range(len(X_test)):\n",
    "            x = X_test[i]\n",
    "            z = np.dot(w.T,x) + b\n",
    "            y_predicted = sigmoid(z)\n",
    "            y_test_pred.append(y_predicted)\n",
    "\n",
    "        test_loss = logloss(y_test, y_test_pred)\n",
    "        test_losses.append(test_loss)\n",
    "        ###############################################################################\n",
    "        \n",
    "        ########################### print details of each epoch #######################\n",
    "        print(\"epoch :\", e+1, \" Train loss: \",train_loss, \" Test loss: \",test_loss)\n",
    "        \n",
    "        ###### Check, if there is no minimization in test loss then return ############\n",
    "#         if e!=0 and (test_losses[e]-test_losses[e-1]) < 0.00001: # if not first epoch\n",
    "#                 return w, b\n",
    "        \n",
    "    return w,b,train_losses,test_losses"
   ]
  },
  {
   "cell_type": "code",
   "execution_count": 74,
   "metadata": {
    "colab": {},
    "colab_type": "code",
    "id": "sUquz7LFEZ6E"
   },
   "outputs": [
    {
     "name": "stdout",
     "output_type": "stream",
     "text": [
      "epoch : 1  Train loss:  0.17545748442854608  Test loss:  0.1759547442321374\n",
      "epoch : 2  Train loss:  0.16867157050333045  Test loss:  0.16939931358951013\n",
      "epoch : 3  Train loss:  0.1663916799246292  Test loss:  0.16720591194885742\n",
      "epoch : 4  Train loss:  0.16536827537403162  Test loss:  0.1662171779933495\n",
      "epoch : 5  Train loss:  0.16485707459547083  Test loss:  0.16571959463978406\n",
      "epoch : 6  Train loss:  0.1645882001292827  Test loss:  0.1654555709550864\n",
      "epoch : 7  Train loss:  0.16444271323364382  Test loss:  0.1653113502079951\n",
      "epoch : 8  Train loss:  0.16436263615826985  Test loss:  0.1652311685317927\n",
      "epoch : 9  Train loss:  0.16431806946667746  Test loss:  0.1651860589844903\n",
      "epoch : 10  Train loss:  0.1642930737413251  Test loss:  0.16516045651849884\n",
      "epoch : 11  Train loss:  0.1642789743093407  Test loss:  0.16514582028704106\n",
      "epoch : 12  Train loss:  0.16427098545835503  Test loss:  0.16513739835366367\n",
      "epoch : 13  Train loss:  0.1642664419100352  Test loss:  0.16513252084404828\n",
      "epoch : 14  Train loss:  0.16426384911424854  Test loss:  0.1651296765934633\n",
      "epoch : 15  Train loss:  0.16426236468266475  Test loss:  0.1651280051869749\n",
      "epoch : 16  Train loss:  0.16426151190514926  Test loss:  0.16512701421034165\n",
      "epoch : 17  Train loss:  0.16426102013167446  Test loss:  0.16512642050180534\n",
      "epoch : 18  Train loss:  0.1642607352750557  Test loss:  0.16512606043934003\n",
      "epoch : 19  Train loss:  0.1642605693884229  Test loss:  0.16512583897905464\n",
      "epoch : 20  Train loss:  0.16426047215122602  Test loss:  0.16512570058201864\n",
      "epoch : 21  Train loss:  0.16426041469677802  Test loss:  0.16512561256556316\n",
      "epoch : 22  Train loss:  0.1642603804172862  Test loss:  0.16512555553536112\n",
      "epoch : 23  Train loss:  0.16426035972510467  Test loss:  0.16512551786674262\n",
      "epoch : 24  Train loss:  0.1642603470622927  Test loss:  0.1651254925088858\n",
      "epoch : 25  Train loss:  0.16426033919038657  Test loss:  0.1651254751256673\n",
      "epoch : 26  Train loss:  0.1642603342104248  Test loss:  0.16512546300819161\n",
      "epoch : 27  Train loss:  0.1642603310001301  Test loss:  0.16512545443448257\n",
      "epoch : 28  Train loss:  0.16426032888986594  Test loss:  0.16512544828939998\n",
      "epoch : 29  Train loss:  0.16426032747541439  Test loss:  0.16512544383683098\n",
      "epoch : 30  Train loss:  0.16426032650945105  Test loss:  0.16512544058152992\n",
      "epoch : 31  Train loss:  0.16426032583825456  Test loss:  0.16512543818419045\n",
      "epoch : 32  Train loss:  0.16426032536459445  Test loss:  0.16512543640841265\n",
      "epoch : 33  Train loss:  0.16426032502581867  Test loss:  0.16512543508700558\n",
      "epoch : 34  Train loss:  0.16426032478075378  Test loss:  0.16512543410018002\n",
      "epoch : 35  Train loss:  0.16426032460180723  Test loss:  0.16512543336117225\n",
      "epoch : 36  Train loss:  0.16426032447014866  Test loss:  0.16512543280655914\n",
      "epoch : 37  Train loss:  0.1642603243726961  Test loss:  0.16512543238964958\n",
      "epoch : 38  Train loss:  0.16426032430021448  Test loss:  0.16512543207585434\n",
      "epoch : 39  Train loss:  0.164260324246105  Test loss:  0.16512543183944392\n",
      "epoch : 40  Train loss:  0.16426032420559727  Test loss:  0.1651254316612056\n",
      "epoch : 41  Train loss:  0.1642603241752011  Test loss:  0.165125431526748\n",
      "epoch : 42  Train loss:  0.16426032415235478  Test loss:  0.16512543142527641\n",
      "epoch : 43  Train loss:  0.16426032413516095  Test loss:  0.16512543134867216\n",
      "epoch : 44  Train loss:  0.16426032412221028  Test loss:  0.16512543129082813\n",
      "epoch : 45  Train loss:  0.16426032411244418  Test loss:  0.16512543124714216\n",
      "epoch : 46  Train loss:  0.16426032410507813  Test loss:  0.16512543121414358\n",
      "epoch : 47  Train loss:  0.16426032409951882  Test loss:  0.1651254311892149\n",
      "epoch : 48  Train loss:  0.1642603240953229  Test loss:  0.1651254311703816\n",
      "epoch : 49  Train loss:  0.16426032409215466  Test loss:  0.16512543115615208\n",
      "epoch : 50  Train loss:  0.16426032408976063  Test loss:  0.16512543114540162\n"
     ]
    }
   ],
   "source": [
    "alpha=0.0001\n",
    "eta0=0.0001\n",
    "N=len(X_train)\n",
    "epochs=50\n",
    "w_,b_, train_loss_, test_loss_=train(X_train,y_train,X_test,y_test,epochs,alpha,eta0)"
   ]
  },
  {
   "cell_type": "markdown",
   "metadata": {},
   "source": [
    "<p style=\"font-family:'Segoe UI';font-size:18px;color:blue\"><b>Plotting train and test loss</b></p>"
   ]
  },
  {
   "cell_type": "code",
   "execution_count": 75,
   "metadata": {},
   "outputs": [
    {
     "data": {
      "image/png": "[encoded data removed]",
      "text/plain": [
       "<Figure size 432x288 with 1 Axes>"
      ]
     },
     "metadata": {
      "needs_background": "light"
     },
     "output_type": "display_data"
    }
   ],
   "source": [
    "import matplotlib.pyplot as plt\n",
    "epoch = range(epochs)\n",
    "plt.plot(epoch, train_loss_, 'r', label='Training loss')\n",
    "plt.plot(epoch, test_loss_, 'g', label='Test loss')\n",
    "plt.xlabel('Epochs')\n",
    "plt.ylabel('Loss')\n",
    "plt.title('Training and Test loss')\n",
    "plt.legend()\n",
    "plt.show()"
   ]
  },
  {
   "cell_type": "code",
   "execution_count": null,
   "metadata": {},
   "outputs": [],
   "source": []
  },
  {
   "cell_type": "markdown",
   "metadata": {},
   "source": [
    "<p style=\"color:blue;font-family:'Segoe UI';font-size:18px\"><b>Training with loss comparison</b></p>"
   ]
  },
  {
   "cell_type": "code",
   "execution_count": 76,
   "metadata": {},
   "outputs": [],
   "source": [
    "def train(X_train,y_train,X_test,y_test,epochs,alpha,eta0):\n",
    "    ''' In this function, we will implement logistic regression'''\n",
    "    #Here eta0 is learning rate\n",
    "    #implement the code as follows\n",
    "    # initalize the weights (call the initialize_weights(X_train[0]) function)\n",
    "    # for every epoch\n",
    "        # for every data point(X_train,y_train)\n",
    "           #compute gradient w.r.to w (call the gradient_dw() function)\n",
    "           #compute gradient w.r.to b (call the gradient_db() function)\n",
    "           #update w, b\n",
    "        # predict the output of x_train[for all data points in X_train] using w,b\n",
    "        #compute the loss between predicted and actual values (call the loss function)\n",
    "        # store all the train loss values in a list\n",
    "        # predict the output of x_test[for all data points in X_test] using w,b\n",
    "        #compute the loss between predicted and actual values (call the loss function)\n",
    "        # store all the test loss values in a list\n",
    "        # you can also compare previous loss and current loss, if loss is not updating then stop the process and return w,b\n",
    "\n",
    "    \n",
    "    # initializing weight and bias\n",
    "    w, b = initialize_weights(X_train[0])\n",
    "    \n",
    "    # No.of data points\n",
    "    N = len(X_train)\n",
    "    \n",
    "    # lists to store losses for each epoch\n",
    "    train_losses = []\n",
    "    test_losses = []\n",
    "    \n",
    "    epoch_no=0\n",
    "    for e in range(epochs): # for each epoch\n",
    "        epoch_no+=1 #  update the epoch_no\n",
    "        for i in range(len(X_train)): # for each datapoint\n",
    "            \n",
    "            # find gradient of weight and biases\n",
    "            dw = gradient_dw(X_train[i], y_train[i], w, b, alpha, N) \n",
    "            db = gradient_db(X_train[i], y_train[i], w, b)\n",
    "\n",
    "            # update weight and biases\n",
    "            w = w + eta0*dw\n",
    "            b = b + eta0*db\n",
    "\n",
    "        ###############################################################################\n",
    "        ##### calculate train loss for total data points using updataed w and b #######\n",
    "        y_train_pred = []\n",
    "        for i in range(len(X_train)):\n",
    "            x = X_train[i]\n",
    "            z = np.dot(w.T,x) + b\n",
    "            y_predicted = sigmoid(z)\n",
    "            y_train_pred.append(y_predicted)\n",
    "\n",
    "        train_loss = logloss(y_train, y_train_pred)\n",
    "        train_losses.append(train_loss)\n",
    "        ###############################################################################\n",
    "\n",
    "        ###############################################################################\n",
    "        ### Calculate test loss for total data points using updated w and b ###########\n",
    "        y_test_pred = []  \n",
    "        for i in range(len(X_test)):\n",
    "            x = X_test[i]\n",
    "            z = np.dot(w.T,x) + b\n",
    "            y_predicted = sigmoid(z)\n",
    "            y_test_pred.append(y_predicted)\n",
    "\n",
    "        test_loss = logloss(y_test, y_test_pred)\n",
    "        test_losses.append(test_loss)\n",
    "        ###############################################################################\n",
    "        \n",
    "        ########################### print details of each epoch #######################\n",
    "        print(\"epoch :\", e+1, \" Train loss: \",train_loss, \" Test loss: \",test_loss)\n",
    "        \n",
    "        ###### Check, if there is no minimization in test loss and if loss start increasing then return ############\n",
    "        if e!=0 and (test_losses[e]-test_losses[e-1]) > 0.0 : # if not first epoch\n",
    "                return w, b,train_losses,test_losses,epoch_no\n",
    "        \n",
    "    return w,b,train_losses,test_losses,epoch_no"
   ]
  },
  {
   "cell_type": "code",
   "execution_count": 77,
   "metadata": {},
   "outputs": [
    {
     "name": "stdout",
     "output_type": "stream",
     "text": [
      "epoch : 1  Train loss:  0.17545748442854608  Test loss:  0.1759547442321374\n",
      "epoch : 2  Train loss:  0.16867157050333045  Test loss:  0.16939931358951013\n",
      "epoch : 3  Train loss:  0.1663916799246292  Test loss:  0.16720591194885742\n",
      "epoch : 4  Train loss:  0.16536827537403162  Test loss:  0.1662171779933495\n",
      "epoch : 5  Train loss:  0.16485707459547083  Test loss:  0.16571959463978406\n",
      "epoch : 6  Train loss:  0.1645882001292827  Test loss:  0.1654555709550864\n",
      "epoch : 7  Train loss:  0.16444271323364382  Test loss:  0.1653113502079951\n",
      "epoch : 8  Train loss:  0.16436263615826985  Test loss:  0.1652311685317927\n",
      "epoch : 9  Train loss:  0.16431806946667746  Test loss:  0.1651860589844903\n",
      "epoch : 10  Train loss:  0.1642930737413251  Test loss:  0.16516045651849884\n",
      "epoch : 11  Train loss:  0.1642789743093407  Test loss:  0.16514582028704106\n",
      "epoch : 12  Train loss:  0.16427098545835503  Test loss:  0.16513739835366367\n",
      "epoch : 13  Train loss:  0.1642664419100352  Test loss:  0.16513252084404828\n",
      "epoch : 14  Train loss:  0.16426384911424854  Test loss:  0.1651296765934633\n",
      "epoch : 15  Train loss:  0.16426236468266475  Test loss:  0.1651280051869749\n",
      "epoch : 16  Train loss:  0.16426151190514926  Test loss:  0.16512701421034165\n",
      "epoch : 17  Train loss:  0.16426102013167446  Test loss:  0.16512642050180534\n",
      "epoch : 18  Train loss:  0.1642607352750557  Test loss:  0.16512606043934003\n",
      "epoch : 19  Train loss:  0.1642605693884229  Test loss:  0.16512583897905464\n",
      "epoch : 20  Train loss:  0.16426047215122602  Test loss:  0.16512570058201864\n",
      "epoch : 21  Train loss:  0.16426041469677802  Test loss:  0.16512561256556316\n",
      "epoch : 22  Train loss:  0.1642603804172862  Test loss:  0.16512555553536112\n",
      "epoch : 23  Train loss:  0.16426035972510467  Test loss:  0.16512551786674262\n",
      "epoch : 24  Train loss:  0.1642603470622927  Test loss:  0.1651254925088858\n",
      "epoch : 25  Train loss:  0.16426033919038657  Test loss:  0.1651254751256673\n",
      "epoch : 26  Train loss:  0.1642603342104248  Test loss:  0.16512546300819161\n",
      "epoch : 27  Train loss:  0.1642603310001301  Test loss:  0.16512545443448257\n",
      "epoch : 28  Train loss:  0.16426032888986594  Test loss:  0.16512544828939998\n",
      "epoch : 29  Train loss:  0.16426032747541439  Test loss:  0.16512544383683098\n",
      "epoch : 30  Train loss:  0.16426032650945105  Test loss:  0.16512544058152992\n",
      "epoch : 31  Train loss:  0.16426032583825456  Test loss:  0.16512543818419045\n",
      "epoch : 32  Train loss:  0.16426032536459445  Test loss:  0.16512543640841265\n",
      "epoch : 33  Train loss:  0.16426032502581867  Test loss:  0.16512543508700558\n",
      "epoch : 34  Train loss:  0.16426032478075378  Test loss:  0.16512543410018002\n",
      "epoch : 35  Train loss:  0.16426032460180723  Test loss:  0.16512543336117225\n",
      "epoch : 36  Train loss:  0.16426032447014866  Test loss:  0.16512543280655914\n",
      "epoch : 37  Train loss:  0.1642603243726961  Test loss:  0.16512543238964958\n",
      "epoch : 38  Train loss:  0.16426032430021448  Test loss:  0.16512543207585434\n",
      "epoch : 39  Train loss:  0.164260324246105  Test loss:  0.16512543183944392\n",
      "epoch : 40  Train loss:  0.16426032420559727  Test loss:  0.1651254316612056\n",
      "epoch : 41  Train loss:  0.1642603241752011  Test loss:  0.165125431526748\n",
      "epoch : 42  Train loss:  0.16426032415235478  Test loss:  0.16512543142527641\n",
      "epoch : 43  Train loss:  0.16426032413516095  Test loss:  0.16512543134867216\n",
      "epoch : 44  Train loss:  0.16426032412221028  Test loss:  0.16512543129082813\n",
      "epoch : 45  Train loss:  0.16426032411244418  Test loss:  0.16512543124714216\n",
      "epoch : 46  Train loss:  0.16426032410507813  Test loss:  0.16512543121414358\n",
      "epoch : 47  Train loss:  0.16426032409951882  Test loss:  0.1651254311892149\n",
      "epoch : 48  Train loss:  0.1642603240953229  Test loss:  0.1651254311703816\n",
      "epoch : 49  Train loss:  0.16426032409215466  Test loss:  0.16512543115615208\n",
      "epoch : 50  Train loss:  0.16426032408976063  Test loss:  0.16512543114540162\n"
     ]
    }
   ],
   "source": [
    "alpha=0.0001\n",
    "eta0=0.0001\n",
    "N=len(X_train)\n",
    "epochs=50\n",
    "w,b,train_loss,test_loss,e=train(X_train,y_train,X_test,y_test,epochs,alpha,eta0)"
   ]
  },
  {
   "cell_type": "code",
   "execution_count": 78,
   "metadata": {},
   "outputs": [
    {
     "data": {
      "image/png": "[encoded data removed]",
      "text/plain": [
       "<Figure size 432x288 with 1 Axes>"
      ]
     },
     "metadata": {
      "needs_background": "light"
     },
     "output_type": "display_data"
    }
   ],
   "source": [
    "import matplotlib.pyplot as plt\n",
    "epoch = range(1,e+1)\n",
    "plt.plot(epoch, train_loss, 'r', label='Training loss')\n",
    "plt.plot(epoch, test_loss, 'g', label='Test loss')\n",
    "plt.xlabel('Epochs')\n",
    "plt.ylabel('Loss')\n",
    "plt.title('Training and Test loss(terminate if loss start increasing)')\n",
    "plt.legend()\n",
    "plt.grid()\n",
    "plt.show()"
   ]
  },
  {
   "cell_type": "code",
   "execution_count": null,
   "metadata": {},
   "outputs": [],
   "source": []
  },
  {
   "cell_type": "markdown",
   "metadata": {
    "colab_type": "text",
    "id": "l4Zf_wPARlwY"
   },
   "source": [
    "<font color='red'>Goal of assignment</font>"
   ]
  },
  {
   "cell_type": "markdown",
   "metadata": {
    "colab_type": "text",
    "id": "l3eF_VSPSH2z"
   },
   "source": [
    "Compare your implementation and SGDClassifier's the weights and intercept, make sure they are as close as possible i.e difference should be in terms of 10^-3"
   ]
  },
  {
   "cell_type": "code",
   "execution_count": 79,
   "metadata": {
    "colab": {},
    "colab_type": "code",
    "id": "nx8Rs9rfEZ1R"
   },
   "outputs": [
    {
     "data": {
      "text/plain": [
       "(array([[-0.00642552,  0.00755955,  0.00012041, -0.00335043, -0.01309563,\n",
       "          0.00978314,  0.00724319,  0.00418409,  0.0125563 , -0.00701162,\n",
       "          0.00169655, -0.00480346, -0.00173041,  0.00056208,  0.00032075]]),\n",
       " array([-0.03911387]))"
      ]
     },
     "execution_count": 79,
     "metadata": {},
     "output_type": "execute_result"
    }
   ],
   "source": [
    "# these are the results we got after we implemented sgd and found the optimal weights and intercept\n",
    "w-clf.coef_, b-clf.intercept_"
   ]
  },
  {
   "cell_type": "code",
   "execution_count": 80,
   "metadata": {},
   "outputs": [
    {
     "data": {
      "text/plain": [
       "(array([[-0.00642552,  0.00755955,  0.00012041, -0.00335043, -0.01309563,\n",
       "          0.00978314,  0.00724319,  0.00418409,  0.0125563 , -0.00701162,\n",
       "          0.00169655, -0.00480346, -0.00173041,  0.00056208,  0.00032075]]),\n",
       " array([-0.03911387]))"
      ]
     },
     "execution_count": 80,
     "metadata": {},
     "output_type": "execute_result"
    }
   ],
   "source": [
    "# weight and bias of 50 epochs\n",
    "w_-clf.coef_, b_-clf.intercept_"
   ]
  },
  {
   "cell_type": "markdown",
   "metadata": {
    "colab_type": "text",
    "id": "230YbSgNSUrQ"
   },
   "source": [
    "<font color='blue'>Plot epoch number vs train , test loss </font>\n",
    "\n",
    "* epoch number on X-axis\n",
    "* loss on Y-axis"
   ]
  },
  {
   "cell_type": "markdown",
   "metadata": {
    "colab": {},
    "colab_type": "code",
    "id": "1O6GrRt7UeCJ"
   },
   "source": [
    "<p style=\"font-family:'Segoe UI';font-size:16px;color:green\"><b>Answer:</b> I have plotted above</p>"
   ]
  },
  {
   "cell_type": "code",
   "execution_count": null,
   "metadata": {},
   "outputs": [],
   "source": []
  },
  {
   "cell_type": "code",
   "execution_count": 81,
   "metadata": {
    "colab": {},
    "colab_type": "code",
    "id": "FUN8puFoEZtU"
   },
   "outputs": [
    {
     "name": "stdout",
     "output_type": "stream",
     "text": [
      "0.9522133333333334\n",
      "0.95\n"
     ]
    }
   ],
   "source": [
    "def pred(w,b, X):\n",
    "    N = len(X)\n",
    "    predict = []\n",
    "    for i in range(N):\n",
    "        z=np.dot(w,X[i])+b\n",
    "        if sigmoid(z) >= 0.5: # sigmoid(w,x,b) returns 1/(1+exp(-(dot(x,w)+b)))\n",
    "            predict.append(1)\n",
    "        else:\n",
    "            predict.append(0)\n",
    "    return np.array(predict)\n",
    "print(1-np.sum(y_train - pred(w,b,X_train))/len(X_train))\n",
    "print(1-np.sum(y_test  - pred(w,b,X_test))/len(X_test))"
   ]
  },
  {
   "cell_type": "code",
   "execution_count": null,
   "metadata": {
    "colab": {},
    "colab_type": "code",
    "id": "-k28U1xDsLIO"
   },
   "outputs": [],
   "source": []
  },
  {
   "cell_type": "markdown",
   "metadata": {},
   "source": [
    "#### Accuracy with 50 epochs"
   ]
  },
  {
   "cell_type": "code",
   "execution_count": 82,
   "metadata": {
    "colab": {},
    "colab_type": "code",
    "id": "RMokBfs3-2PY"
   },
   "outputs": [
    {
     "name": "stdout",
     "output_type": "stream",
     "text": [
      "0.9522133333333334\n",
      "0.95\n"
     ]
    }
   ],
   "source": [
    "print(1-np.sum(y_train - pred(w_,b_,X_train))/len(X_train))\n",
    "print(1-np.sum(y_test  - pred(w_,b_,X_test))/len(X_test))"
   ]
  },
  {
   "cell_type": "code",
   "execution_count": null,
   "metadata": {},
   "outputs": [],
   "source": []
  },
  {
   "cell_type": "code",
   "execution_count": null,
   "metadata": {},
   "outputs": [],
   "source": []
  }
 ],
 "metadata": {
  "colab": {
   "collapsed_sections": [],
   "name": "Assignment.ipynb",
   "provenance": []
  },
  "kernelspec": {
   "display_name": "Python 3",
   "language": "python",
   "name": "python3"
  },
  "language_info": {
   "codemirror_mode": {
    "name": "ipython",
    "version": 3
   },
   "file_extension": ".py",
   "mimetype": "text/x-python",
   "name": "python",
   "nbconvert_exporter": "python",
   "pygments_lexer": "ipython3",
   "version": "3.8.3"
  }
 },
 "nbformat": 4,
 "nbformat_minor": 1
}
